{
 "cells": [
  {
   "cell_type": "markdown",
   "metadata": {},
   "source": [
    "# Cookie Security"
   ]
  },
  {
   "cell_type": "markdown",
   "metadata": {},
   "source": [
    "Cookies store information on client side, without bothering the databases on the server side. The storage is usually very small and temporary (with a TTL). The current standard for Internet cookies is [RFC 6265](https://www.ietf.org/rfc/rfc6265.txt). HttpOnly is a cookie standard introduced by Microsoft in 2002, which protects against XSS, in particular to prevent ability of Javascript to read the cookie info and send to a remote server. \n",
    "\n",
    "### Cookie vs. Password\n",
    "session cookies are used for web user authentication, just like password. In some scenarios, however, cookies are more __valuable for attackers__ than password.\n",
    "* Some websites use multi-factor authentication for password: Gmail for example uses password and (optionally) text-message authentication.\n",
    "* Facebook/Google/etc will capture new login attempt and send to user the alarm, but a session cookie login won't trigger this event.\n"
   ]
  },
  {
   "cell_type": "markdown",
   "metadata": {},
   "source": [
    "### Browser Cookie Storage: Info \n",
    "Almost all browsers store cookies as __plaintext__. <br> \n",
    "Firefox stores cookies in an SQLite database, so potentially one can navigate through the database and find cookies. <br>\n",
    "Internet Explorer: \n",
    "* Stores cookies as __plaintext__ \n",
    "* The folder varies depending on IE version\n",
    "* Filenames are random: need to read the files \n",
    "\n",
    "Chromium: encrypts cookies in recent versions (implementation and security vary by platform); stores cookies in SQLite database, with BLOB field for encrypted cookie values. <br> \n",
    "Linux has __no keychain__. So Chromium on Linux encrypts cookies with __AES__, with hardcoded key and salt. It can be decrypted on any machine (directly from the source code and using chromium libraries) <br> \n",
    "Chromium on Mac is like state-of-art for Cookie storage. \n",
    "* it stores an encryption key in the system keychain\n",
    "    * if no key exists, a random one is generated \n",
    "* AES is used to encrypt/decrypt.\n",
    "* Keychain prompts when accessed from unsigned apps "
   ]
  },
  {
   "cell_type": "markdown",
   "metadata": {},
   "source": [
    "### Defence examples \n",
    "__Application Firewall__:\n",
    "* Block/Allow (server, port) pairs for each application \n",
    "* WAF can be bypassed with tricks \n",
    "\n",
    "__SELinux__:\n",
    "* finer grained access control to prevent user privilege abuse\n",
    "\n",
    "__Disk Encryption__.\n",
    "\n",
    "__Server side__:\n",
    "* Tie a session cookie to a login IP \n",
    "* Warn users, rather than forcing them to log in again. (you are logged in from x,y countries, etc)  \n",
    "\n",
    "\n",
    "#### The client side Cookie security is very limited, and is therefore a precious target for attackers (it certainly needs improvements)\n"
   ]
  },
  {
   "cell_type": "code",
   "execution_count": null,
   "metadata": {
    "collapsed": true
   },
   "outputs": [],
   "source": []
  }
 ],
 "metadata": {
  "kernelspec": {
   "display_name": "Python 3",
   "language": "python",
   "name": "python3"
  },
  "language_info": {
   "codemirror_mode": {
    "name": "ipython",
    "version": 3
   },
   "file_extension": ".py",
   "mimetype": "text/x-python",
   "name": "python",
   "nbconvert_exporter": "python",
   "pygments_lexer": "ipython3",
   "version": "3.6.3"
  }
 },
 "nbformat": 4,
 "nbformat_minor": 2
}
