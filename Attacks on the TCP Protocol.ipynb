{
 "cells": [
  {
   "cell_type": "markdown",
   "metadata": {},
   "source": [
    "# Attack on TCP\n",
    "\n",
    "### Sample TCP program (client and server) \n",
    "```c\n",
    "#include <stdio.h>\n",
    "#include <string.h>\n",
    "#include <unistd.h> \n",
    "#include <sys/socket.h>\n",
    "#include <netinet/ip.h>\n",
    "\n",
    "int main() \n",
    "{\n",
    "    // step 1: create a socket\n",
    "    int sockfd = socket(AF_INET, SOCK_STREAM, 0); \n",
    "    \n",
    "    // step 2: set the destination information \n",
    "    struct sockaddr_in dest;\n",
    "    memset(&dest, 0, sizeof(struct sockaddr_in));\n",
    "    dest.sin_family = AF_INET;\n",
    "    dest.sin_addr.s_addr = inet_addr(\"10.11.0.45\");\n",
    "    dest.sin_port = htons(9090); \n",
    "    \n",
    "    // step3: connect to the server\n",
    "    connect(sockfd, (struct sockaddr *) &dest, sizeof(struct sockaddr_in)); \n",
    "    \n",
    "    // step4: send data to the server\n",
    "    char *buffer1 = \"hello server!\\n\");\n",
    "    char *buffer2 = \"hello again!\\n\");\n",
    "    write(sockfd, buffer1, strlen(buffer1)); \n",
    "    \n",
    "    write(sockfd, buffer2, strlen(buffer2)); \n",
    "    \n",
    "    // step5: close the connection \n",
    "    close(sockfd);\n",
    "    return 0; \n",
    "}\n",
    "```\n",
    "\n"
   ]
  }
 ],
 "metadata": {
  "kernelspec": {
   "display_name": "Python 3",
   "language": "python",
   "name": "python3"
  },
  "language_info": {
   "codemirror_mode": {
    "name": "ipython",
    "version": 3
   },
   "file_extension": ".py",
   "mimetype": "text/x-python",
   "name": "python",
   "nbconvert_exporter": "python",
   "pygments_lexer": "ipython3",
   "version": "3.5.0"
  }
 },
 "nbformat": 4,
 "nbformat_minor": 2
}
