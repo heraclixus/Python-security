{
 "cells": [
  {
   "cell_type": "markdown",
   "metadata": {},
   "source": [
    "# Race Condition Vulnerabilities\n",
    "\n",
    "The following PHP code introduces the example of a race condition: in banking system, when two withdraw of \\$90 requests take place in a short interval, instead of accepting one and rejecting the other, the system could potentially withdraw \\$180, which is undefined behavior. \n",
    "\n",
    "```php\n",
    "function withdraw($amount)\n",
    "{\n",
    "    $balance = getBalance();\n",
    "    if ($amount <= $balance) {\n",
    "        $balance = $balance - $amount;\n",
    "        echo \"You have withdrawn: $amount\";\n",
    "        saveBalance($balance);\n",
    "    }\n",
    "    else {\n",
    "        echo \"Insufficient Fund.\"; \n",
    "    }\n",
    "}\n",
    "```"
   ]
  },
  {
   "cell_type": "code",
   "execution_count": null,
   "metadata": {},
   "outputs": [],
   "source": []
  }
 ],
 "metadata": {
  "kernelspec": {
   "display_name": "Python 3",
   "language": "python",
   "name": "python3"
  },
  "language_info": {
   "codemirror_mode": {
    "name": "ipython",
    "version": 3
   },
   "file_extension": ".py",
   "mimetype": "text/x-python",
   "name": "python",
   "nbconvert_exporter": "python",
   "pygments_lexer": "ipython3",
   "version": "3.5.0"
  }
 },
 "nbformat": 4,
 "nbformat_minor": 2
}
