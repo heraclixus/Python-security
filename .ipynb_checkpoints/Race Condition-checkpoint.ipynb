{
 "cells": [
  {
   "cell_type": "markdown",
   "metadata": {},
   "source": [
    "# Race Condition Vulnerabilities\n",
    "\n",
    "\n",
    "### Three Examples \n",
    "#### Example 1\n",
    "The following PHP code introduces the example of a race condition: in banking system, when two withdraw of \\$90 requests take place in a short interval, instead of accepting one and rejecting the other, the system could potentially withdraw \\$180, which is undefined behavior. \n",
    "\n",
    "```php\n",
    "function withdraw($amount)\n",
    "{\n",
    "    $balance = getBalance();\n",
    "    if ($amount <= $balance) {\n",
    "        $balance = $balance - $amount;\n",
    "        echo \"You have withdrawn: $amount\";\n",
    "        saveBalance($balance);\n",
    "    }\n",
    "    else {\n",
    "        echo \"Insufficient Fund.\"; \n",
    "    }\n",
    "}\n",
    "```"
   ]
  },
  {
   "cell_type": "markdown",
   "metadata": {},
   "source": [
    "__Time of Check Time of Use__: A special type of race condition in software that occurs when checking a condition before using a resource. The condition could change between time of use and time of check. <br>\n",
    "__Dirty COW__: allows attacker to modify any protected file, as only as file is readable to the attacker. It is able to be exploited for privilege escalation. Affects Linux and Android."
   ]
  },
  {
   "cell_type": "markdown",
   "metadata": {},
   "source": [
    "#### Example 2\n",
    "The property of a SET-UID program is that when it is executed by a normal user, its _effective UID_ is root, but real UID is not root. The following program is SET-UID program and wants to write to /tmp, which is globally writable. The SET-UID program has root privilege to write to any files, but to enforce that only the real user can write to the file, the program checks if the real UID is correct. This is done through `access()` call. The program thus checks if the real user has the privilege to write to the file `/tmp/x`. \n",
    "```c\n",
    "if (!access(\"/tmp/x\", W_OK)) \n",
    "{\n",
    "    f = open(\"/tmp/x\", O_WRITE);\n",
    "    write_to_file(f); \n",
    "}\n",
    "else \n",
    "{\n",
    "    fprintf(stderr, \"Permission denied\\n\");\n",
    "}\n",
    "```\n",
    "`open()` system call checks the effective UID of the program, whereas `access()` checks the real user ID for the program. The code on the system call `open()` from execution. However, there is a window between the time when file is checked and time when file is opened. <br>\n",
    "To make use of the vulnerability in this 'blink of time', we can think of using __symbolic link__. Suppose that we want to modify the file `/etc/passwd`, but we can only write to `/tmp/x`. Now: \n",
    "* Before running the privileged program, we create a regular file X inside the `/tmp` directory. \n",
    "* This will pass `access()` check since it is our own file. \n",
    "* Right after `access()` can before program reaches `open()`, we quickly change `/tmp/x` to a symbolic link to the `/etc/passwd`. \n",
    "* When `open()` is invoked, it will open the passwd file, and since it only checks euid, now the program has write access to the file.\n",
    "Since the modern processor runs instructions in less than miliseconds, it is very unlikely to successfully execute the linking in between. However, with large number of tries, it is possible to do the work right in the interval. "
   ]
  },
  {
   "cell_type": "markdown",
   "metadata": {},
   "source": [
    "To actually perform an attack, we need:\n",
    "* The vulnerable program to run in a loop\n",
    "* Run the attack program at the same time.\n",
    "The __attacker__ runs the following instructions relentlessly: \n",
    "* __A1__: Make the `/tmp/x` point to a file owned by us. (simply create this file)\n",
    "* __A2__: Make `/tmp/x` point to `passwd` (by symbolic linking) \n",
    "The __vulnerable__ program runs the following instructions relentlessly:\n",
    "* __V1__: check users permission on `/tmp/x`\n",
    "* __V2__: open the `/tmp/x` file for write"
   ]
  },
  {
   "cell_type": "markdown",
   "metadata": {},
   "source": [
    "As long as the final sequence of execution is: $ \\textbf{A}_1 \\rightarrow \\textbf{V}_1 \\rightarrow \\textbf{A}_2\\rightarrow \\textbf{V}_2$, we can achieve the goal."
   ]
  },
  {
   "cell_type": "markdown",
   "metadata": {},
   "source": [
    "#### Example 3\n",
    "In the following program, another SET-UID, examines if a file exists, if not, it will create it and write to it. \n",
    "```c\n",
    "file = \"/tmp/x\";\n",
    "fileExist = check_file_existance(file);\n",
    "if (fileExist == FALSE) \n",
    "{\n",
    "    f = open(file, O_CREAT);\n",
    "    //write \n",
    "    ...\n",
    "}\n",
    "```\n",
    "So if between the check existance and the `open()`, we somehow make the name a symbolic link to `\\etc\\passwd`, we can again have write access to the passwd file. "
   ]
  },
  {
   "cell_type": "markdown",
   "metadata": {},
   "source": [
    "### Experiment Set up \n",
    "The following vulnerable program has the same problem as the `access` and `open` problem introduced before <br>\n",
    "```c\n",
    "#include <stdio.h>\n",
    "#include <unistd.h>\n",
    "\n",
    "int main() \n",
    "{\n",
    "    char *fn = \"/tmp/XYZ\";\n",
    "    char buffer[60];\n",
    "    FILE *fp;\n",
    "    \n",
    "    scanf(\"%50s\", buffer);\n",
    "    if (!access(fn, W_OK)) \n",
    "    {\n",
    "        fp = fopen(fn, \"a+\");\n",
    "        fwrite(\"\\n\", sizeof(char), 1, fp);\n",
    "        fwrite(buffer, sizeof(char), strlen(buffer), fp); \n",
    "        \n",
    "    }\n",
    "                           \n",
    "    \n",
    "}\n",
    "```\n",
    "Set it as SET-UID, as:\n",
    "```\n",
    "gcc vulp.c -o vulp\n",
    "sudo chown root vulp\n",
    "sudo chmod 4755 vulp\n",
    "```\n",
    "Then we need to turn off the Ubuntu countermeasure that does not allow symbolic link to a world-writable directory. \n",
    "```\n",
    "sudo sysctl -w kernel.yama.protected_sticky_symlinks=0 \n",
    "```"
   ]
  },
  {
   "cell_type": "code",
   "execution_count": null,
   "metadata": {},
   "outputs": [],
   "source": []
  }
 ],
 "metadata": {
  "kernelspec": {
   "display_name": "Python 3",
   "language": "python",
   "name": "python3"
  },
  "language_info": {
   "codemirror_mode": {
    "name": "ipython",
    "version": 3
   },
   "file_extension": ".py",
   "mimetype": "text/x-python",
   "name": "python",
   "nbconvert_exporter": "python",
   "pygments_lexer": "ipython3",
   "version": "3.5.0"
  }
 },
 "nbformat": 4,
 "nbformat_minor": 2
}
