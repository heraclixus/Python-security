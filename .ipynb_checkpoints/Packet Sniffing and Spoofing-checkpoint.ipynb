{
 "cells": [
  {
   "cell_type": "markdown",
   "metadata": {},
   "source": [
    "# Packet Sniffing and Spoofing \n",
    "__sniffing__ refers to eavesdrop on physical network, wired or wireless, and capture the packets transmitted over the network. <br>\n",
    "__spoofing__ refers to send out packets under a false identity. <br>\n",
    "The tools commonly used are _Wireshark, netwox, scapy_. The low level details are to be covered in C, and the high level usage are to be covered in Python. "
   ]
  },
  {
   "cell_type": "markdown",
   "metadata": {},
   "source": [
    "### Network Packet Transmission on physical layer\n",
    "Machines are connected to network via Network Interface Card (__NIC__). As data flow in the medium, every NIC on the network will hear all the frames on the wire. When a frame arrives via the medium, it is copied into the memory inside the NIC, which checks the destination MAC address to see if it matches the NIC's MAC address. If it matches, the frame is further copied into a buffer in the kernel, through Direct Memory Access (DMA). The card then interrupts the CPU to inform it about the availability of a new packet, and the CPU copies all the packets from the bnuffer into a queue, making room in hte buffer for more incoming packets. Callback handler functions are used by OS to dispatch the packets to user-space programs. \n",
    "#### Promiscuous Mode \n",
    "In general, frames not destined for the destination NIC are discarded rather than being passed to CPU for processing. However, for most NIC, _promiscuous mode_ allows NIC to not drop and passes every incoming frame to the kernel. If a sniffer program is running, all these frames can be dispatched to the sniffer program for further processing. \n",
    "#### Monitor Mode\n",
    "Monitor mode for wireless network cards supports sniffing too. When in monitor mode, the cards capture 802.11 frames transmitting on the channel that they are listening to. This means that unlike ethernet, in wireless cards, it is possible to miss information on the same network due to different channels. Most wireless NIC has their monitor mode disabled by the manufacturers. "
   ]
  },
  {
   "cell_type": "markdown",
   "metadata": {},
   "source": [
    "#### Lowest Packet Filtering: BSD Packet Filter\n",
    "BSD Packet Filter (BPF) provides filtering at the lowest level on UNIX machines. It allows a user-space program to attach a filter to a socket, which discards unwanted packets as early as possible. The high-level C function is via the `setsockopt` call: The `code` is supposed to be compiled BPF code\n",
    "```c\n",
    "struct sock_fprog bpf = {\n",
    "    .len = ARRAY_SIZE(code),\n",
    "    .filter = code, \n",
    "\n",
    "};\n",
    "\n",
    "setsockopt(sock, SOL_SOCKET, SO_ATTACH_FILTER, &bpf, sizeof(bpf)); \n",
    "```"
   ]
  },
  {
   "cell_type": "markdown",
   "metadata": {},
   "source": [
    "### Sniffing \n",
    "In general, the task at hand is to capture live data as they flow across a network. The following C program demonstrates a simple UDP connection setup: \n",
    "```c\n",
    "#include <stdio.h>\n",
    "#include <string.h>\n",
    "#include <sys/socket.h>\n",
    "#include <netinet/ip.h>\n",
    "\n",
    "void main() \n",
    "{\n",
    "    struct sockaddr_in server;\n",
    "    struct sockaddr_in client;\n",
    "    int clientlen;\n",
    "    char buf[1500];\n",
    "    \n",
    "    //step 1: create a socket \n",
    "    int sock = socket(AF_INET, SOCK_DGRAM, IPPROTO_UDP);\n",
    "    \n",
    "    //step 2: provide information about the server, such as bind UDP, IP\n",
    "    // binding is for all available IP address of the network interface\n",
    "    memset((char *) &server, 0, sizeof(server)); \n",
    "    server.sin_family = AF_INET;\n",
    "    server.sin_addr.s_addr = htonl(INADDR_ANY); \n",
    "    server.sin_port = htons(9090); //listen on UDP port 9090 for incoming packets \n",
    "    \n",
    "    if (bind(sock, (struct sockaddr *) &server, sizeof(server)) < 0)\n",
    "        error(\"Error on binding\");\n",
    "    \n",
    "    //step 3: wait for response from client \n",
    "    while (1) {\n",
    "        bzero(buf, 1500); \n",
    "        recvfrom(sock, buf, 1500-1, 0, (struct sockaddr *) &client, &clientlen); \n",
    "        printf(\"%s\\n\", buf);                \n",
    "    }\n",
    "    close(sock);\n",
    "}\n",
    "\n",
    "```\n",
    "The similar UDP server in Python follows the same step: create socket, bind, and listen for connections. "
   ]
  },
  {
   "cell_type": "code",
   "execution_count": null,
   "metadata": {},
   "outputs": [],
   "source": [
    "import socket \n",
    "UDP_IP = \"127.0.0.1\"\n",
    "UDP_PORT = 9090\n",
    "sock = socket.socket(socket.AF_INET, socket.SOCK_DGRAM)\n",
    "sock.bind((UDP_IP, UDP_PORT))\n",
    "while True: \n",
    "    data, addr = sock.recvfrom(1024)\n",
    "    print \"recieved data: \", data "
   ]
  },
  {
   "cell_type": "markdown",
   "metadata": {},
   "source": [
    "### Packet Sniffing using Raw sockets \n",
    "since sniffer needs to capture all the packets, it is not plausible to hard code an IP address in the program for receiving packets. Therefore, instead of using a general socket, we use a __raw socket__. "
   ]
  },
  {
   "cell_type": "markdown",
   "metadata": {},
   "source": [
    "```c\n",
    "#include <stdio.h>\n",
    "#include <string.h>\n",
    "#include <sys/socket.h>\n",
    "#include <netinet/ip.h>\n",
    "\n",
    "void main() \n",
    "{\n",
    "    int PACKET_LEN = 512;\n",
    "    char buffer[PACKET_LEN]; \n",
    "    struct sockaddre saddr;\n",
    "    struct packet_mreq mr; \n",
    "    //step 1: create a RAW socket \n",
    "    //protocol is set to be ETH_P_ALL, which means receiving all protocols \n",
    "    //if it is ETH_P_IP, only IP packets will be captured. \n",
    "    int sock = socket(AF_INET, SOCK_RAW, htons(ETH_P_ALL));\n",
    "    //step 2: turn on promiscuous mode \n",
    "    mr.mr_type = PACKET_MR_PROMISC;\n",
    "    // PACKET_ADD_MEMBERSHIP, PACKET_MR_PROMISC are NIC specific, need to search before committing. \n",
    "    setsocktopt(sock, SOL_PACKET, PACKET_ADD_MEMBERSHIP, &mr, sizeof(mr)); \n",
    "    \n",
    "    //step 3: getting captured packets  \n",
    "    while (1) {\n",
    "        int data_size = recvfrom(sock, buffer, PACKET_LEN, 0, \n",
    "                                 &saddr, (socklen_t *)sizeof(saddr));\n",
    "        if (data_size) printf(\"Got one packet\\n\"); \n",
    "    }\n",
    "    close(sock);\n",
    "    return 0; \n",
    "}\n",
    "```\n",
    "This sniffer has no filtering, and could easily lose packets. A better option is to use the `pcap` API."
   ]
  },
  {
   "cell_type": "markdown",
   "metadata": {},
   "source": [
    "#### pcap sniffer\n",
    "The following program captures all ICMP packets. \n",
    "```c\n",
    "#include <pcap.h>\n",
    "#include <stdio.h>\n",
    "\n",
    "void got_packet(u_char *args, const struct pcap_pkthdr *header, const u_char *packet)\n",
    "{\n",
    "    printf(\"Got a packet\"); \n",
    "}\n",
    "\n",
    "int main() \n",
    "{\n",
    "    pcap_t *handle;\n",
    "    char errbuf[PCAP_ERRBUF_SIZE]; \n",
    "    struct bpf_program fp;\n",
    "    char filter_exp[] = \"ip proto icmp\"; \n",
    "    bpf_u_int32 net; \n",
    "    \n",
    "    //step 1: open live pcap session on NIC with name eth3 \n",
    "    handle = pcap_open_live(\"eth3\", BUFSIZ, 1, 1000, errbuf);\n",
    "    \n",
    "    //step 2: compile filter_exp into BPF pseudo-code\n",
    "    pcap_compile(handle, &fp, filter_exp, 0, net);\n",
    "    pcap_setfilter(handle, &fp); \n",
    "    \n",
    "    //step 3: capture packets\n",
    "    pcap_loop(handle, -1, got_packet, NULL); \n",
    "    pcap_close(handle);\n",
    "    return 0;\n",
    "}\n",
    "\n",
    "```\n",
    "pcap filters are be written in formats such as:\n",
    "* `dst host 10.0.0.25` only captures packets going to 10.0.0.25.\n",
    "* `src host 10.0.0.25` only captures packets with source 10.0.0.25\n",
    "* `host 10.0.0.5 and src port 9090`: only captures packets from or going to 10.0.0.5 and with source port 9090.\n",
    "* `proto tcp`: only capture TCP packets\n",
    "\n",
    "To compile a pcap program, use gcc to compile with `-lpcap` flag:\n",
    "`gcc -o sniff sniff.c -lpcap`\n"
   ]
  },
  {
   "cell_type": "markdown",
   "metadata": {},
   "source": [
    "### Processing Captured Packets\n",
    "when `got_packet()` is invoked, the third argument points to the buffer, which is an ethernet frame, with ethernet header placed at the beginning. <br>\n",
    "In C, to read such a chunk of memory (buffer), we refer to the structure of an ethernet packet defined in RFC and defined it in C as a struct. The data in the struct should be strictly the same as the actual ethernet packet. <br> \n",
    "```c\n",
    "struct ethheader \n",
    "{\n",
    "    u_char ether_dhost[ETHER_ADDR_LEN];  //dst host address \n",
    "    u_char ether_shost[ETHER_ADDR_LEN];  //src host address \n",
    "    u_short ether_type;                  //type of packet, could be IP, ARP, etc. \n",
    "};\n",
    "\n",
    "void got_packet(u_char *args, const struct pcap_pkthdr *header, const u_char *packet)\n",
    "{\n",
    "    struct ethheader *eth = (struct ethheader *) packet;   // we use type casting to read the packet by our struct\n",
    "    if (ntohs(eth->ether_type) == 0x0800) { .. } // if it is IP \n",
    "    ... \n",
    "}\n",
    "\n",
    "```\n",
    "\n",
    "To further read the IP packet inside the ethernet packet, we need to first move to an offset equivalent to the ethernet header, and then read the buffer using a struct identical to the structure defined in RFC for IP packet. <br> \n",
    "![header](./image_files/IP_header.gif)\n",
    "```c\n",
    "#include <pcap.h>\n",
    "#include <stdio.h>\n",
    "#include <arpa/inet.h>\n",
    "\n",
    "struct ipheader \n",
    "{\n",
    "      unsigned char ip_ihl:4, //  4 bits, IP header length \n",
    "                    ip_ver:4; //  4 bits, IP version \n",
    "      unsigned char iph_tos;  //  8 bits, Type of service\n",
    "      unsigned short int iph_len; // 16 bits, IP packet length\n",
    "      unsigned short int iph_ident; // 16 bits, identification \n",
    "      unsigned short int iph_flag:3,  // fragmentation flags \n",
    "                         iph_offset:13; //flag offset \n",
    "      unsigned char iph_ttl;   // 8 bits, time to live\n",
    "      unsigned char iph_protocol; //protocol type \n",
    "      unsigned short int iph_chksum; \n",
    "      struct in_addr iph_sourceip;   //source IP address \n",
    "      struct in_addr iph_destip;     //destination iP address \n",
    "};\n",
    "\n",
    "void got_packet(u_char *args, const struct pcap_pkthdr *header, const u_char *packet) \n",
    "{\n",
    "    struct ethheader *eth = (struct ethheader *) packet;\n",
    "    if (ntohs(eth->ether_type == 0x8000))\n",
    "    {\n",
    "        struct ipheader *ip = (struct ipheader *) (packet + sizeof(struct ethheader));\n",
    "        printf(\"From: %s\\n\", inet_ntoa(ip->iph_sourceip));\n",
    "        printf(\"To: %s\\n\", inet_ntoa(ip->iph_destip)); \n",
    "        //determine protocol \n",
    "        switch(ip->iph_protocol)\n",
    "        {\n",
    "            case IPPROTOCOL_TCP: \n",
    "                printf(\" protocol: TCP\\n\");\n",
    "                return;\n",
    "        \n",
    "            case IPPROTOCOL_UDP: \n",
    "                printf(\" protocol: UDP\\n\"); \n",
    "                return;\n",
    "        \n",
    "            case IPPROTOCOL_ICMP:\n",
    "                printf(\" protocol ICMP\\n\");\n",
    "                return; \n",
    "        \n",
    "            default:\n",
    "                printf(\" protocol others\\n\");\n",
    "                return; \n",
    "        }\n",
    "    }       \n",
    "}\n",
    "```\n",
    "we can further read the packet (such as ICMP packet, TCP packet, or UDP packet) by using the same strategy: using corersponding struct to read the buffer, with specified offset defined by the RFC files. "
   ]
  },
  {
   "cell_type": "markdown",
   "metadata": {},
   "source": [
    "### Common Packet header structures: \n",
    "1. Layers in general \n",
    "![layer](./image_files/layers.jpg)\n"
   ]
  },
  {
   "cell_type": "markdown",
   "metadata": {},
   "source": [
    "#### Ethernet Header \n",
    "```c\n",
    "/* This is a name for the 48 bit ethernet address available on many\n",
    "   systems.  */\n",
    "struct ether_addr\n",
    "{\n",
    "  u_int8_t ether_addr_octet[ETH_ALEN];\n",
    "} __attribute__ ((__packed__));\n",
    "\n",
    "/* 10Mb/s ethernet header */\n",
    "struct ether_header\n",
    "{\n",
    "  u_int8_t  ether_dhost[ETH_ALEN];\t/* destination eth addr\t*/\n",
    "  u_int8_t  ether_shost[ETH_ALEN];\t/* source ether addr\t*/\n",
    "  u_int16_t ether_type;\t\t        /* packet type ID field\t*/\n",
    "} __attribute__ ((__packed__));\n",
    "```"
   ]
  },
  {
   "cell_type": "markdown",
   "metadata": {},
   "source": [
    "#### TCP header \n",
    "![tcp](./image_files/tcp-header.png)"
   ]
  },
  {
   "cell_type": "markdown",
   "metadata": {},
   "source": [
    "#### UDP datagram \n",
    "![udp](./image_files/udp.jpeg)"
   ]
  },
  {
   "cell_type": "markdown",
   "metadata": {},
   "source": [
    "#### ICMP packet\n",
    "![icmp](./image_files/icmp.png)"
   ]
  },
  {
   "cell_type": "markdown",
   "metadata": {},
   "source": [
    "### Packet Spoofing "
   ]
  },
  {
   "cell_type": "code",
   "execution_count": null,
   "metadata": {},
   "outputs": [],
   "source": []
  }
 ],
 "metadata": {
  "kernelspec": {
   "display_name": "Python 3",
   "language": "python",
   "name": "python3"
  },
  "language_info": {
   "codemirror_mode": {
    "name": "ipython",
    "version": 3
   },
   "file_extension": ".py",
   "mimetype": "text/x-python",
   "name": "python",
   "nbconvert_exporter": "python",
   "pygments_lexer": "ipython3",
   "version": "3.5.0"
  }
 },
 "nbformat": 4,
 "nbformat_minor": 2
}
