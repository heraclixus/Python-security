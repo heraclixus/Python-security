{
 "cells": [
  {
   "cell_type": "markdown",
   "metadata": {},
   "source": [
    "# Python for Penetration Testing "
   ]
  },
  {
   "cell_type": "markdown",
   "metadata": {},
   "source": [
    "This is more like a review for Python for me, especially the module 1 and 2 of the course.\n",
    "## Basic DataTypes \n"
   ]
  },
  {
   "cell_type": "code",
   "execution_count": 2,
   "metadata": {},
   "outputs": [
    {
     "data": {
      "text/plain": [
       "'0x7ffaa074a4e0'"
      ]
     },
     "execution_count": 2,
     "metadata": {},
     "output_type": "execute_result"
    }
   ],
   "source": [
    "# tell the memory location of a variable L string here \n",
    "name = \"fred\"\n",
    "hex(id(name))"
   ]
  },
  {
   "cell_type": "code",
   "execution_count": 3,
   "metadata": {},
   "outputs": [
    {
     "data": {
      "text/plain": [
       "<method-wrapper '__repr__' of str object at 0x7ffaa074a4e0>"
      ]
     },
     "execution_count": 3,
     "metadata": {},
     "output_type": "execute_result"
    }
   ],
   "source": [
    "name.__repr__   # memory location "
   ]
  },
  {
   "cell_type": "markdown",
   "metadata": {},
   "source": [
    "double quote and single quote are both viable string notation in python. new line character is also '\\n' \n",
    "and the formatting string (raw string) is with r'"
   ]
  },
  {
   "cell_type": "code",
   "execution_count": 4,
   "metadata": {},
   "outputs": [
    {
     "name": "stdout",
     "output_type": "stream",
     "text": [
      "Lebron \\./ James!\n"
     ]
    }
   ],
   "source": [
    "name = r'Lebron \\./ James!'\n",
    "print name     # note that python2 print has no parenthesis "
   ]
  },
  {
   "cell_type": "code",
   "execution_count": 5,
   "metadata": {},
   "outputs": [
    {
     "name": "stdout",
     "output_type": "stream",
     "text": [
      "\n",
      "Lebron James is the GOAT \n",
      "Kobe Bryant is the GOAT too.\n",
      "wait, what?\n",
      "\n"
     ]
    }
   ],
   "source": [
    "# multipline string in python \n",
    "name = \"\"\"\n",
    "Lebron James is the GOAT \n",
    "Kobe Bryant is the GOAT too.\n",
    "wait, what?\n",
    "\"\"\"\n",
    "print name "
   ]
  },
  {
   "cell_type": "code",
   "execution_count": 10,
   "metadata": {
    "collapsed": true
   },
   "outputs": [],
   "source": [
    "# Unicode strings are also supported in python \n",
    "name1 = unicode(name)"
   ]
  },
  {
   "cell_type": "code",
   "execution_count": 11,
   "metadata": {},
   "outputs": [
    {
     "data": {
      "text/plain": [
       "u'\\nLebron James is the GOAT \\nKobe Bryant is the GOAT too.\\nwait, what?\\n'"
      ]
     },
     "execution_count": 11,
     "metadata": {},
     "output_type": "execute_result"
    }
   ],
   "source": [
    "# or with prefix u'\n",
    "name1"
   ]
  },
  {
   "cell_type": "code",
   "execution_count": 12,
   "metadata": {},
   "outputs": [
    {
     "data": {
      "text/plain": [
       "'\\nLebron James is the GOAT \\nKobe Bryant is the GOAT too.\\nwait, what?\\n'"
      ]
     },
     "execution_count": 12,
     "metadata": {},
     "output_type": "execute_result"
    }
   ],
   "source": [
    "str(name) # simply using the conversion function "
   ]
  },
  {
   "cell_type": "markdown",
   "metadata": {},
   "source": [
    "strings are __immutable__ objects in Python. Once initialized, it cannot be changed."
   ]
  },
  {
   "cell_type": "code",
   "execution_count": 16,
   "metadata": {},
   "outputs": [
    {
     "data": {
      "text/plain": [
       "'vivek'"
      ]
     },
     "execution_count": 16,
     "metadata": {},
     "output_type": "execute_result"
    }
   ],
   "source": [
    "a = name = \"vivek\"\n",
    "name = \"James\"\n",
    "a"
   ]
  },
  {
   "cell_type": "code",
   "execution_count": 17,
   "metadata": {},
   "outputs": [
    {
     "data": {
      "text/plain": [
       "'vivek James'"
      ]
     },
     "execution_count": 17,
     "metadata": {},
     "output_type": "execute_result"
    }
   ],
   "source": [
    "# string concatenation can be done with just the basic arithemetic.\n",
    "fullname = a + ' ' + name\n",
    "fullname"
   ]
  },
  {
   "cell_type": "markdown",
   "metadata": {},
   "source": [
    "Unlike C and C++ that uses explicit garbage collection, Python handles everything by itself."
   ]
  },
  {
   "cell_type": "code",
   "execution_count": 18,
   "metadata": {},
   "outputs": [
    {
     "data": {
      "text/plain": [
       "'AAAAAAAAAAAAAAAAAAAAAAAAAAAAAAAAAAAAAAAAAAAAAAAAAA'"
      ]
     },
     "execution_count": 18,
     "metadata": {},
     "output_type": "execute_result"
    }
   ],
   "source": [
    "buffer = \"A\" * 50  # normal practice in preparing a buffer overflow's buffer \n",
    "buffer "
   ]
  },
  {
   "cell_type": "code",
   "execution_count": 21,
   "metadata": {},
   "outputs": [
    {
     "data": {
      "text/plain": [
       "'James'"
      ]
     },
     "execution_count": 21,
     "metadata": {},
     "output_type": "execute_result"
    }
   ],
   "source": [
    "name = \"Lebron James\"\n",
    "#       0123456\n",
    "name[7:]    # index begins with zero "
   ]
  },
  {
   "cell_type": "code",
   "execution_count": 22,
   "metadata": {},
   "outputs": [
    {
     "data": {
      "text/plain": [
       "42"
      ]
     },
     "execution_count": 22,
     "metadata": {},
     "output_type": "execute_result"
    }
   ],
   "source": [
    "int(\"42\") # izi conversion between string and integers. "
   ]
  },
  {
   "cell_type": "code",
   "execution_count": 23,
   "metadata": {},
   "outputs": [
    {
     "data": {
      "text/plain": [
       "7"
      ]
     },
     "execution_count": 23,
     "metadata": {},
     "output_type": "execute_result"
    }
   ],
   "source": [
    "name.find(\"James\")  # return the beginning of the index for the matching substring "
   ]
  },
  {
   "cell_type": "code",
   "execution_count": 24,
   "metadata": {},
   "outputs": [
    {
     "data": {
      "text/plain": [
       "['Lebron', 'James']"
      ]
     },
     "execution_count": 24,
     "metadata": {},
     "output_type": "execute_result"
    }
   ],
   "source": [
    "# default split the string with empty space, for csv and some file formats, use other dlimiters\n",
    "name = \"Lebron James\"\n",
    "name.split()"
   ]
  },
  {
   "cell_type": "code",
   "execution_count": 25,
   "metadata": {},
   "outputs": [
    {
     "data": {
      "text/plain": [
       "['james', 'lebron', 'wade', 'dwyane', 'bosh', 'chris']"
      ]
     },
     "execution_count": 25,
     "metadata": {},
     "output_type": "execute_result"
    }
   ],
   "source": [
    "name2 = \"james,lebron,wade,dwyane,bosh,chris\"\n",
    "name2.split(',')"
   ]
  },
  {
   "cell_type": "code",
   "execution_count": 26,
   "metadata": {},
   "outputs": [
    {
     "data": {
      "text/plain": [
       "['L', 'bron Jam', 's']"
      ]
     },
     "execution_count": 26,
     "metadata": {},
     "output_type": "execute_result"
    }
   ],
   "source": [
    "name.split('e')"
   ]
  },
  {
   "cell_type": "markdown",
   "metadata": {},
   "source": [
    "All the previous methods return new objects, instead simply modify on the object: this is a feature of Python"
   ]
  },
  {
   "cell_type": "code",
   "execution_count": 27,
   "metadata": {},
   "outputs": [
    {
     "data": {
      "text/plain": [
       "'Crack this IP: 10.198.1.10'"
      ]
     },
     "execution_count": 27,
     "metadata": {},
     "output_type": "execute_result"
    }
   ],
   "source": [
    "# similar to a C formatting string \n",
    "ip = \"10.198.1.10\"\n",
    "line = \"Crack this IP: %s\" %ip \n",
    "line "
   ]
  },
  {
   "cell_type": "code",
   "execution_count": 28,
   "metadata": {},
   "outputs": [
    {
     "data": {
      "text/plain": [
       "'crack this IP: 10.198.1.10 and name securitytude'"
      ]
     },
     "execution_count": 28,
     "metadata": {},
     "output_type": "execute_result"
    }
   ],
   "source": [
    "line = \"crack this IP: %s and name %s\" %(ip, \"securitytude\")\n",
    "line"
   ]
  },
  {
   "cell_type": "code",
   "execution_count": 29,
   "metadata": {},
   "outputs": [
    {
     "data": {
      "text/plain": [
       "3"
      ]
     },
     "execution_count": 29,
     "metadata": {},
     "output_type": "execute_result"
    }
   ],
   "source": [
    "# List \n",
    "l1 = [1, 2, 3]\n",
    "l2 = [1, 2, [1,2,3]]\n",
    "len(l2[2])"
   ]
  },
  {
   "cell_type": "markdown",
   "metadata": {},
   "source": [
    "Normally I would use Numpy to do all these operations instead of list "
   ]
  },
  {
   "cell_type": "code",
   "execution_count": 30,
   "metadata": {},
   "outputs": [
    {
     "data": {
      "text/plain": [
       "[1, 'lebron', 2, 'james']"
      ]
     },
     "execution_count": 30,
     "metadata": {},
     "output_type": "execute_result"
    }
   ],
   "source": [
    "# List can be heterogeneous too\n",
    "l3 = [1, \"lebron\", 2, \"james\"]\n",
    "l3"
   ]
  },
  {
   "cell_type": "code",
   "execution_count": 31,
   "metadata": {},
   "outputs": [
    {
     "data": {
      "text/plain": [
       "[1, 'lebron', 2, 'james', 'new champ']"
      ]
     },
     "execution_count": 31,
     "metadata": {},
     "output_type": "execute_result"
    }
   ],
   "source": [
    "l3.append('new champ')\n",
    "l3"
   ]
  },
  {
   "cell_type": "code",
   "execution_count": 32,
   "metadata": {
    "collapsed": true
   },
   "outputs": [],
   "source": [
    "l3.reverse()"
   ]
  },
  {
   "cell_type": "code",
   "execution_count": 33,
   "metadata": {},
   "outputs": [
    {
     "data": {
      "text/plain": [
       "['new champ', 'james', 2, 'lebron', 1]"
      ]
     },
     "execution_count": 33,
     "metadata": {},
     "output_type": "execute_result"
    }
   ],
   "source": [
    "l3"
   ]
  },
  {
   "cell_type": "code",
   "execution_count": 34,
   "metadata": {},
   "outputs": [
    {
     "data": {
      "text/plain": [
       "1"
      ]
     },
     "execution_count": 34,
     "metadata": {},
     "output_type": "execute_result"
    }
   ],
   "source": [
    "# pop out the last item \n",
    "l3.pop()"
   ]
  },
  {
   "cell_type": "code",
   "execution_count": 35,
   "metadata": {},
   "outputs": [
    {
     "data": {
      "text/plain": [
       "['new champ', 'james', 2, 'cavs', 'lebron']"
      ]
     },
     "execution_count": 35,
     "metadata": {},
     "output_type": "execute_result"
    }
   ],
   "source": [
    "l3.insert(-1, 'cavs')\n",
    "l3"
   ]
  },
  {
   "cell_type": "code",
   "execution_count": 36,
   "metadata": {
    "collapsed": true
   },
   "outputs": [],
   "source": [
    "l3.insert(5, 'kevin love')"
   ]
  },
  {
   "cell_type": "code",
   "execution_count": 37,
   "metadata": {},
   "outputs": [
    {
     "data": {
      "text/plain": [
       "['new champ', 'james', 2, 'cavs', 'lebron', 'kevin love']"
      ]
     },
     "execution_count": 37,
     "metadata": {},
     "output_type": "execute_result"
    }
   ],
   "source": [
    "l3"
   ]
  },
  {
   "cell_type": "markdown",
   "metadata": {},
   "source": [
    "__Tuples__ are like list but Immutable\n",
    "can convert back and forth"
   ]
  },
  {
   "cell_type": "code",
   "execution_count": 1,
   "metadata": {},
   "outputs": [
    {
     "data": {
      "text/plain": [
       "('spec', 25, 100, 3)"
      ]
     },
     "execution_count": 1,
     "metadata": {},
     "output_type": "execute_result"
    }
   ],
   "source": [
    "videoData = ('spec', 25, 100, 3)\n",
    "videoData"
   ]
  },
  {
   "cell_type": "code",
   "execution_count": 2,
   "metadata": {},
   "outputs": [
    {
     "data": {
      "text/plain": [
       "'spec'"
      ]
     },
     "execution_count": 2,
     "metadata": {},
     "output_type": "execute_result"
    }
   ],
   "source": [
    "videoTitle, runningtime, upVotes, downVotes = videoData\n",
    "videoTitle"
   ]
  },
  {
   "cell_type": "code",
   "execution_count": 3,
   "metadata": {},
   "outputs": [
    {
     "data": {
      "text/plain": [
       "3"
      ]
     },
     "execution_count": 3,
     "metadata": {},
     "output_type": "execute_result"
    }
   ],
   "source": [
    "downVotes"
   ]
  },
  {
   "cell_type": "markdown",
   "metadata": {},
   "source": [
    "__Sets__ are unordered collection of unique objects.\n",
    "list and set can be converted back and forth"
   ]
  },
  {
   "cell_type": "code",
   "execution_count": 4,
   "metadata": {},
   "outputs": [
    {
     "data": {
      "text/plain": [
       "{1, 2, 3, 4, 5, 6, 7}"
      ]
     },
     "execution_count": 4,
     "metadata": {},
     "output_type": "execute_result"
    }
   ],
   "source": [
    "setA = set([1,1,1,1,2,3,3,4,5,6,7])\n",
    "setA  # duplicates are elimiated from the set. "
   ]
  },
  {
   "cell_type": "code",
   "execution_count": 5,
   "metadata": {},
   "outputs": [
    {
     "data": {
      "text/plain": [
       "{1, 2, 3, 4, 5, 6, 7, 9, 10}"
      ]
     },
     "execution_count": 5,
     "metadata": {},
     "output_type": "execute_result"
    }
   ],
   "source": [
    "setB = set([3,3,4,5,6,9,10])\n",
    "setA|setB # union set "
   ]
  },
  {
   "cell_type": "code",
   "execution_count": 6,
   "metadata": {},
   "outputs": [
    {
     "data": {
      "text/plain": [
       "{3, 4, 5, 6}"
      ]
     },
     "execution_count": 6,
     "metadata": {},
     "output_type": "execute_result"
    }
   ],
   "source": [
    "setA & setB # intersection "
   ]
  },
  {
   "cell_type": "markdown",
   "metadata": {},
   "source": [
    "__Dictionaries__ are unordered key-value pairs. Keys are unique and immutable objects. Values can change."
   ]
  },
  {
   "cell_type": "code",
   "execution_count": 7,
   "metadata": {
    "collapsed": true
   },
   "outputs": [],
   "source": [
    "dict1 = {} \n",
    "dict1['name'] = 'Lebron'"
   ]
  },
  {
   "cell_type": "code",
   "execution_count": 8,
   "metadata": {},
   "outputs": [
    {
     "data": {
      "text/plain": [
       "{'name': 'Lebron'}"
      ]
     },
     "execution_count": 8,
     "metadata": {},
     "output_type": "execute_result"
    }
   ],
   "source": [
    "dict1"
   ]
  },
  {
   "cell_type": "code",
   "execution_count": 9,
   "metadata": {},
   "outputs": [
    {
     "data": {
      "text/plain": [
       "{'Host system': 'Mac OS', 'IP address': '192.168.1.11', 'ISA': 'x86_64'}"
      ]
     },
     "execution_count": 9,
     "metadata": {},
     "output_type": "execute_result"
    }
   ],
   "source": [
    "dict2={}\n",
    "dict2['IP address'] = '192.168.1.11'\n",
    "dict2['Host system'] = 'Mac OS'\n",
    "dict2['ISA'] = 'x86_64'\n",
    "dict2"
   ]
  },
  {
   "cell_type": "code",
   "execution_count": 11,
   "metadata": {},
   "outputs": [
    {
     "data": {
      "text/plain": [
       "True"
      ]
     },
     "execution_count": 11,
     "metadata": {},
     "output_type": "execute_result"
    }
   ],
   "source": [
    "dict2.has_key('IP address')"
   ]
  },
  {
   "cell_type": "code",
   "execution_count": 12,
   "metadata": {},
   "outputs": [
    {
     "data": {
      "text/plain": [
       "True"
      ]
     },
     "execution_count": 12,
     "metadata": {},
     "output_type": "execute_result"
    }
   ],
   "source": [
    "'ISA' in dict2"
   ]
  },
  {
   "cell_type": "code",
   "execution_count": 15,
   "metadata": {},
   "outputs": [
    {
     "name": "stdout",
     "output_type": "stream",
     "text": [
      "192.168.1.11\n",
      "x86_64\n",
      "Mac OS\n"
     ]
    }
   ],
   "source": [
    "for key in dict2:\n",
    "    print dict2[key]"
   ]
  },
  {
   "cell_type": "code",
   "execution_count": 16,
   "metadata": {},
   "outputs": [
    {
     "data": {
      "text/plain": [
       "['192.168.1.11', 'x86_64', 'Mac OS']"
      ]
     },
     "execution_count": 16,
     "metadata": {},
     "output_type": "execute_result"
    }
   ],
   "source": [
    "dict2.values()  # gives list "
   ]
  },
  {
   "cell_type": "code",
   "execution_count": 18,
   "metadata": {},
   "outputs": [
    {
     "data": {
      "text/plain": [
       "[('IP address', '192.168.1.11'), ('ISA', 'x86_64'), ('Host system', 'Mac OS')]"
      ]
     },
     "execution_count": 18,
     "metadata": {},
     "output_type": "execute_result"
    }
   ],
   "source": [
    "dict2.items() # gives tuples "
   ]
  },
  {
   "cell_type": "code",
   "execution_count": 19,
   "metadata": {},
   "outputs": [
    {
     "data": {
      "text/plain": [
       "'192.168.1.11'"
      ]
     },
     "execution_count": 19,
     "metadata": {},
     "output_type": "execute_result"
    }
   ],
   "source": [
    "# get can be used to get key value \n",
    "dict2.get('IP address')"
   ]
  },
  {
   "cell_type": "code",
   "execution_count": 20,
   "metadata": {},
   "outputs": [
    {
     "data": {
      "text/plain": [
       "{'Host system': 'Mac OS', 'IP address': '192.168.1.11'}"
      ]
     },
     "execution_count": 20,
     "metadata": {},
     "output_type": "execute_result"
    }
   ],
   "source": [
    "del dict2['ISA']\n",
    "dict2"
   ]
  },
  {
   "cell_type": "markdown",
   "metadata": {},
   "source": [
    "## Control flow "
   ]
  },
  {
   "cell_type": "raw",
   "metadata": {},
   "source": [
    "if condition:\n",
    "    do something \n",
    "elif condition2: \n",
    "    do something \n",
    "else:\n",
    "    do something \n",
    "    \n",
    "    \n",
    "    \n",
    "for name in dict2:\n",
    "    print dict2[name]\n",
    "\n"
   ]
  },
  {
   "cell_type": "code",
   "execution_count": 21,
   "metadata": {},
   "outputs": [
    {
     "name": "stdout",
     "output_type": "stream",
     "text": [
      "0\n",
      "1\n",
      "2\n",
      "3\n",
      "4\n",
      "5\n",
      "6\n",
      "7\n",
      "8\n",
      "9\n"
     ]
    }
   ],
   "source": [
    "for i in range(0, 10):\n",
    "    print i"
   ]
  },
  {
   "cell_type": "code",
   "execution_count": 22,
   "metadata": {},
   "outputs": [
    {
     "name": "stdout",
     "output_type": "stream",
     "text": [
      "0\n",
      "1\n",
      "2\n",
      "3\n",
      "4\n",
      "5\n",
      "6\n",
      "7\n",
      "8\n",
      "9\n"
     ]
    }
   ],
   "source": [
    "for i in range(10):\n",
    "    print i"
   ]
  },
  {
   "cell_type": "markdown",
   "metadata": {},
   "source": [
    "### Function, class, object, module, package "
   ]
  },
  {
   "cell_type": "code",
   "execution_count": 23,
   "metadata": {},
   "outputs": [
    {
     "name": "stdout",
     "output_type": "stream",
     "text": [
      "Hello\n",
      "Hello\n",
      "Hello\n",
      "Hello\n",
      "Hello\n"
     ]
    }
   ],
   "source": [
    "import sys \n",
    "def print5times(line_to_print):\n",
    "    for i in range(5):\n",
    "        print line_to_print\n",
    "\n",
    "print5times(\"Hello\")"
   ]
  },
  {
   "cell_type": "code",
   "execution_count": 7,
   "metadata": {},
   "outputs": [
    {
     "data": {
      "text/plain": [
       "12"
      ]
     },
     "execution_count": 7,
     "metadata": {},
     "output_type": "execute_result"
    }
   ],
   "source": [
    "class Calculator:\n",
    "    def __init__(self, inpa, inpb):\n",
    "        self.a = inpa\n",
    "        self.b = inpb\n",
    "    def multi(self):\n",
    "        return self.a*self.b \n",
    "    def div(self):\n",
    "        return self.a/self.b \n",
    "\n",
    "a = Calculator(3,4)\n",
    "a.multi()"
   ]
  },
  {
   "cell_type": "code",
   "execution_count": 10,
   "metadata": {},
   "outputs": [
    {
     "name": "stdout",
     "output_type": "stream",
     "text": [
      "a times b is 20\n",
      "a ** b is 1024\n"
     ]
    }
   ],
   "source": [
    "# inheritance \n",
    "# inheritance inherts all the existing functions, including the constructor for the parent class\n",
    "class scientificCalculator(Calculator):\n",
    "    def power(self):\n",
    "        return pow(self.a, self.b)\n",
    "\n",
    "B = scientificCalculator(4,5)\n",
    "print 'a times b is %d' %(B.multi())\n",
    "print 'a ** b is %d' %(B.power())"
   ]
  },
  {
   "cell_type": "markdown",
   "metadata": {},
   "source": [
    "__Creating independent modules in Python__: can carete a .py flie with declaractions (function, class, etc), and another file to use it is simply using import + filename. If imported, class and functions are all able to be used. Now assume that we have a python file called mod.py, and there is a class object call OBJ in it. Then invoking the class is simply: \n"
   ]
  },
  {
   "cell_type": "code",
   "execution_count": null,
   "metadata": {
    "collapsed": true
   },
   "outputs": [],
   "source": [
    "import mod \n",
    "a = mod.OBJ(param)"
   ]
  },
  {
   "cell_type": "markdown",
   "metadata": {},
   "source": [
    "A __python package__ is like a file hierarchy/directory of modules "
   ]
  },
  {
   "cell_type": "markdown",
   "metadata": {},
   "source": [
    "__exception handling__ in python is simply try except "
   ]
  },
  {
   "cell_type": "code",
   "execution_count": 11,
   "metadata": {},
   "outputs": [
    {
     "name": "stdout",
     "output_type": "stream",
     "text": [
      "exception happened!\n"
     ]
    }
   ],
   "source": [
    "try:\n",
    "    a = 0/0\n",
    "except:\n",
    "    print \"exception happened!\""
   ]
  },
  {
   "cell_type": "code",
   "execution_count": 12,
   "metadata": {},
   "outputs": [
    {
     "name": "stdout",
     "output_type": "stream",
     "text": [
      "no execption\n",
      "cleanup code\n"
     ]
    }
   ],
   "source": [
    "try: \n",
    "    a = 10/20\n",
    "except:\n",
    "    print \"Exception happend\"\n",
    "else:\n",
    "    print \"no execption\"\n",
    "finally:\n",
    "    print \"cleanup code\""
   ]
  },
  {
   "cell_type": "code",
   "execution_count": 13,
   "metadata": {},
   "outputs": [
    {
     "name": "stdout",
     "output_type": "stream",
     "text": [
      "Divide by zero\n"
     ]
    }
   ],
   "source": [
    "try: # mention the name of the exception\n",
    "    a = 0/0 \n",
    "except ZeroDivisionError:\n",
    "    print \"Divide by zero\"\n",
    "except:\n",
    "    print \"other kinds of zero\""
   ]
  },
  {
   "cell_type": "code",
   "execution_count": 15,
   "metadata": {},
   "outputs": [
    {
     "name": "stdout",
     "output_type": "stream",
     "text": [
      "integer division or modulo by zero\n"
     ]
    }
   ],
   "source": [
    "try:\n",
    "    a = 0/0 \n",
    "except Exception as In:\n",
    "    print In"
   ]
  },
  {
   "cell_type": "markdown",
   "metadata": {},
   "source": [
    "__Difference between if else and try except__: the exception assumes that the flow does not work, whereas if else assumes all conditions work (does not crash). So if exception happens, if else might crash, but try except will not."
   ]
  },
  {
   "cell_type": "markdown",
   "metadata": {},
   "source": [
    "__Python on Other devices__: \n",
    "* Cydia on a jailbroken iPhone, able to install python scipting support \n",
    "* Python for iOS\n",
    "iPhone uses a SQL databse "
   ]
  },
  {
   "cell_type": "code",
   "execution_count": null,
   "metadata": {
    "collapsed": true
   },
   "outputs": [],
   "source": [
    "import sqlite3\n",
    "conn=sqlite3.connect('dirtodb.db')\n",
    "cursor = conn.cursor() \n",
    "for zone in cur.execute(\"select = from Names\")\n",
    "    print zone ..."
   ]
  },
  {
   "cell_type": "markdown",
   "metadata": {},
   "source": [
    "* On Android, scripting layer for android. \n",
    "* OPensource firmware such as DD-WRT support running python on them "
   ]
  },
  {
   "cell_type": "markdown",
   "metadata": {},
   "source": [
    "### File handling "
   ]
  },
  {
   "cell_type": "code",
   "execution_count": 17,
   "metadata": {},
   "outputs": [
    {
     "data": {
      "text/plain": [
       "<open file 'Inheritance.txt', mode 'w' at 0x7f8ca01528a0>"
      ]
     },
     "execution_count": 17,
     "metadata": {},
     "output_type": "execute_result"
    }
   ],
   "source": [
    "import os \n",
    "fdesc = open('Inheritance.txt', 'w')\n",
    "fdesc"
   ]
  },
  {
   "cell_type": "code",
   "execution_count": 18,
   "metadata": {
    "collapsed": true
   },
   "outputs": [],
   "source": [
    "for count in range(10):\n",
    "    fdesc.write(str(count))"
   ]
  },
  {
   "cell_type": "code",
   "execution_count": 19,
   "metadata": {
    "collapsed": true
   },
   "outputs": [],
   "source": [
    "fdesc.close()"
   ]
  },
  {
   "cell_type": "code",
   "execution_count": 21,
   "metadata": {
    "collapsed": true
   },
   "outputs": [],
   "source": [
    "# append \n",
    "fdesc = open('Inheritance.txt', 'a')\n",
    "fdesc.write(\"Inheritance comparison between Python and Java\")\n",
    "for count in range(20):\n",
    "    fdesc.write(str(count))"
   ]
  },
  {
   "cell_type": "code",
   "execution_count": 40,
   "metadata": {
    "collapsed": true
   },
   "outputs": [],
   "source": [
    "fdesc=open('Inheritance.txt', 'w')\n",
    "for count in range(20):\n",
    "    fdesc.write(str(count) + '\\n')\n",
    "fdesc.close()"
   ]
  },
  {
   "cell_type": "code",
   "execution_count": 41,
   "metadata": {},
   "outputs": [
    {
     "name": "stdout",
     "output_type": "stream",
     "text": [
      "0\n",
      "1\n",
      "2\n",
      "3\n",
      "4\n",
      "5\n",
      "6\n",
      "7\n",
      "8\n",
      "9\n",
      "10\n",
      "11\n",
      "12\n",
      "13\n",
      "14\n",
      "15\n",
      "16\n",
      "17\n",
      "18\n",
      "19\n"
     ]
    }
   ],
   "source": [
    "fdesc = open('Inheritance.txt', 'r')\n",
    "for line in fdesc.readlines():\n",
    "    print line.strip()"
   ]
  },
  {
   "cell_type": "code",
   "execution_count": 42,
   "metadata": {
    "collapsed": true
   },
   "outputs": [],
   "source": [
    "import os \n",
    "os.rename('Inheritance.txt', 'new_Inheritance.txt')"
   ]
  },
  {
   "cell_type": "code",
   "execution_count": 44,
   "metadata": {},
   "outputs": [
    {
     "data": {
      "text/plain": [
       "'/home/zeyuanxu/Desktop/Pentest_Academy/Python Pentest'"
      ]
     },
     "execution_count": 44,
     "metadata": {},
     "output_type": "execute_result"
    }
   ],
   "source": [
    "os.getcwd()"
   ]
  },
  {
   "cell_type": "code",
   "execution_count": 46,
   "metadata": {
    "collapsed": true
   },
   "outputs": [],
   "source": [
    "os.listdir(\".\")\n",
    "os.mkdir(\"tempdir\")"
   ]
  },
  {
   "cell_type": "code",
   "execution_count": 48,
   "metadata": {},
   "outputs": [
    {
     "name": "stdout",
     "output_type": "stream",
     "text": [
      "Untitled.ipynbis a file\n",
      ".ipynb_checkpointsis a dir\n",
      "new_Inheritance.txtis a file\n",
      "tempdiris a dir\n"
     ]
    }
   ],
   "source": [
    "for item in os.listdir(\".\"):\n",
    "    if os.path.isfile(item):\n",
    "        print item + \"is a file\"\n",
    "    elif os.path.isdir(item):\n",
    "        print item + \"is a dir\"\n",
    "    else:\n",
    "        print \"unknown type\""
   ]
  },
  {
   "cell_type": "code",
   "execution_count": 49,
   "metadata": {},
   "outputs": [
    {
     "name": "stdout",
     "output_type": "stream",
     "text": [
      "./Untitled.ipynb\n",
      "./new_Inheritance.txt\n",
      "./tempdir\n"
     ]
    }
   ],
   "source": [
    "# wildcard search\n",
    "import glob\n",
    "# always use the absolute path\n",
    "for item in glob.glob(os.path.join('.', '*')) : \n",
    "    print item"
   ]
  },
  {
   "cell_type": "code",
   "execution_count": 51,
   "metadata": {},
   "outputs": [
    {
     "name": "stdout",
     "output_type": "stream",
     "text": [
      "./new_Inheritance.txt\n"
     ]
    }
   ],
   "source": [
    "for item in glob.glob(os.path.join('.', '*.txt')):\n",
    "    print item"
   ]
  },
  {
   "cell_type": "code",
   "execution_count": 114,
   "metadata": {
    "collapsed": true
   },
   "outputs": [],
   "source": [
    "# have to keep the path information \n",
    "# since path.isfile() requires an absolute path \n",
    "def recur_print(path):\n",
    "    for item in os.listdir(path):\n",
    "        if os.path.isfile(os.path.join(path,item)):\n",
    "            print path + item\n",
    "        elif os.path.isdir(item):\n",
    "            print os.path.join(path, item)\n",
    "            recur_print(os.path.join(path, item))\n",
    "        else:\n",
    "            print \"unknown type\""
   ]
  },
  {
   "cell_type": "code",
   "execution_count": 115,
   "metadata": {},
   "outputs": [
    {
     "name": "stdout",
     "output_type": "stream",
     "text": [
      ".Untitled.ipynb\n",
      "./.ipynb_checkpoints\n",
      "./.ipynb_checkpointsUntitled-checkpoint.ipynb\n",
      ".new_Inheritance.txt\n",
      "./tempdir\n",
      "./tempdirexample.txt\n"
     ]
    }
   ],
   "source": [
    "recur_print(\".\")"
   ]
  },
  {
   "cell_type": "markdown",
   "metadata": {},
   "source": [
    "### Process, Thread, IPC"
   ]
  },
  {
   "cell_type": "markdown",
   "metadata": {},
   "source": [
    "__forking__ creates an identical process of the parent. \n",
    "* Thread execution duplicates exactly at the point of call to fork() \n",
    "* Returns 0 in the child \n",
    "* Returns pid of child in the parent.\n",
    "* PID is different for child and parent "
   ]
  },
  {
   "cell_type": "code",
   "execution_count": 122,
   "metadata": {
    "collapsed": true
   },
   "outputs": [],
   "source": [
    "import os\n",
    "def child_process():\n",
    "    print \"I am the child process and my PID is: %d\" %os.getpid()\n",
    "    print \"The child is exiting\"\n",
    "    \n",
    "def parent_process():\n",
    "    print \"I am the parent proecss with PID: %d\" %os.getpid() \n",
    "    childpid = os.fork() \n",
    "    if childpid == 0: \n",
    "        # inside child process \n",
    "        child_process() \n",
    "    else: \n",
    "        # inside parent process\n",
    "        print \"We are inside parent process\"\n",
    "        print \"child has PID: %d\" %childpid"
   ]
  },
  {
   "cell_type": "code",
   "execution_count": 123,
   "metadata": {},
   "outputs": [
    {
     "name": "stdout",
     "output_type": "stream",
     "text": [
      "I am the parent proecss with PID: 15577\n",
      "We are inside parent process\n",
      "child has PID: 16781\n",
      "I am the child process and my PID is: 16781\n",
      "The child is exiting\n"
     ]
    }
   ],
   "source": [
    "parent_process()"
   ]
  },
  {
   "cell_type": "markdown",
   "metadata": {},
   "source": [
    "child and parents can share resources and can communicate via IPC\n",
    "* os.exec or os.execl family can execute new subprocesses "
   ]
  },
  {
   "cell_type": "code",
   "execution_count": null,
   "metadata": {
    "collapsed": true
   },
   "outputs": [],
   "source": [
    "import os \n",
    "# note: don't do this in jupyter, as the process will conflict with \n",
    "# the ipython kernel \n",
    "os.execvp(\"ping\", [\"ping\", \"127.0.0.1\"])"
   ]
  },
  {
   "cell_type": "code",
   "execution_count": null,
   "metadata": {
    "collapsed": true
   },
   "outputs": [],
   "source": [
    "# we can also use the execvp in the forked child process \n",
    "import os\n",
    "def child_process():\n",
    "    print \"I am the child process and my PID is: %d\" %os.getpid()\n",
    "    os.execvp(\"ping\", [\"ping\", \"127.0.0.1\"])\n",
    "    \n",
    "def parent_process():\n",
    "    print \"I am the parent proecss with PID: %d\" %os.getpid() \n",
    "    childpid = os.fork() \n",
    "    if childpid == 0: \n",
    "        # inside child process \n",
    "        child_process() \n",
    "    else: \n",
    "        # inside parent process\n",
    "        print \"We are inside parent process\"\n",
    "        print \"child has PID: %d\" %childpid"
   ]
  },
  {
   "cell_type": "markdown",
   "metadata": {},
   "source": [
    "The purpose of fork:\n",
    "* all the forked processes have its own __address space__.\n",
    "* multiple tasks run independently of one another as though they each had the full memory of the machine to themselves. \n",
    "* a thread is different in that it does not have its own address space. "
   ]
  },
  {
   "cell_type": "markdown",
   "metadata": {},
   "source": [
    "Cpython implementation uses __Global Interpreter Lock__ allows only one thread in any given core. So there is no multithreading in python. the __multiprocessing__ module makes use of multiprocessing instead of multithreading."
   ]
  },
  {
   "cell_type": "code",
   "execution_count": 2,
   "metadata": {},
   "outputs": [
    {
     "name": "stdout",
     "output_type": "stream",
     "text": [
      "Thread ID 0 now alive!\n",
      "Thread with ID 0 has counter value 1\n",
      "Thread ID 2 now alive!\n",
      "Thread with ID 2 has counter value 1\n",
      "Thread ID 1 now alive!\n",
      "Thread with ID 1 has counter value 1Thread ID 4 now alive!\n",
      "\n",
      "Thread with ID 4 has counter value 1\n",
      "Thread ID 3 now alive!\n",
      "Thread with ID 3 has counter value 1\n",
      "Thread with ID 4 has counter value 1Thread with ID 1 has counter value 1Thread with ID 3 has counter value 1Thread with ID 2 has counter value 1 \n",
      "\n",
      "\n",
      "\n",
      "Thread with ID 0 has counter value 1\n",
      "Thread with ID 0 has counter value 2\n",
      "Thread with ID 2 has counter value 2\n",
      "Thread with ID 1 has counter value 2\n",
      "Thread with ID 4 has counter value 2\n",
      "Thread with ID 3 has counter value 2\n",
      "Thread with ID 1 has counter value 1Thread with ID 3 has counter value 1Thread with ID 4 has counter value 1Thread with ID 0 has counter value 1\n",
      "\n",
      "\n",
      "\n",
      " Thread with ID 2 has counter value 1\n",
      "Thread with ID 0 has counter value 3\n",
      "Thread with ID 2 has counter value 3\n",
      "Thread with ID 1 has counter value 3\n",
      "Thread with ID 4 has counter value 3\n",
      "Thread with ID 3 has counter value 3\n",
      "Thread with ID 4 has counter value 1Thread with ID 3 has counter value 1Thread with ID 0 has counter value 1Thread with ID 1 has counter value 1Thread with ID 2 has counter value 1\n",
      "\n",
      "\n",
      "\n",
      "\n",
      "Thread with ID 0 has counter value 4\n",
      "Thread with ID 2 has counter value 4\n",
      "Thread with ID 1 has counter value 4\n",
      "Thread with ID 4 has counter value 4\n",
      "Thread with ID 3 has counter value 4\n",
      "Thread with ID 3 has counter value 1Thread with ID 1 has counter value 1Thread with ID 0 has counter value 1Thread with ID 2 has counter value 1\n",
      "\n",
      "\n",
      "Thread with ID 4 has counter value 1\n",
      "\n",
      "Thread with ID 0 has counter value 5\n",
      "Thread with ID 2 has counter value 5\n",
      "Thread with ID 4 has counter value 5Thread with ID 1 has counter value 5\n",
      "\n",
      "Thread with ID 3 has counter value 5\n",
      "Thread with ID 1 has counter value 1\n",
      "Thread with ID 2 has counter value 1\n",
      "Thread with ID 4 has counter value 1Thread with ID 3 has counter value 1\n",
      " \n",
      "Thread with ID 0 has counter value 1\n",
      "Thread with ID 2 has counter value 6Thread with ID 0 has counter value 6\n",
      "\n",
      "Thread with ID 4 has counter value 6\n",
      "Thread with ID 1 has counter value 6\n",
      "Thread with ID 3 has counter value 6\n",
      "Thread with ID 1 has counter value 1\n",
      "Thread with ID 4 has counter value 1\n",
      "Thread with ID 2 has counter value 1Thread with ID 3 has counter value 1\n",
      " \n",
      "Thread with ID 0 has counter value 1\n",
      "Thread with ID 2 has counter value 7\n",
      "Thread with ID 0 has counter value 7\n",
      "Thread with ID 4 has counter value 7\n",
      "Thread with ID 1 has counter value 7\n",
      "Thread with ID 3 has counter value 7\n",
      "Thread with ID 1 has counter value 1\n",
      "Thread with ID 4 has counter value 1Thread with ID 2 has counter value 1\n",
      "\n",
      "Thread with ID 3 has counter value 1\n",
      "Thread with ID 0 has counter value 1\n",
      "Thread with ID 0 has counter value 8Thread with ID 2 has counter value 8\n",
      "\n",
      "Thread with ID 4 has counter value 8\n",
      "Thread with ID 1 has counter value 8\n",
      "Thread with ID 3 has counter value 8\n",
      "Thread with ID 1 has counter value 1\n",
      "Thread with ID 2 has counter value 1\n",
      "Thread with ID 4 has counter value 1\n",
      "Thread with ID 3 has counter value 1Thread with ID 0 has counter value 1\n",
      "\n",
      "Thread with ID 0 has counter value 9\n",
      "Thread with ID 2 has counter value 9\n",
      "Thread with ID 4 has counter value 9\n",
      "Thread with ID 1 has counter value 9\n",
      "Thread with ID 3 has counter value 9\n",
      "Thread with ID 1 has counter value 1\n",
      "Thread with ID 2 has counter value 1\n",
      "Thread with ID 4 has counter value 1\n",
      "Thread with ID 0 has counter value 1Thread with ID 3 has counter value 1\n",
      "\n",
      "Thread with ID 0 has counter value 10\n",
      " Thread with ID 4 has counter value 10\n",
      "Thread with ID 2 has counter value 10\n",
      "Thread with ID 1 has counter value 10\n",
      "Thread with ID 3 has counter value 10\n",
      "Thread with ID 2 has counter value 1\n",
      "Thread with ID 1 has counter value 1\n",
      "Thread with ID 4 has counter value 1\n",
      "Thread with ID 0 has counter value 1\n",
      "Thread with ID 3 has counter value 1\n",
      "Thread with ID 4 has counter value 11Thread with ID 1 has counter value 11Thread with ID 0 has counter value 11 \n",
      "\n",
      "Thread with ID 2 has counter value 11\n",
      "\n",
      "Thread with ID 3 has counter value 11\n",
      "Thread with ID 1 has counter value 1Thread with ID 4 has counter value 1Thread with ID 2 has counter value 1\n",
      "\n",
      "\n",
      "Thread with ID 0 has counter value 1\n",
      "Thread with ID 3 has counter value 1\n",
      "Thread with ID 0 has counter value 12Thread with ID 2 has counter value 12 Thread with ID 4 has counter value 12\n",
      "\n",
      "Thread with ID 1 has counter value 12\n",
      "\n",
      "Thread with ID 3 has counter value 12\n",
      "Thread with ID 1 has counter value 1Thread with ID 2 has counter value 1\n",
      "Thread with ID 4 has counter value 1\n",
      "\n",
      "Thread with ID 0 has counter value 1\n",
      "Thread with ID 3 has counter value 1\n",
      "Thread with ID 4 has counter value 13\n",
      "Thread with ID 1 has counter value 13Thread with ID 2 has counter value 13Thread with ID 0 has counter value 13\n",
      "\n",
      "\n",
      "Thread with ID 3 has counter value 13\n",
      "Thread with ID 2 has counter value 1Thread with ID 1 has counter value 1\n",
      "Thread with ID 4 has counter value 1\n",
      "\n",
      "Thread with ID 0 has counter value 1\n",
      "Thread with ID 3 has counter value 1\n",
      "Thread with ID 2 has counter value 14\n",
      "Thread with ID 4 has counter value 14Thread with ID 1 has counter value 14Thread with ID 0 has counter value 14\n",
      "\n",
      "\n",
      "Thread with ID 3 has counter value 14\n",
      "Thread with ID 4 has counter value 1Thread with ID 1 has counter value 1Thread with ID 2 has counter value 1\n",
      "\n",
      "\n",
      "Thread with ID 0 has counter value 1\n",
      "Thread with ID 3 has counter value 1\n",
      "Thread with ID 2 has counter value 15\n",
      "Thread with ID 1 has counter value 15Thread with ID 0 has counter value 15Thread with ID 4 has counter value 15\n",
      "\n",
      "\n",
      "Thread with ID 3 has counter value 15\n",
      "Thread with ID 4 has counter value 1\n",
      "Thread with ID 1 has counter value 1\n",
      "Thread with ID 2 has counter value 1\n",
      "Thread with ID 0 has counter value 1\n",
      "Thread with ID 3 has counter value 1\n",
      "Thread with ID 2 has counter value 16Thread with ID 1 has counter value 16 \n",
      "Thread with ID 0 has counter value 16\n",
      "Thread with ID 4 has counter value 16\n",
      "\n",
      "Thread with ID 3 has counter value 16\n",
      "Thread with ID 4 has counter value 1\n",
      "Thread with ID 2 has counter value 1Thread with ID 1 has counter value 1\n",
      "\n",
      "Thread with ID 0 has counter value 1\n",
      "Thread with ID 3 has counter value 1\n",
      "Thread with ID 4 has counter value 17\n",
      "Thread with ID 0 has counter value 17\n",
      "Thread with ID 2 has counter value 17\n",
      " Thread with ID 1 has counter value 17\n",
      "Thread with ID 3 has counter value 17\n",
      "Thread with ID 4 has counter value 1\n",
      "Thread with ID 1 has counter value 1\n",
      "Thread with ID 2 has counter value 1\n",
      "Thread with ID 0 has counter value 1\n",
      "Thread with ID 3 has counter value 1\n",
      "Thread with ID 4 has counter value 18\n",
      "Thread with ID 0 has counter value 18\n",
      "Thread with ID 2 has counter value 18\n",
      " Thread with ID 1 has counter value 18\n",
      "Thread with ID 3 has counter value 18\n",
      "Thread with ID 4 has counter value 1\n",
      "Thread with ID 1 has counter value 1\n",
      "Thread with ID 2 has counter value 1\n",
      "Thread with ID 0 has counter value 1\n",
      "Thread with ID 3 has counter value 1\n",
      "Thread with ID 4 has counter value 19\n",
      "Thread with ID 0 has counter value 19\n",
      "Thread with ID 2 has counter value 19\n",
      "Thread with ID 1 has counter value 19\n",
      "Thread with ID 3 has counter value 19\n",
      "Thread with ID 4 has counter value 1\n",
      "Thread with ID 1 has counter value 1\n",
      "Thread with ID 2 has counter value 1\n",
      "Thread with ID 3 has counter value 1\n",
      "Thread with ID 0 has counter value 1\n",
      "Thread with ID 4 has counter value 20Thread with ID 0 has counter value 20\n",
      "\n",
      "Thread with ID 2 has counter value 20Thread with ID 1 has counter value 20\n",
      "\n",
      "Thread with ID 3 has counter value 20\n",
      "Thread with ID 1 has counter value 1\n",
      "Thread with ID 4 has counter value 1\n",
      "Thread with ID 2 has counter value 1\n",
      "Thread with ID 3 has counter value 1 \n",
      "Thread with ID 0 has counter value 1\n",
      "Thread with ID 0 has counter value 21Thread with ID 4 has counter value 21\n",
      "\n",
      "Thread with ID 2 has counter value 21\n",
      "Thread with ID 1 has counter value 21Thread with ID 3 has counter value 21\n",
      "\n",
      "Thread with ID 1 has counter value 1\n",
      "Thread with ID 4 has counter value 1\n",
      "Thread with ID 2 has counter value 1Thread with ID 0 has counter value 1 Thread with ID 3 has counter value 1\n",
      "\n",
      "\n"
     ]
    }
   ],
   "source": [
    "import thread \n",
    "import time \n",
    "def worker_thread(id):\n",
    "    print \"Thread ID %d now alive!\" %id \n",
    "    count = 1 \n",
    "    while True:\n",
    "        print \"Thread with ID %d has counter value %d\" %(id, count)\n",
    "        time.sleep(2)\n",
    "        count+=1\n",
    "        \n",
    "for i in range(5):\n",
    "    thread.start_new_thread(worker_thread, (i,))\n",
    "    \n"
   ]
  },
  {
   "cell_type": "code",
   "execution_count": null,
   "metadata": {
    "collapsed": true
   },
   "outputs": [],
   "source": [
    "# multithreaded port scanning in python \n",
    "import socket, threading, thread , sys\n",
    "class PortScanner(threading.Thread):\n",
    "    openportcount = 0\n",
    "    \n",
    "    def __init__(self, hostname, portrange):\n",
    "        threading.Tread.__init__(self)\n",
    "        self.hostname = hostname\n",
    "        self.portrange = portrange\n",
    "        \n",
    "    def run(self):\n",
    "        while True:\n",
    "            for port in range(self.portrange[0], self.portrange[1]):\n",
    "                sock = socket.socket(socket.AF_INET, socket.SOCK_STREAM)\n",
    "                status = sock.connect_ex((self.hostname, port))\n",
    "                print status \n",
    "                if status == 0:\n",
    "                    print \"open \\t %d\" %port \n",
    "                    self.openportcount+=1 \n",
    "                    sock.close()\n",
    "                else:\n",
    "                    pass \n",
    "            thread.exit() \n",
    "\n",
    "def main():\n",
    "    hostname = sys.argv[1]\n",
    "    portrange = list(int(argv[2]), int(argv[3]))\n",
    "    lport = portrange[0]\n",
    "    uport = portrange[1]\n",
    "    thread_count = int(sys.argv[4]) \n",
    "    r = (portrange[1] - portrange[0])/thread_count \n",
    "    threads = []\n",
    "    for i in range(1, thread_count):\n",
    "        uport = lport + r + 1 \n",
    "        if uport > 65535:\n",
    "            uport = 65535 \n",
    "        ports = [lport, uport]\n",
    "        thread = PortScanner(hostname, ports)\n",
    "        lport = uport + 1 \n",
    "        thread.start()\n",
    "        threads.append(thread)\n",
    "    for t in threads:\n",
    "        t.join() \n",
    "    \n",
    "    print \"\\n %d open ports found\" %PortScanner.openportcount\n",
    "    print \"\\nDone\"\n",
    "    \n",
    "if __name__ == \"__main__\":\n",
    "    main() "
   ]
  },
  {
   "cell_type": "markdown",
   "metadata": {},
   "source": [
    "In the previous example, a list is created to keep track of the thread status, and threads are joined upon finishing execution. Another way to do this is to use a queue."
   ]
  },
  {
   "cell_type": "code",
   "execution_count": null,
   "metadata": {
    "collapsed": true
   },
   "outputs": [],
   "source": [
    "import threading \n",
    "import Queue\n",
    "import time \n",
    "\n",
    "class WorkerThread(threading.Thread):\n",
    "    def __init__(self.queue):\n",
    "        threading.Thread.__init__(self)\n",
    "        self.queue=queue\n",
    "        \n",
    "    def run(self):   # the main execution block, could be used for anything really \n",
    "        print \"In WorkerThread\"\n",
    "        while True:\n",
    "            counter = self.queue.get()\n",
    "            time.sleep(counter)\n",
    "            self.queue.task_done()\n",
    "\n",
    "            \n",
    "            \n",
    "queue = Queue.Queue()\n",
    " \n",
    "for i in range(10):\n",
    "    print \"creating thread %d\" %i\n",
    "    worker = WorkerThread(queue)\n",
    "    worker.setDaemon(True)\n",
    "    worker.start()\n",
    "    print \"worker thread %d created\" %i\n",
    "\n",
    "for j in range(10):\n",
    "    queue.put(j)\n",
    "\n",
    "# wait for the task queue to be completely empty \n",
    "queue.join() \n",
    "\n",
    "print \"all tasks over\""
   ]
  },
  {
   "cell_type": "markdown",
   "metadata": {},
   "source": [
    "when queue is empty all threads are finished and the program exits."
   ]
  },
  {
   "cell_type": "markdown",
   "metadata": {},
   "source": [
    "In the Cpython implementation, where the GIL is in place, a better choice is to use multiprocessing with the multiprocessing module, instead of threading "
   ]
  },
  {
   "cell_type": "markdown",
   "metadata": {},
   "source": [
    "* Signals are used for interproecss communication (also pipes, not covered here) \n",
    "* Allow handling of Asynchronous events \n",
    "* SIGKILL is what sent with kill -9 "
   ]
  },
  {
   "cell_type": "code",
   "execution_count": 1,
   "metadata": {},
   "outputs": [
    {
     "data": {
      "text/plain": [
       "<function signal.default_int_handler>"
      ]
     },
     "execution_count": 1,
     "metadata": {},
     "output_type": "execute_result"
    }
   ],
   "source": [
    "import signal \n",
    "# All these system level codes are bad to run in Ipython kernel\n",
    "# write independent scipts to test instead \n",
    "# a signal handler, just like in C\n",
    "def ctrlc_handler(signum, frm):\n",
    "    print \"Haha, ou cannot kill me\"\n",
    "\n",
    "# associate the SIGKILL with the handler \n",
    "signal.signal(signal.SIGINT, ctrlc_handler)"
   ]
  },
  {
   "cell_type": "markdown",
   "metadata": {
    "collapsed": true
   },
   "source": [
    "#### Subprocesses "
   ]
  },
  {
   "cell_type": "code",
   "execution_count": 4,
   "metadata": {
    "collapsed": true
   },
   "outputs": [],
   "source": [
    "import subprocess\n",
    "line1= subprocess.call(['ps', 'aux'])\n",
    "line2 = subprocess.call(['ls', '-al'])"
   ]
  },
  {
   "cell_type": "code",
   "execution_count": 8,
   "metadata": {
    "collapsed": true
   },
   "outputs": [],
   "source": [
    "handle = subprocess.Popen(\"ls\", stdin=subprocess.PIPE, stdout=subprocess.PIPE, stderr=subprocess.PIPE, close_fds=True)"
   ]
  },
  {
   "cell_type": "code",
   "execution_count": 9,
   "metadata": {},
   "outputs": [
    {
     "data": {
      "text/plain": [
       "'new_Inheritance.txt\\nPython Pentest.ipynb\\ntempdir\\n'"
      ]
     },
     "execution_count": 9,
     "metadata": {},
     "output_type": "execute_result"
    }
   ],
   "source": [
    "handle.stdout.read()"
   ]
  },
  {
   "cell_type": "markdown",
   "metadata": {},
   "source": [
    "Executing shell commands that incorporate unsanitized input from an untrusted source makes a program vulnerable to __shell injection__, a serious security flaw which can result in arbitrary command execution. For this reason, the use of shell=True is strongly discouraged in cases where the command string is constructed from external input:"
   ]
  },
  {
   "cell_type": "markdown",
   "metadata": {
    "collapsed": true
   },
   "source": [
    "### Simple client and server with socket"
   ]
  },
  {
   "cell_type": "code",
   "execution_count": null,
   "metadata": {
    "collapsed": true
   },
   "outputs": [],
   "source": [
    "import socket \n",
    "# create TCP socket \n",
    "tcpSocket = socket.socket(socket.AF_INET, socket.SOCK_STREAM)  \n",
    "# bind socket to portno on IP \n",
    "tcpSocket.bind(\"127.0.0.1\", 8000)  \n",
    "# listen on the port \n",
    "tcpSocket.listen(2)  # number of clients socket can handle \n",
    "\n",
    "print \"waiting for client connections\"\n",
    "(client, (ip, port)) = tcpSocket.accept()\n",
    "print \"received connection from: \", ip \n",
    "# every incoming client creates a socket on the serverside \n",
    "# accept is blocking call: it hangs if no connection comes \n",
    "data = \"dummy\" \n",
    "while len(data):\n",
    "    # echo back the msg sent by client \n",
    "    data = client.recv(2048)\n",
    "    print \"client sent: \", data\n",
    "    client.send(data)\n",
    "print \"closing connection\"\n",
    "client.close() \n",
    "tcpSocket.close() "
   ]
  },
  {
   "cell_type": "markdown",
   "metadata": {},
   "source": [
    "to summarize, basic server side code includes:\n",
    "* create socket \n",
    "* bind socket to port \n",
    "* listen on port to wait connection \n",
    "* once connection received, read data and send data back\n",
    "* close connection when done (normally when client stops sending)\n",
    "* shutdown the server \n",
    "When program shuts down, the IP+port combination is not immediately resuable, a workaround is to add option:\n",
    "* setsockopt(socket.SOL_SOCKET, socket.SO_REUSEADDR, 1)"
   ]
  },
  {
   "cell_type": "code",
   "execution_count": null,
   "metadata": {
    "collapsed": true
   },
   "outputs": [],
   "source": [
    "tcpSocket.setsockopt(socket.SOL_SOCKET, socket.SO_REUSEADDR,1)  # called immediately after the socket creation "
   ]
  },
  {
   "cell_type": "markdown",
   "metadata": {},
   "source": [
    "#### ways to handle client:\n",
    "* multithreaded server \n",
    "* multiprocess server\n",
    "* non-blocking sockets with select (Multiplexing)"
   ]
  },
  {
   "cell_type": "code",
   "execution_count": null,
   "metadata": {
    "collapsed": true
   },
   "outputs": [],
   "source": [
    "# cient code \n",
    "import socket \n",
    "import sys\n",
    "tcpSocket = socket.socket(socket.AF_INET, socket.SOCK_STREAM)\n",
    "tcpSocket.connect((sys.argv[1], 8000))\n",
    "while 1:\n",
    "    userInput = raw_input(\"Please enter a string\")\n",
    "    tcpSocket.send(userInput)\n",
    "    print tcpSocket.recv(2048)\n",
    "tcpSocket.close() \n"
   ]
  },
  {
   "cell_type": "markdown",
   "metadata": {},
   "source": [
    "A more automatic way to create client and server in python is to use __socketserver__ framework, which does everything in the background:\n",
    "* Has to be subclass of BaseRequestHandler\n",
    "* override handle() to process request\n",
    "* call handle_request or serve_forever to process clients\n",
    "* For TCP servers:\n",
    "    1. self.request is the client socket \n",
    "    2. self.client_address is the client details "
   ]
  },
  {
   "cell_type": "code",
   "execution_count": null,
   "metadata": {
    "collapsed": true
   },
   "outputs": [],
   "source": [
    "import SocketServer\n",
    "import socket \n",
    "class EchoHandler(SocketServer.BaseRequestHandler):\n",
    "    def handle(self):\n",
    "        print \"Got connection from: \", self.client_address\n",
    "        data = \"dummy\"\n",
    "        while len(data):\n",
    "            data = self.request.recv(1024)\n",
    "            self.request.send(data)\n",
    "            \n",
    "        print \"client left\"\n",
    "        \n",
    "serverAddr = (\"0.0.0.0\", 9000)\n",
    "server = SocketServer.TCPServer(serverAddr, EchoHandler)\n",
    "server.serve_forever() "
   ]
  },
  {
   "cell_type": "code",
   "execution_count": null,
   "metadata": {
    "collapsed": true
   },
   "outputs": [],
   "source": []
  },
  {
   "cell_type": "code",
   "execution_count": null,
   "metadata": {
    "collapsed": true
   },
   "outputs": [],
   "source": [
    "import socket\n",
    "import threading\n",
    "\n",
    "class ThreadedServer(object):\n",
    "    def __init__(self, host, port):\n",
    "        self.host = host\n",
    "        self.port = port\n",
    "        self.sock = socket.socket(socket.AF_INET, socket.SOCK_STREAM)\n",
    "        self.sock.setsockopt(socket.SOL_SOCKET, socket.SO_REUSEADDR, 1)\n",
    "        self.sock.bind((self.host, self.port))\n",
    "\n",
    "    def listen(self):\n",
    "        self.sock.listen(5)\n",
    "        while True:\n",
    "            client, address = self.sock.accept()\n",
    "            client.settimeout(60)\n",
    "            threading.Thread(target = self.listenToClient,args = (client,address)).start()\n",
    "\n",
    "    def listenToClient(self, client, address):\n",
    "        size = 1024\n",
    "        while True:\n",
    "            try:\n",
    "                data = client.recv(size)\n",
    "                if data:\n",
    "                    # Set the response to echo back the recieved data \n",
    "                    response = data\n",
    "                    client.send(response)\n",
    "                else:\n",
    "                    raise error('Client disconnected')\n",
    "            except:\n",
    "                client.close()\n",
    "                return False\n",
    "\n",
    "if __name__ == \"__main__\":\n",
    "    while True:\n",
    "        port_num = input(\"Port? \")\n",
    "        try:\n",
    "            port_num = int(port_num)\n",
    "            break\n",
    "        except ValueError:\n",
    "            pass\n",
    "\n",
    "    ThreadedServer('',port_num).listen()"
   ]
  },
  {
   "cell_type": "markdown",
   "metadata": {},
   "source": [
    "### Web Server\n",
    "* HTTP, listen on port 80/443\n",
    "* wait for client request (GET, POST, HEAD, etc)\n",
    "* process request: serve files, execute CGI script "
   ]
  },
  {
   "cell_type": "code",
   "execution_count": null,
   "metadata": {
    "collapsed": true
   },
   "outputs": [],
   "source": [
    "import SocketServer\n",
    "import SimpleHTTPServer\n",
    "\n",
    "class HttpRequestHandler(SimpleHTTPServer.SimpleHTTPRequestHandler):\n",
    "    \n",
    "    def do_GET(self):\n",
    "        if self.path == '/admin':\n",
    "            self.wfile.write('This page is only for Admins')\n",
    "            self.wfile.write(self.headers)\n",
    "        else:\n",
    "            SimpleHTTPServer.SimpleHTTPRequestHandler.do_GET(self)\n",
    "    \n",
    "httpServer = SocketServer.TCPServer((\"\", 10001), HttpRequestHandler)\n",
    "httpServer.serve_forever()\n",
    "# after the server is up, can nagivate to it in browser \n",
    "# using IP:portno"
   ]
  },
  {
   "cell_type": "markdown",
   "metadata": {
    "collapsed": true
   },
   "source": [
    "## Raw sockets\n",
    "* bypass whole network stack traversal of a packet and deliver it directly to an application\n",
    "* multiple ways to create raw packets, i.e. PF_PACKET interface.\n",
    "\n",
    "Normally a network traffic has to go through the 7 layers of the OSI model, but raw sockets bypass the whole process beginning from the network (IP) layer\n",
    "\n",
    "* PF_PACKET is a software interface to send/receive packets at layer 2. \n",
    "* All packets received will be complete with all headers and data \n",
    "* ALl packets sent will be transmitted without modification by the kernel to the medium\n",
    "* Supports filtering using Berkeley Packet Filter."
   ]
  },
  {
   "cell_type": "code",
   "execution_count": 2,
   "metadata": {},
   "outputs": [
    {
     "data": {
      "text/plain": [
       "'\\x01'"
      ]
     },
     "execution_count": 2,
     "metadata": {},
     "output_type": "execute_result"
    }
   ],
   "source": [
    "# network uses big endian, x86 uses little endian\n",
    "import struct \n",
    "# as a byte \n",
    "struct.pack(\"B\", 1)"
   ]
  },
  {
   "cell_type": "code",
   "execution_count": 3,
   "metadata": {},
   "outputs": [
    {
     "data": {
      "text/plain": [
       "'\\x01\\x00'"
      ]
     },
     "execution_count": 3,
     "metadata": {},
     "output_type": "execute_result"
    }
   ],
   "source": [
    "# unsigned short \n",
    "struct.pack(\"H\",1)"
   ]
  },
  {
   "cell_type": "code",
   "execution_count": 4,
   "metadata": {},
   "outputs": [
    {
     "data": {
      "text/plain": [
       "'\\x00\\x01'"
      ]
     },
     "execution_count": 4,
     "metadata": {},
     "output_type": "execute_result"
    }
   ],
   "source": [
    "# big endian format \n",
    "struct.pack(\">H\", 1)"
   ]
  },
  {
   "cell_type": "code",
   "execution_count": 5,
   "metadata": {},
   "outputs": [
    {
     "data": {
      "text/plain": [
       "'\\x00\\x01'"
      ]
     },
     "execution_count": 5,
     "metadata": {},
     "output_type": "execute_result"
    }
   ],
   "source": [
    "# same notation \n",
    "struct.pack(\"!H\", 1)"
   ]
  },
  {
   "cell_type": "code",
   "execution_count": 6,
   "metadata": {},
   "outputs": [
    {
     "data": {
      "text/plain": [
       "'\\x01\\x00\\x00\\x00\\x00\\x00\\x00\\x00'"
      ]
     },
     "execution_count": 6,
     "metadata": {},
     "output_type": "execute_result"
    }
   ],
   "source": [
    "# unsigned long \n",
    "struct.pack(\"L\", 1)"
   ]
  },
  {
   "cell_type": "code",
   "execution_count": 7,
   "metadata": {},
   "outputs": [
    {
     "data": {
      "text/plain": [
       "(1,)"
      ]
     },
     "execution_count": 7,
     "metadata": {},
     "output_type": "execute_result"
    }
   ],
   "source": [
    "struct.unpack(\"L\", \"\\x01\\x00\\x00\\x00\\x00\\x00\\x00\\x00\")"
   ]
  },
  {
   "cell_type": "code",
   "execution_count": null,
   "metadata": {
    "collapsed": true
   },
   "outputs": [],
   "source": [
    "# sample code for printing out the ethernet information \n",
    "# as a packet sniffer \n",
    "import socket\n",
    "import struct\n",
    "import binascii\n",
    "# 0x0000 is the IP protocol, \n",
    "# this is not permitted raw socket can only be used as root or higher privilege\n",
    "rawSocket = socket.socket(socket.PF_PACKET, socket.SOCK_RAW, socket.htons(0x0000))\n",
    "\n",
    "# pkt contains a tuple, first item is the full raw packet \n",
    "pkt = rawSocket.recvfrom(2048)\n",
    "\n",
    "ethernetHeader = pkt[0][:14] # first 14 bytes ethernet header\n",
    "\n",
    "# 6 byes dst MAC, 6 bytes src MAC, 2 bytes Ether_type, returns a tuple\n",
    "eth_hdr = struct.unpack(\"!6s6s2s\", ethernetHeader)\n",
    "\n",
    "binascii.hexlify(eth_hdr[0])\n",
    "binascii.hexlify(eth_hdr[1])  # src HOST MAC\n",
    "binascii.hexlify(eth_hdr[2])  # ethertype\n",
    "\n",
    "\n",
    "ipHeader = pkt[0][14:34]  # as the IP header \n",
    "ip_hdr = struct.unpack(\"!12s4s4s\", ipHeader)\n",
    "\n",
    "# IP address directly print using inet_ntoa\n",
    "print \"source IP address: \" + socket.inet_ntoa(ip_hdr[1])\n",
    "print \"destination IP address: \" + socket.inet_ntoa(ip_hdr[2])\n",
    "\n",
    "# TCP header is the next 20 bytes \n",
    "tcpHeader = pkt[0][34:54]\n",
    "tcp_hdr = struct.unpack(\"!HH16s\", tcpHeader)\n",
    "print \"source TCP port: \" + tcp_hdr[0]\n",
    "print \"destination TCP port: \"+ tcp_hdr[1]"
   ]
  },
  {
   "cell_type": "markdown",
   "metadata": {},
   "source": [
    "need the command ifconfig eth0 promisc or to make any interface into promiscuous mode."
   ]
  },
  {
   "cell_type": "markdown",
   "metadata": {},
   "source": [
    "### Packet Injection\n",
    "* ability to inject raw packets into the network \n",
    "* stimulate responses from network \n",
    "* packet construction not scalable with raw sockets "
   ]
  },
  {
   "cell_type": "code",
   "execution_count": null,
   "metadata": {
    "collapsed": true
   },
   "outputs": [],
   "source": [
    "# send raw socket into the network\n",
    "rawSocket = socket.socket(socket.PF_PACKET, socket.SOCK_RAW, socket.htons(0.0000))\n",
    "# need a binding for interface\n",
    "rawSocket.bind((\"eth0\", socket_htons(0x0000)))\n",
    "packet = struct.pack(\"!6s6s2s\", \"\\xaa\\xaa\\xaa\\xaa\\xaa\\xaa\", '\\xbb\\xbb\\xbb\\xbb\\xbb\\xbb', '\\x08\\x00')\n",
    "rawSocket.send(packet + \"Hello world\")\n",
    "# the send can be inserted with random textx "
   ]
  },
  {
   "cell_type": "markdown",
   "metadata": {},
   "source": [
    "can use _tcpdump_ on the interface \n",
    "* tcpdump -i eth0 -vv -XX \"not port 22\"\n"
   ]
  },
  {
   "cell_type": "code",
   "execution_count": null,
   "metadata": {
    "collapsed": true
   },
   "outputs": [],
   "source": [
    "# create ARP request packet using Raw Sockets \n",
    "# research on the format for the ARP package then send via the network inteface\n"
   ]
  },
  {
   "cell_type": "markdown",
   "metadata": {},
   "source": [
    "### Scapy module \n"
   ]
  },
  {
   "cell_type": "markdown",
   "metadata": {
    "collapsed": true
   },
   "source": [
    "directly use scapy in the command line interface\n",
    "\n",
    "* sudo scapy \n"
   ]
  },
  {
   "cell_type": "code",
   "execution_count": null,
   "metadata": {
    "collapsed": true
   },
   "outputs": [],
   "source": [
    "# the following are supposed to be in the command line \n",
    "ls()   \n",
    "ls(IP)\n",
    "IP().show()\n",
    "\n",
    "# sniffing packets\n",
    "pkts = sniff(iface=\"eth1\", count=3)\n",
    "\n",
    "# view content of the packet\n",
    "hexdump(pkts[1])\n",
    "\n",
    "# simulating sniffing with a offline pcap capture \n",
    "pkts = sniff(offine=\"offine.pcap\")\n",
    "\n",
    "# Adding filters \n",
    "pkts = sniff(iface=\"eth1\", filter=\"arp\", count=3)\n",
    "\n",
    "# print packets live \n",
    "pkts = sniff(iface=\"eth1\", filter=\"icmp\", count=20, prn= lambda x: x.summary())\n",
    "\n",
    "# write packet to pcap file \n",
    "wrpcap(\"demo.cap\", pkts)\n",
    "\n",
    "# read from pcap file \n",
    "rdpcap(\"demo.cap\")\n",
    "\n",
    "# export packet as Base64 encoded \n",
    "export_object(str(pkts[0]))\n",
    "\n",
    "\n",
    "             "
   ]
  },
  {
   "cell_type": "code",
   "execution_count": null,
   "metadata": {
    "collapsed": true
   },
   "outputs": [],
   "source": [
    "pkt = IP(dst=\"google.com\")/ICMP()/\"hello world\"\n",
    "# send via layer 3 \n",
    "send(pkt)\n",
    "\n",
    "# send via layer 2 \n",
    "sendp(Ehter()/IP(dst=\"google.com\")/ICMP()/\"XXX\", iface=\"eh1\", loop=1, iter=1)\n",
    "\n",
    "# send and recceive via layer 3\n",
    "sr(IP(dst=\"google.com\")/ICMP()/\"XXX\") \n",
    "response, noresponse = _\n",
    "response[0]\n",
    "\n",
    "# if you are confident that one answer will eventually be received \n",
    "sr1(IP(dst=\"google.com\")/ICMP()/\"XXX\")\n",
    "\n",
    "\n",
    "# send and receive\n",
    "srp1(Ether()/IP(dst=\"google.com\", ttl=22)/ICMP()/\"xxx\")\n",
    "rl(IP(dst=\"google.com\"), timeout=3)\n",
    "\n",
    "#routing \n",
    "conf.route # the whole routing table \n",
    "conf.route.add(host=\"192.168.1.1/8\", gw=\"192.168.1.22\")\n",
    "conf.route.resync() "
   ]
  },
  {
   "cell_type": "code",
   "execution_count": null,
   "metadata": {
    "collapsed": true
   },
   "outputs": [],
   "source": [
    "# now is time for python \n",
    "# need sudo \n",
    "from scapy.all import *\n",
    "\n",
    "#subset ARP scanner\n",
    "for lsb in range(1,50):\n",
    "    ip = \"192.168.1.\" + str(lsb)\n",
    "    arpRequest = Ether(dst=\"ff:ff:ff:ff:ff:ff\")/ARP(pdst=ip, hwdst=\"ff:ff:ff:ff:ff:ff\")\n",
    "    arpResponse = srp1(arpRequest, timeout=1, verbose=0)\n",
    "    if arpResponse:\n",
    "        print \"IP\" + arpResponse.psrc + \"MAC: \" + arpResponse.hwsrc"
   ]
  },
  {
   "cell_type": "markdown",
   "metadata": {},
   "source": [
    "## Web scapping \n",
    "\n",
    "First, enable the Apache web server on local machine.\n",
    "\n"
   ]
  },
  {
   "cell_type": "code",
   "execution_count": 2,
   "metadata": {},
   "outputs": [
    {
     "data": {
      "text/plain": [
       "200"
      ]
     },
     "execution_count": 2,
     "metadata": {},
     "output_type": "execute_result"
    }
   ],
   "source": [
    "import urllib\n",
    "httpResponse = urllib.urlopen(\"http://localhost\")\n",
    "httpResponse.code"
   ]
  },
  {
   "cell_type": "code",
   "execution_count": 4,
   "metadata": {},
   "outputs": [
    {
     "name": "stdout",
     "output_type": "stream",
     "text": [
      "\n",
      "<!DOCTYPE html PUBLIC \"-//W3C//DTD XHTML 1.0 Transitional//EN\" \"http://www.w3.org/TR/xhtml1/DTD/xhtml1-transitional.dtd\">\n",
      "<html xmlns=\"http://www.w3.org/1999/xhtml\">\n",
      "  <!--\n",
      "    Modified from the Debian original for Ubuntu\n",
      "    Last updated: 2014-03-19\n",
      "    See: https://launchpad.net/bugs/1288690\n",
      "  -->\n",
      "  <head>\n",
      "    <meta http-equiv=\"Content-Type\" content=\"text/html; charset=UTF-8\" />\n",
      "    <title>Apache2 Ubuntu Default Page: It works</title>\n",
      "    <style type=\"text/css\" media=\"screen\">\n",
      "  * {\n",
      "    margin: 0px 0px 0px 0px;\n",
      "    padding: 0px 0px 0px 0px;\n",
      "  }\n",
      "\n",
      "  body, html {\n",
      "    padding: 3px 3px 3px 3px;\n",
      "\n",
      "    background-color: #D8DBE2;\n",
      "\n",
      "    font-family: Verdana, sans-serif;\n",
      "    font-size: 11pt;\n",
      "    text-align: center;\n",
      "  }\n",
      "\n",
      "  div.main_page {\n",
      "    position: relative;\n",
      "    display: table;\n",
      "\n",
      "    width: 800px;\n",
      "\n",
      "    margin-bottom: 3px;\n",
      "    margin-left: auto;\n",
      "    margin-right: auto;\n",
      "    padding: 0px 0px 0px 0px;\n",
      "\n",
      "    border-width: 2px;\n",
      "    border-color: #212738;\n",
      "    border-style: solid;\n",
      "\n",
      "    background-color: #FFFFFF;\n",
      "\n",
      "    text-align: center;\n",
      "  }\n",
      "\n",
      "  div.page_header {\n",
      "    height: 99px;\n",
      "    width: 100%;\n",
      "\n",
      "    background-color: #F5F6F7;\n",
      "  }\n",
      "\n",
      "  div.page_header span {\n",
      "    margin: 15px 0px 0px 50px;\n",
      "\n",
      "    font-size: 180%;\n",
      "    font-weight: bold;\n",
      "  }\n",
      "\n",
      "  div.page_header img {\n",
      "    margin: 3px 0px 0px 40px;\n",
      "\n",
      "    border: 0px 0px 0px;\n",
      "  }\n",
      "\n",
      "  div.table_of_contents {\n",
      "    clear: left;\n",
      "\n",
      "    min-width: 200px;\n",
      "\n",
      "    margin: 3px 3px 3px 3px;\n",
      "\n",
      "    background-color: #FFFFFF;\n",
      "\n",
      "    text-align: left;\n",
      "  }\n",
      "\n",
      "  div.table_of_contents_item {\n",
      "    clear: left;\n",
      "\n",
      "    width: 100%;\n",
      "\n",
      "    margin: 4px 0px 0px 0px;\n",
      "\n",
      "    background-color: #FFFFFF;\n",
      "\n",
      "    color: #000000;\n",
      "    text-align: left;\n",
      "  }\n",
      "\n",
      "  div.table_of_contents_item a {\n",
      "    margin: 6px 0px 0px 6px;\n",
      "  }\n",
      "\n",
      "  div.content_section {\n",
      "    margin: 3px 3px 3px 3px;\n",
      "\n",
      "    background-color: #FFFFFF;\n",
      "\n",
      "    text-align: left;\n",
      "  }\n",
      "\n",
      "  div.content_section_text {\n",
      "    padding: 4px 8px 4px 8px;\n",
      "\n",
      "    color: #000000;\n",
      "    font-size: 100%;\n",
      "  }\n",
      "\n",
      "  div.content_section_text pre {\n",
      "    margin: 8px 0px 8px 0px;\n",
      "    padding: 8px 8px 8px 8px;\n",
      "\n",
      "    border-width: 1px;\n",
      "    border-style: dotted;\n",
      "    border-color: #000000;\n",
      "\n",
      "    background-color: #F5F6F7;\n",
      "\n",
      "    font-style: italic;\n",
      "  }\n",
      "\n",
      "  div.content_section_text p {\n",
      "    margin-bottom: 6px;\n",
      "  }\n",
      "\n",
      "  div.content_section_text ul, div.content_section_text li {\n",
      "    padding: 4px 8px 4px 16px;\n",
      "  }\n",
      "\n",
      "  div.section_header {\n",
      "    padding: 3px 6px 3px 6px;\n",
      "\n",
      "    background-color: #8E9CB2;\n",
      "\n",
      "    color: #FFFFFF;\n",
      "    font-weight: bold;\n",
      "    font-size: 112%;\n",
      "    text-align: center;\n",
      "  }\n",
      "\n",
      "  div.section_header_red {\n",
      "    background-color: #CD214F;\n",
      "  }\n",
      "\n",
      "  div.section_header_grey {\n",
      "    background-color: #9F9386;\n",
      "  }\n",
      "\n",
      "  .floating_element {\n",
      "    position: relative;\n",
      "    float: left;\n",
      "  }\n",
      "\n",
      "  div.table_of_contents_item a,\n",
      "  div.content_section_text a {\n",
      "    text-decoration: none;\n",
      "    font-weight: bold;\n",
      "  }\n",
      "\n",
      "  div.table_of_contents_item a:link,\n",
      "  div.table_of_contents_item a:visited,\n",
      "  div.table_of_contents_item a:active {\n",
      "    color: #000000;\n",
      "  }\n",
      "\n",
      "  div.table_of_contents_item a:hover {\n",
      "    background-color: #000000;\n",
      "\n",
      "    color: #FFFFFF;\n",
      "  }\n",
      "\n",
      "  div.content_section_text a:link,\n",
      "  div.content_section_text a:visited,\n",
      "   div.content_section_text a:active {\n",
      "    background-color: #DCDFE6;\n",
      "\n",
      "    color: #000000;\n",
      "  }\n",
      "\n",
      "  div.content_section_text a:hover {\n",
      "    background-color: #000000;\n",
      "\n",
      "    color: #DCDFE6;\n",
      "  }\n",
      "\n",
      "  div.validator {\n",
      "  }\n",
      "    </style>\n",
      "  </head>\n",
      "  <body>\n",
      "    <div class=\"main_page\">\n",
      "      <div class=\"page_header floating_element\">\n",
      "        <img src=\"/icons/ubuntu-logo.png\" alt=\"Ubuntu Logo\" class=\"floating_element\"/>\n",
      "        <span class=\"floating_element\">\n",
      "          Apache2 Ubuntu Default Page\n",
      "        </span>\n",
      "      </div>\n",
      "<!--      <div class=\"table_of_contents floating_element\">\n",
      "        <div class=\"section_header section_header_grey\">\n",
      "          TABLE OF CONTENTS\n",
      "        </div>\n",
      "        <div class=\"table_of_contents_item floating_element\">\n",
      "          <a href=\"#about\">About</a>\n",
      "        </div>\n",
      "        <div class=\"table_of_contents_item floating_element\">\n",
      "          <a href=\"#changes\">Changes</a>\n",
      "        </div>\n",
      "        <div class=\"table_of_contents_item floating_element\">\n",
      "          <a href=\"#scope\">Scope</a>\n",
      "        </div>\n",
      "        <div class=\"table_of_contents_item floating_element\">\n",
      "          <a href=\"#files\">Config files</a>\n",
      "        </div>\n",
      "      </div>\n",
      "-->\n",
      "      <div class=\"content_section floating_element\">\n",
      "\n",
      "\n",
      "        <div class=\"section_header section_header_red\">\n",
      "          <div id=\"about\"></div>\n",
      "          It works!\n",
      "        </div>\n",
      "        <div class=\"content_section_text\">\n",
      "          <p>\n",
      "                This is the default welcome page used to test the correct \n",
      "                operation of the Apache2 server after installation on Ubuntu systems.\n",
      "                It is based on the equivalent page on Debian, from which the Ubuntu Apache\n",
      "                packaging is derived.\n",
      "                If you can read this page, it means that the Apache HTTP server installed at\n",
      "                this site is working properly. You should <b>replace this file</b> (located at\n",
      "                <tt>/var/www/html/index.html</tt>) before continuing to operate your HTTP server.\n",
      "          </p>\n",
      "\n",
      "\n",
      "          <p>\n",
      "                If you are a normal user of this web site and don't know what this page is\n",
      "                about, this probably means that the site is currently unavailable due to\n",
      "                maintenance.\n",
      "                If the problem persists, please contact the site's administrator.\n",
      "          </p>\n",
      "\n",
      "        </div>\n",
      "        <div class=\"section_header\">\n",
      "          <div id=\"changes\"></div>\n",
      "                Configuration Overview\n",
      "        </div>\n",
      "        <div class=\"content_section_text\">\n",
      "          <p>\n",
      "                Ubuntu's Apache2 default configuration is different from the\n",
      "                upstream default configuration, and split into several files optimized for\n",
      "                interaction with Ubuntu tools. The configuration system is\n",
      "                <b>fully documented in\n",
      "                /usr/share/doc/apache2/README.Debian.gz</b>. Refer to this for the full\n",
      "                documentation. Documentation for the web server itself can be\n",
      "                found by accessing the <a href=\"/manual\">manual</a> if the <tt>apache2-doc</tt>\n",
      "                package was installed on this server.\n",
      "\n",
      "          </p>\n",
      "          <p>\n",
      "                The configuration layout for an Apache2 web server installation on Ubuntu systems is as follows:\n",
      "          </p>\n",
      "          <pre>\n",
      "/etc/apache2/\n",
      "|-- apache2.conf\n",
      "|       `--  ports.conf\n",
      "|-- mods-enabled\n",
      "|       |-- *.load\n",
      "|       `-- *.conf\n",
      "|-- conf-enabled\n",
      "|       `-- *.conf\n",
      "|-- sites-enabled\n",
      "|       `-- *.conf\n",
      "          </pre>\n",
      "          <ul>\n",
      "                        <li>\n",
      "                           <tt>apache2.conf</tt> is the main configuration\n",
      "                           file. It puts the pieces together by including all remaining configuration\n",
      "                           files when starting up the web server.\n",
      "                        </li>\n",
      "\n",
      "                        <li>\n",
      "                           <tt>ports.conf</tt> is always included from the\n",
      "                           main configuration file. It is used to determine the listening ports for\n",
      "                           incoming connections, and this file can be customized anytime.\n",
      "                        </li>\n",
      "\n",
      "                        <li>\n",
      "                           Configuration files in the <tt>mods-enabled/</tt>,\n",
      "                           <tt>conf-enabled/</tt> and <tt>sites-enabled/</tt> directories contain\n",
      "                           particular configuration snippets which manage modules, global configuration\n",
      "                           fragments, or virtual host configurations, respectively.\n",
      "                        </li>\n",
      "\n",
      "                        <li>\n",
      "                           They are activated by symlinking available\n",
      "                           configuration files from their respective\n",
      "                           *-available/ counterparts. These should be managed\n",
      "                           by using our helpers\n",
      "                           <tt>\n",
      "                                <a href=\"http://manpages.debian.org/cgi-bin/man.cgi?query=a2enmod\">a2enmod</a>,\n",
      "                                <a href=\"http://manpages.debian.org/cgi-bin/man.cgi?query=a2dismod\">a2dismod</a>,\n",
      "                           </tt>\n",
      "                           <tt>\n",
      "                                <a href=\"http://manpages.debian.org/cgi-bin/man.cgi?query=a2ensite\">a2ensite</a>,\n",
      "                                <a href=\"http://manpages.debian.org/cgi-bin/man.cgi?query=a2dissite\">a2dissite</a>,\n",
      "                            </tt>\n",
      "                                and\n",
      "                           <tt>\n",
      "                                <a href=\"http://manpages.debian.org/cgi-bin/man.cgi?query=a2enconf\">a2enconf</a>,\n",
      "                                <a href=\"http://manpages.debian.org/cgi-bin/man.cgi?query=a2disconf\">a2disconf</a>\n",
      "                           </tt>. See their respective man pages for detailed information.\n",
      "                        </li>\n",
      "\n",
      "                        <li>\n",
      "                           The binary is called apache2. Due to the use of\n",
      "                           environment variables, in the default configuration, apache2 needs to be\n",
      "                           started/stopped with <tt>/etc/init.d/apache2</tt> or <tt>apache2ctl</tt>.\n",
      "                           <b>Calling <tt>/usr/bin/apache2</tt> directly will not work</b> with the\n",
      "                           default configuration.\n",
      "                        </li>\n",
      "          </ul>\n",
      "        </div>\n",
      "\n",
      "        <div class=\"section_header\">\n",
      "            <div id=\"docroot\"></div>\n",
      "                Document Roots\n",
      "        </div>\n",
      "\n",
      "        <div class=\"content_section_text\">\n",
      "            <p>\n",
      "                By default, Ubuntu does not allow access through the web browser to\n",
      "                <em>any</em> file apart of those located in <tt>/var/www</tt>,\n",
      "                <a href=\"http://httpd.apache.org/docs/2.4/mod/mod_userdir.html\">public_html</a>\n",
      "                directories (when enabled) and <tt>/usr/share</tt> (for web\n",
      "                applications). If your site is using a web document root\n",
      "                located elsewhere (such as in <tt>/srv</tt>) you may need to whitelist your\n",
      "                document root directory in <tt>/etc/apache2/apache2.conf</tt>.\n",
      "            </p>\n",
      "            <p>\n",
      "                The default Ubuntu document root is <tt>/var/www/html</tt>. You\n",
      "                can make your own virtual hosts under /var/www. This is different\n",
      "                to previous releases which provides better security out of the box.\n",
      "            </p>\n",
      "        </div>\n",
      "\n",
      "        <div class=\"section_header\">\n",
      "          <div id=\"bugs\"></div>\n",
      "                Reporting Problems\n",
      "        </div>\n",
      "        <div class=\"content_section_text\">\n",
      "          <p>\n",
      "                Please use the <tt>ubuntu-bug</tt> tool to report bugs in the\n",
      "                Apache2 package with Ubuntu. However, check <a\n",
      "                href=\"https://bugs.launchpad.net/ubuntu/+source/apache2\">existing\n",
      "                bug reports</a> before reporting a new bug.\n",
      "          </p>\n",
      "          <p>\n",
      "                Please report bugs specific to modules (such as PHP and others)\n",
      "                to respective packages, not to the web server itself.\n",
      "          </p>\n",
      "        </div>\n",
      "\n",
      "\n",
      "\n",
      "\n",
      "      </div>\n",
      "    </div>\n",
      "    <div class=\"validator\">\n",
      "    </div>\n",
      "  </body>\n",
      "</html>\n",
      "\n",
      "\n"
     ]
    }
   ],
   "source": [
    "print httpResponse.read()"
   ]
  },
  {
   "cell_type": "code",
   "execution_count": 5,
   "metadata": {},
   "outputs": [
    {
     "data": {
      "text/plain": [
       "['__doc__',\n",
       " '__init__',\n",
       " '__iter__',\n",
       " '__module__',\n",
       " '__repr__',\n",
       " 'close',\n",
       " 'code',\n",
       " 'fileno',\n",
       " 'fp',\n",
       " 'getcode',\n",
       " 'geturl',\n",
       " 'headers',\n",
       " 'info',\n",
       " 'next',\n",
       " 'read',\n",
       " 'readline',\n",
       " 'readlines',\n",
       " 'url']"
      ]
     },
     "execution_count": 5,
     "metadata": {},
     "output_type": "execute_result"
    }
   ],
   "source": [
    "dir(httpResponse)"
   ]
  },
  {
   "cell_type": "code",
   "execution_count": 7,
   "metadata": {},
   "outputs": [
    {
     "data": {
      "text/plain": [
       "['__contains__',\n",
       " '__delitem__',\n",
       " '__doc__',\n",
       " '__getitem__',\n",
       " '__init__',\n",
       " '__iter__',\n",
       " '__len__',\n",
       " '__module__',\n",
       " '__setitem__',\n",
       " '__str__',\n",
       " 'addcontinue',\n",
       " 'addheader',\n",
       " 'dict',\n",
       " 'encodingheader',\n",
       " 'fp',\n",
       " 'get',\n",
       " 'getaddr',\n",
       " 'getaddrlist',\n",
       " 'getallmatchingheaders',\n",
       " 'getdate',\n",
       " 'getdate_tz',\n",
       " 'getencoding',\n",
       " 'getfirstmatchingheader',\n",
       " 'getheader',\n",
       " 'getheaders',\n",
       " 'getmaintype',\n",
       " 'getparam',\n",
       " 'getparamnames',\n",
       " 'getplist',\n",
       " 'getrawheader',\n",
       " 'getsubtype',\n",
       " 'gettype',\n",
       " 'has_key',\n",
       " 'headers',\n",
       " 'iscomment',\n",
       " 'isheader',\n",
       " 'islast',\n",
       " 'items',\n",
       " 'keys',\n",
       " 'maintype',\n",
       " 'parseplist',\n",
       " 'parsetype',\n",
       " 'plist',\n",
       " 'plisttext',\n",
       " 'readheaders',\n",
       " 'rewindbody',\n",
       " 'seekable',\n",
       " 'setdefault',\n",
       " 'startofbody',\n",
       " 'startofheaders',\n",
       " 'status',\n",
       " 'subtype',\n",
       " 'type',\n",
       " 'typeheader',\n",
       " 'unixfrom',\n",
       " 'values']"
      ]
     },
     "execution_count": 7,
     "metadata": {},
     "output_type": "execute_result"
    }
   ],
   "source": [
    "dir(httpResponse.headers)"
   ]
  },
  {
   "cell_type": "code",
   "execution_count": 9,
   "metadata": {},
   "outputs": [
    {
     "data": {
      "text/plain": [
       "[('content-length', '11321'),\n",
       " ('accept-ranges', 'bytes'),\n",
       " ('vary', 'Accept-Encoding'),\n",
       " ('server', 'Apache/2.4.18 (Ubuntu)'),\n",
       " ('last-modified', 'Thu, 21 Dec 2017 06:45:19 GMT'),\n",
       " ('connection', 'close'),\n",
       " ('etag', '\"2c39-560d40b1c666e\"'),\n",
       " ('date', 'Thu, 21 Dec 2017 07:06:59 GMT'),\n",
       " ('content-type', 'text/html')]"
      ]
     },
     "execution_count": 9,
     "metadata": {},
     "output_type": "execute_result"
    }
   ],
   "source": [
    "httpResponse.headers.items()"
   ]
  },
  {
   "cell_type": "code",
   "execution_count": 10,
   "metadata": {},
   "outputs": [
    {
     "data": {
      "text/plain": [
       "['content-length',\n",
       " 'accept-ranges',\n",
       " 'vary',\n",
       " 'server',\n",
       " 'last-modified',\n",
       " 'connection',\n",
       " 'etag',\n",
       " 'date',\n",
       " 'content-type']"
      ]
     },
     "execution_count": 10,
     "metadata": {},
     "output_type": "execute_result"
    }
   ],
   "source": [
    "httpResponse.headers.keys()"
   ]
  },
  {
   "cell_type": "code",
   "execution_count": 2,
   "metadata": {},
   "outputs": [
    {
     "data": {
      "text/plain": [
       "'operation=view&groupId=10'"
      ]
     },
     "execution_count": 2,
     "metadata": {},
     "output_type": "execute_result"
    }
   ],
   "source": [
    "import urllib\n",
    "url = \"http://www.securitytube.net/groups?operation=view&groupID=10\"\n",
    "base_url = \"http://www.securitytube.net/groups\"\n",
    "args = { 'operation': 'view',  'groupId': 10 }\n",
    "encode_args = urllib.urlencode(args)\n",
    "encode_args"
   ]
  },
  {
   "cell_type": "code",
   "execution_count": 4,
   "metadata": {
    "collapsed": true
   },
   "outputs": [],
   "source": [
    "fp2 = urllib.urlopen(base_url + '?' + encode_args)"
   ]
  },
  {
   "cell_type": "code",
   "execution_count": 5,
   "metadata": {},
   "outputs": [
    {
     "data": {
      "text/plain": [
       "200"
      ]
     },
     "execution_count": 5,
     "metadata": {},
     "output_type": "execute_result"
    }
   ],
   "source": [
    "fp2.code"
   ]
  },
  {
   "cell_type": "code",
   "execution_count": 8,
   "metadata": {},
   "outputs": [
    {
     "data": {
      "text/plain": [
       "'itional.dtd\">\\r\\n<html xmlns=\"http://www.w3.org/1999/xhtml\" xml:lang=\"en\" lang=\"en\">\\r\\n\\r\\n<head>\\r\\n<meta name=\"google-site-verification\" content=\"6xTaa3p8o4OQd0L-iD2eRvaDjJR8rxUdSyZ1Etm5LMI\" />\\t\\r\\n\\t<meta http-equiv=\"Content-Type\" content=\"text/html;charset=utf-8\" /> \\r\\n\\t<title>\\r\\n\\t\\r\\n\\t\\r\\n\\t\\r\\n</title>\\r\\n\\r\\n\\t<!-- #meta keywords  -->\\r\\n\\t<meta name=\"keywords\" content=\" \" />\\r\\n      \\r\\n\\t<!-- #meta description  -->\\r\\n\\t<meta name=\"description\" content=\" \" />\\r\\n\\t\\r\\n\\t<meta name=\"apple-mobile-web-app-capable\" content=\"no\" />\\r\\n\\t<meta name=\"apple-mobile-web-app-status-bar-style\" content=\"black\" />\\r\\n\\t<meta name=\"viewport\" content=\"width=device-width,initial-scale=0.69,user-scalable=yes,maximum-scale=1.00\" />\\r\\n\\t\\r\\n\\t<style type=\"text/css\">\\r\\n\\t\\t@import url(\"/css/style.css\");\\r\\n\\t\\t@import url(\"/css/forms.css\");\\r\\n\\t\\t@import url(\"/css/forms-btn.css\");\\r\\n\\t\\t@import url(\"/css/menu.css\");\\r\\n\\t\\t@import url(\\'/css/style_text.css\\');\\r\\n\\t\\t@import url(\"/css/datatables.css\");\\r\\n\\t\\t@import url(\"/css/fullcalendar.css\");\\r\\n\\t\\t@import url(\"/css/pirebo'"
      ]
     },
     "execution_count": 8,
     "metadata": {},
     "output_type": "execute_result"
    }
   ],
   "source": [
    "fp2.read(size=1000)"
   ]
  },
  {
   "cell_type": "code",
   "execution_count": 10,
   "metadata": {},
   "outputs": [
    {
     "data": {
      "text/plain": [
       "200"
      ]
     },
     "execution_count": 10,
     "metadata": {},
     "output_type": "execute_result"
    }
   ],
   "source": [
    "fp2 = urllib.urlopen(base_url)\n",
    "fp2.code"
   ]
  },
  {
   "cell_type": "markdown",
   "metadata": {},
   "source": [
    "Use __BeutifulSoup__ for parsing common web formats. "
   ]
  },
  {
   "cell_type": "code",
   "execution_count": 11,
   "metadata": {
    "collapsed": true
   },
   "outputs": [],
   "source": [
    "from bs4 import BeautifulSoup"
   ]
  },
  {
   "cell_type": "code",
   "execution_count": 12,
   "metadata": {
    "collapsed": true
   },
   "outputs": [],
   "source": [
    "import urllib"
   ]
  },
  {
   "cell_type": "code",
   "execution_count": 13,
   "metadata": {
    "collapsed": true
   },
   "outputs": [],
   "source": [
    "html = urllib.urlopen('http://securitytube.net/video/3000')"
   ]
  },
  {
   "cell_type": "code",
   "execution_count": 14,
   "metadata": {},
   "outputs": [
    {
     "data": {
      "text/plain": [
       "200"
      ]
     },
     "execution_count": 14,
     "metadata": {},
     "output_type": "execute_result"
    }
   ],
   "source": [
    "html.code"
   ]
  },
  {
   "cell_type": "code",
   "execution_count": 15,
   "metadata": {},
   "outputs": [
    {
     "data": {
      "text/plain": [
       "<addinfourl at 140483616827296 whose fp = <socket._fileobject object at 0x7fc4ec698e50>>"
      ]
     },
     "execution_count": 15,
     "metadata": {},
     "output_type": "execute_result"
    }
   ],
   "source": [
    "html"
   ]
  },
  {
   "cell_type": "code",
   "execution_count": 16,
   "metadata": {
    "collapsed": true
   },
   "outputs": [],
   "source": [
    "bt = BeautifulSoup(html.read(), \"lxml\")"
   ]
  },
  {
   "cell_type": "code",
   "execution_count": 20,
   "metadata": {},
   "outputs": [
    {
     "data": {
      "text/plain": [
       "<title>Defcon 19  - The Art Of Trolling</title>"
      ]
     },
     "execution_count": 20,
     "metadata": {},
     "output_type": "execute_result"
    }
   ],
   "source": [
    "bt.title"
   ]
  },
  {
   "cell_type": "code",
   "execution_count": 21,
   "metadata": {},
   "outputs": [
    {
     "data": {
      "text/plain": [
       "u'Defcon 19  - The Art Of Trolling'"
      ]
     },
     "execution_count": 21,
     "metadata": {},
     "output_type": "execute_result"
    }
   ],
   "source": [
    "bt.title.string"
   ]
  },
  {
   "cell_type": "code",
   "execution_count": 22,
   "metadata": {},
   "outputs": [
    {
     "data": {
      "text/plain": [
       "'title'"
      ]
     },
     "execution_count": 22,
     "metadata": {},
     "output_type": "execute_result"
    }
   ],
   "source": [
    "bt.title.name"
   ]
  },
  {
   "cell_type": "code",
   "execution_count": 23,
   "metadata": {},
   "outputs": [
    {
     "data": {
      "text/plain": [
       "<meta content=\"6xTaa3p8o4OQd0L-iD2eRvaDjJR8rxUdSyZ1Etm5LMI\" name=\"google-site-verification\"/>"
      ]
     },
     "execution_count": 23,
     "metadata": {},
     "output_type": "execute_result"
    }
   ],
   "source": [
    "bt.meta"
   ]
  },
  {
   "cell_type": "code",
   "execution_count": 24,
   "metadata": {},
   "outputs": [
    {
     "data": {
      "text/plain": [
       "u'\\n'"
      ]
     },
     "execution_count": 24,
     "metadata": {},
     "output_type": "execute_result"
    }
   ],
   "source": [
    "bt.meta.next"
   ]
  },
  {
   "cell_type": "code",
   "execution_count": 26,
   "metadata": {},
   "outputs": [
    {
     "data": {
      "text/plain": [
       "[<meta content=\"6xTaa3p8o4OQd0L-iD2eRvaDjJR8rxUdSyZ1Etm5LMI\" name=\"google-site-verification\"/>,\n",
       " <meta content=\"text/html;charset=unicode-escape\" http-equiv=\"Content-Type\"/>,\n",
       " <meta content=\" \" name=\"keywords\"/>,\n",
       " <meta content=\" \" name=\"description\"/>,\n",
       " <meta content=\"no\" name=\"apple-mobile-web-app-capable\"/>,\n",
       " <meta content=\"black\" name=\"apple-mobile-web-app-status-bar-style\"/>,\n",
       " <meta content=\"width=device-width,initial-scale=0.69,user-scalable=yes,maximum-scale=1.00\" name=\"viewport\"/>]"
      ]
     },
     "execution_count": 26,
     "metadata": {},
     "output_type": "execute_result"
    }
   ],
   "source": [
    "allMetaTags = bt.find_all('meta')\n",
    "allMetaTags"
   ]
  },
  {
   "cell_type": "code",
   "execution_count": 27,
   "metadata": {},
   "outputs": [
    {
     "data": {
      "text/plain": [
       "'6xTaa3p8o4OQd0L-iD2eRvaDjJR8rxUdSyZ1Etm5LMI'"
      ]
     },
     "execution_count": 27,
     "metadata": {},
     "output_type": "execute_result"
    }
   ],
   "source": [
    "allMetaTags[0]['content']"
   ]
  },
  {
   "cell_type": "code",
   "execution_count": 28,
   "metadata": {},
   "outputs": [
    {
     "name": "stdout",
     "output_type": "stream",
     "text": [
      "/Login?mode=login\n",
      "/\n",
      "#\n",
      "/groups?operation=viewall&groupId=0\n",
      "/listing?type=latest\n",
      "/listing?type=popular\n",
      "#\n",
      "/groups?operation=view&groupId=10\n",
      "/groups?operation=view&groupId=9\n",
      "/groups?operation=view&groupId=7\n",
      "/groups?operation=view&groupId=6\n",
      "/groups?operation=view&groupId=5\n",
      "/groups?operation=view&groupId=4\n",
      "/groups?operation=view&groupId=3\n",
      "/groups?operation=view&groupId=2\n",
      "/groups?operation=view&groupId=1\n",
      "#\n",
      "#\n",
      "/tags/ath-11\n",
      "/tags/ath-10\n",
      "#\n",
      "/tags/blackhat-2012\n",
      "#\n",
      "/tags/Confidence-2011\n",
      "/tags/Confidence-2010\n",
      "#\n",
      "/tags/clubhack\n",
      "#\n",
      "/tags/dc-19\n",
      "/tags/dc-18\n",
      "/tags/dc-17\n",
      "/tags/dc-16\n",
      "/tags/dc-15\n",
      "#\n",
      "/tags/hackinthebox-2011\n",
      "#\n",
      "/tags/hackercon-2011\n",
      "#\n",
      "/tags/notacon-8\n",
      "/tags/notacon-7\n",
      "/tags/notacon-6\n",
      "#\n",
      "/tags/nullcon\n",
      "#\n",
      "/tags/shmoocon-2012\n",
      "/tags/shmoocon-2011\n",
      "#\n",
      "/tags/skydogcon-2011\n",
      "#\n",
      "/tags/swisscyberstorm-2011\n",
      "#\n",
      "#\n",
      "#\n",
      "http://us4.campaign-archive2.com/?u=950872c698a3cf5cfcf752971&id=c1a650ce0f\n",
      "#\n",
      "http://us4.campaign-archive2.com/?u=950872c698a3cf5cfcf752971&id=d7a088440a\n",
      "http://us4.campaign-archive2.com/?u=950872c698a3cf5cfcf752971&id=067c16179e\n",
      "http://securitytube-training.com/?id=cert-link\n",
      "http://securitytube-training.com/certifications/securitytube-python-scripting-expert/\n",
      "http://securitytube-training.com/online-courses/securitytube-linux-assembly-expert/\n",
      "http://securitytube-training.com/online-courses/securitytube-ios-security-expert/\n",
      "http://securitytube-training.com/certifications/securitytube-metasploit-framework-expert/\n",
      "http://securitytube-training.com/certifications/securitytube-wi-fi-security-expert/\n",
      "http://securitytube-training.com/testimonials/\n",
      "http://forums.securitytube.net\n",
      "http://securitytube-tools.net\n",
      "/listing?type=latest\n",
      "/listing?type=popular\n",
      "/groups?operation=viewall&groupId=0\n",
      "http://www.twitter.com/securitytube\n",
      "http://www.facebook.com/pages/SecurityTube/157183860350\n",
      "http://feeds2.feedburner.com/SecurityTube\n",
      "/\n",
      "/listing?type=latest\n",
      "#\n",
      "https://twitter.com/share\n",
      "https://www.defcon.org/images/defcon-19/dc-19-presentations/Joyce/DEFCON-19-Joyce-trollspotting.png\n",
      "/tags/securitytube\n",
      "/tags/defcon\n",
      "/tags/def con\n",
      "/tags/hacking\n",
      "/tags/hackers\n",
      "/tags/information security\n",
      "/tags/convention\n",
      "/tags/computer security\n",
      "/tags/DC 19\n",
      "/tags/Defcon 19\n",
      "/tags/dc-19\n",
      "/Login?mode=login\n",
      "/user/Securitytube_Poster\n",
      "/user/Securitytube_Poster\n",
      "/user/Securitytube_Poster\n",
      "/video/10095\n",
      "/video/10095\n",
      "/video/8395\n",
      "/video/8395\n",
      "/video/8394\n",
      "/video/8394\n",
      "/video/8356\n",
      "/video/8356\n",
      "/video/8355\n",
      "/video/8355\n",
      "/video/8329\n",
      "/video/8329\n",
      "/video/8307\n",
      "/video/8307\n",
      "/video/8274\n",
      "/video/8274\n",
      "/video/8267\n",
      "/video/8267\n",
      "/video/7881\n",
      "/video/7881\n",
      "/video/7875\n",
      "/video/7875\n",
      "/video/6997\n",
      "/video/6997\n",
      "/video/6996\n",
      "/video/6996\n",
      "/video/6984\n",
      "/video/6984\n",
      "/video/6983\n",
      "/video/6983\n",
      "/video/6982\n",
      "/video/6982\n",
      "/video/6981\n",
      "/video/6981\n",
      "/video/6980\n",
      "/video/6980\n",
      "/video/6979\n",
      "/video/6979\n",
      "/video/6977\n",
      "/video/6977\n",
      "http://www.statcounter.com/free_hit_counter.html\n"
     ]
    }
   ],
   "source": [
    "allLinks = bt.find_all('a')\n",
    "for item in allLinks:\n",
    "    print(item['href'])"
   ]
  },
  {
   "cell_type": "code",
   "execution_count": 29,
   "metadata": {},
   "outputs": [
    {
     "data": {
      "text/plain": [
       "u'\\n\\n\\n\\nDefcon 19  - The Art Of Trolling\\n\\n\\n\\n\\n\\n\\n\\n\\r\\n\\t\\t@import url(\"/css/style.css\");\\r\\n\\t\\t@import url(\"/css/forms.css\");\\r\\n\\t\\t@import url(\"/css/forms-btn.css\");\\r\\n\\t\\t@import url(\"/css/menu.css\");\\r\\n\\t\\t@import url(\\'/css/style_text.css\\');\\r\\n\\t\\t@import url(\"/css/datatables.css\");\\r\\n\\t\\t@import url(\"/css/fullcalendar.css\");\\r\\n\\t\\t@import url(\"/css/pirebox.css\");\\r\\n\\t\\t@import url(\"/css/modalwindow.css\");\\r\\n\\t\\t@import url(\"/css/statics.css\");\\r\\n\\t\\t@import url(\"/css/tabs-toggle.css\");\\r\\n\\t\\t@import url(\"/css/system-message.css\");\\r\\n\\t\\t@import url(\"/css/tooltip.css\");\\r\\n\\t\\t@import url(\"/css/wizard.css\");\\r\\n\\t\\t@import url(\"/css/wysiwyg.css\");\\r\\n\\t\\t@import url(\"/css/wysiwyg.modal.css\");\\r\\n\\t\\t@import url(\"/css/wysiwyg-editor.css\");\\r\\n\\t\\t@import url(\"/css/handheld.css\");\\r\\n\\t\\n\\n\\n\\n\\n\\n\\n\\n\\n\\n\\n\\n\\n\\n\\n\\n\\n\\n\\n\\n\\n\\n\\n\\n\\n\\n\\n\\n\\n\\n\\n\\n\\n\\n\\n\\n\\n\\n\\n\\n\\n\\nSecurityTube\\n\\n\\nLogin with Google\\n\\n\\n\\n\\nHome\\nVideos\\n\\nVideo Groups\\n\\nLatest Videos\\nPopular Videos\\n\\n\\nMegaprimers\\n\\nMetasploit Framework Expert\\nWi-Fi Security Expert\\nExploit Research Megaprimer\\nWindows Assembly Language\\nLinux Assembly Megaprimer\\nBuffer Overflow Megaprimer\\nFormat String Exploitation\\nScenario based Pentesting\\nRouter Pentesting\\n\\n\\nHackerCon Videos\\n\\nAthcon\\n\\n2011\\n2010\\n\\n\\nBlackhat\\n\\nEU 2012\\n\\n\\nConfidence\\n\\n2011\\n2010\\n\\n\\nClubhack\\n\\n2011\\n\\n\\nDefcon\\n\\nDC 19\\nDC 18\\nDC 17\\nDC 16\\nDC 15\\n\\n\\nHITB\\n\\n2011\\n\\n\\nHack3rcon\\n\\n2011\\n\\n\\nNotacon\\n\\nNotacon 8\\nNotacon 7\\nNotacon 6\\n\\n\\nNullcon\\n\\n2011\\n\\n\\nShmoocon\\n\\n2012\\n2011\\n\\n\\nSkyDogCon\\n\\n2011\\n\\n\\nSwiss Cyber Storm\\n\\n2011\\n\\n\\n\\n\\n\\nNewsletter\\n\\n2012\\n\\nAugust\\n\\nWeek 4\\n\\n\\nSeptember\\n\\nWeek 1\\nWeek 2\\n\\n\\n\\n\\n\\n\\n\\nCertifications\\n\\nPython Scripting Expert\\nLinux Assembly Expert\\niOS Security Expert\\nMetasploit Framework Expert\\nWi-Fi Security Expert\\nStudent Testimonials\\n\\n\\nDiscussion Forums\\nTools\\n\\n\\n\\n\\n\\n\\n\\n\\n\\n\\n\\n\\n\\n\\n\\nLatest Videos\\nPopular Videos\\nVideo Groups\\n\\n\\n\\n\\n\\n\\nif (!window.AdButler){(function(){var s = document.createElement(\"script\"); s.async = true; s.type = \"text/javascript\";s.src = \\'http://ab166287.adbutler-tachyon.com/app.js\\';var n = document.getElementsByTagName(\"script\")[0]; n.parentNode.insertBefore(s, n);}());}\\n\\r\\nvar AdButler = AdButler || {}; AdButler.ads = AdButler.ads || [];\\r\\nvar abkw = window.abkw || \\'\\';\\r\\nvar plc178449 = window.plc178449 || 0;\\r\\ndocument.write(\\'<div id=\"placement_178449_\\'+plc178449+\\'\"></div>\\');\\r\\nAdButler.ads.push({handler: function(opt){ AdButler.register(166287, 178449, [188,258], \\'placement_178449_\\'+opt.place, opt); }, opt: { place: plc178449++, keywords: abkw, domain: \\'ab166287.adbutler-tachyon.com\\' }});\\r\\n\\n\\n\\n\\n\\n\\nFollow us\\n\\xa0\\xa0\\xa0\\xa0\\xa0\\xa0\\xa0\\xa0\\n\\n\\n\\n\\n\\n\\n\\n\\n\\n\\n\\n\\n\\n\\r\\n  (function() {\\r\\n    var po = document.createElement(\\'script\\'); po.type = \\'text/javascript\\'; po.async = true;\\r\\n    po.src = \\'https://apis.google.com/js/platform.js\\';\\r\\n    var s = document.getElementsByTagName(\\'script\\')[0]; s.parentNode.insertBefore(po, s);\\r\\n  })();\\r\\n\\n\\n\\n\\n\\n\\n\\n\\nHome\\nVideos\\nDefcon 19  - The Art Of Trolling\\n\\n\\n\\n\\n\\n \\r\\n\\t\\t\\t\\t\\t  google.load(\\'search\\', \\'1\\', {language : \\'en\\', style : google.loader.themes.V2_DEFAULT});\\r\\n\\t\\t\\t\\t\\t  google.setOnLoadCallback(function() {\\r\\n\\t\\t\\t\\t\\t    var customSearchOptions = {};  var customSearchControl = new google.search.CustomSearchControl(\\r\\n\\t\\t\\t\\t\\t      \\'002502263197961790250:stc0tpnogvw\\', customSearchOptions);\\r\\n\\t\\t\\t\\t\\t    customSearchControl.setResultSetSize(google.search.Search.FILTERED_CSE_RESULTSET);\\r\\n\\t\\t\\t\\t\\t    var options = new google.search.DrawOptions();\\r\\n\\t\\t\\t\\t\\t    options.enableSearchResultsOnly(); \\r\\n\\t\\t\\t\\t\\t    customSearchControl.draw(\\'cse\\', options);\\r\\n\\t\\t\\t\\t\\t    function parseParamsFromUrl() {\\r\\n\\t\\t\\t\\t\\t      var params = {};\\r\\n\\t\\t\\t\\t\\t      var parts = window.location.search.substr(1).split(\\'\\\\x26\\');\\r\\n\\t\\t\\t\\t\\t      for (var i = 0; i < parts.length; i++) {\\r\\n\\t\\t\\t\\t\\t\\tvar keyValuePair = parts[i].split(\\'=\\');\\r\\n\\t\\t\\t\\t\\t\\tvar key = decodeURIComponent(keyValuePair[0]);\\r\\n\\t\\t\\t\\t\\t\\tparams[key] = keyValuePair[1] ?\\r\\n\\t\\t\\t\\t\\t\\t    decodeURIComponent(keyValuePair[1].replace(/\\\\+/g, \\' \\')) :\\r\\n\\t\\t\\t\\t\\t\\t    keyValuePair[1];\\r\\n\\t\\t\\t\\t\\t      }\\r\\n\\t\\t\\t\\t\\t      return params;\\r\\n\\t\\t\\t\\t\\t    }\\r\\n\\t\\t\\t\\t\\t\\r\\n\\t\\t\\t\\t\\t    var urlParams = parseParamsFromUrl();\\r\\n\\t\\t\\t\\t\\t    var queryParamName = \"q\";\\r\\n\\t\\t\\t\\t\\t    if (urlParams[queryParamName]) {\\r\\n\\t\\t\\t\\t\\t      customSearchControl.execute(urlParams[queryParamName]);\\r\\n\\t\\t\\t\\t\\t    }\\r\\n\\t\\t\\t\\t\\t  }, true);\\r\\n\\t\\t\\t\\t\\t\\n\\n\\n\\r\\n\\t\\t\\t\\tDefcon 19  - The Art Of Trolling\\t\\r\\n\\t\\t\\t\\n\\n\\n\\nif (!window.AdButler){(function(){var s = document.createElement(\"script\"); s.async = true; s.type = \"text/javascript\";s.src = \\'http://ab166287.adbutler-tachyon.com/app.js\\';var n = document.getElementsByTagName(\"script\")[0]; n.parentNode.insertBefore(s, n);}());}\\n\\r\\nvar AdButler = AdButler || {}; AdButler.ads = AdButler.ads || [];\\r\\nvar abkw = window.abkw || \\'\\';\\r\\nvar plc178447 = window.plc178447 || 0;\\r\\ndocument.write(\\'<div id=\"placement_178447_\\'+plc178447+\\'\"></div>\\');\\r\\nAdButler.ads.push({handler: function(opt){ AdButler.register(166287, 178447, [640,240], \\'placement_178447_\\'+opt.place, opt); }, opt: { place: plc178447++, keywords: abkw, domain: \\'ab166287.adbutler-tachyon.com\\' }});\\r\\n\\n\\n\\n\\n \\n\\n\\r\\n\\t\\t\\t\\t\\t\\r\\n\\t\\t\\t\\t\\xa0\\xa0\\r\\n\\t\\t\\t\\t\\xa0\\xa0\\r\\n\\t\\t\\t\\t\\xa0\\xa0\\r\\n\\t\\t\\t\\t\\xa0\\xa0\\r\\n\\t\\t\\t\\t\\xa0\\xa0\\r\\n\\t\\t\\t\\t\\xa0\\xa0\\r\\n\\t\\t\\t\\tTweet\\n\\r\\n\\t\\t\\t\\t\\xa0\\xa0\\xa0\\xa0\\r\\n\\t\\t\\t\\t\\r\\n\\t\\t\\t\\t\\xa0\\xa0\\xa0\\xa0\\r\\n\\t\\t\\t\\t\\n\\n\\n!function(d,s,id){var js,fjs=d.getElementsByTagName(s)[0];if(!d.getElementById(id)){js=d.createElement(s);js.id=id;js.src=\"//platform.twitter.com/widgets.js\";fjs.parentNode.insertBefore(js,fjs);}}(document,\"script\",\"twitter-wjs\");\\n\\n(function(d, s, id) {\\r\\n\\t\\t\\t\\t  var js, fjs = d.getElementsByTagName(s)[0];\\r\\n\\t\\t\\t\\t  if (d.getElementById(id)) return;\\r\\n\\t\\t\\t\\t  js = d.createElement(s); js.id = id;\\r\\n\\t\\t\\t\\t  js.src = \"//connect.facebook.net/en_US/all.js#xfbml=1\";\\r\\n\\t\\t\\t\\t  fjs.parentNode.insertBefore(js, fjs);\\r\\n\\t\\t\\t\\t}(document, \\'script\\', \\'facebook-jssdk\\'));\\n\\r\\n\\t\\t\\t\\t  (function() {\\r\\n\\t\\t\\t\\t    var po = document.createElement(\\'script\\'); po.type = \\'text/javascript\\'; po.async = true;\\r\\n\\t\\t\\t\\t    po.src = \\'https://apis.google.com/js/plusone.js\\';\\r\\n\\t\\t\\t\\t    var s = document.getElementsByTagName(\\'script\\')[0]; s.parentNode.insertBefore(po, s);\\r\\n\\t\\t\\t\\t  })();\\r\\n\\t\\t\\t\\t\\n\\n \\r\\n\\t\\t\\t\\t (function() { \\r\\n\\t\\t\\t\\t     var li = document.createElement(\\'script\\'); li.type = \\'text/javascript\\'; li.async = true; \\r\\n\\t\\t\\t\\t     li.src = window.location.protocol + \\'//platform.stumbleupon.com/1/widgets.js\\'; \\r\\n\\t\\t\\t\\t     var s = document.getElementsByTagName(\\'script\\')[0]; s.parentNode.insertBefore(li, s); \\r\\n\\t\\t\\t\\t })(); \\r\\n\\t\\t\\t\\t \\n\\nDescription: https://www.defcon.org/images/defcon-19/dc-19-presentations/Joyce/DEFCON-19-Joyce-trollspotting.pngTrolling is something that today has a very negative connotation on the Internet and in the common usage of the word outside of it. However, for better or worse trolling has long enjoyed a close relationship with hacking be it in the area of information security, or simply in technology development. I intend to delve into the definition of a troll, the history of trolling in human culture ( as well as its contributions ), and the techniques that are generally exploited by trolls to realize their intended goals. There will be several past projects that I classify as successful trolls that I will use as object lessons in the practical application of the discussed techniques. Trolls span the gaps between hardware and software projects and at times can carry a variety of \"payloads\".Matt \\'openfly\\' Joyce is pretty well known in some circles for having amassed a rather staggeringly large number of klines, olines, ilines, and glines in his many years on irc. In addition to IRC bans, he has been firewalled from Fark, physically barred from attending the HOPE conference, and once introduced in a videocasted Unreal 2004 competitive gaming tournament as \"the guy that has been banned from just about every server and forum known to the internet\". In addition to this staggering list of anti-accomplishments, Matt has been an invited member of NYC Resistor, a Maker, and an all around great person whom many ladies would love to share their special lady parts with. He also works on open source federal cloud platforms, fonera2.0n images for the ChaosVPN project and occasionally spends time in the company of puppies. In his free time, Matt loves drinking single malt scotch while discussing the markets of the orient, from the confines of exclusive gentlemen\\'s clubs. This talk is dedicated to the memory of Macho Man Randy Savage and Ronald Reagan.@openfly\\r\\n\\r\\n\\r\\n\\t\\t\\t\\t\\n\\nTags: securitytube ,   defcon ,   def con ,   hacking ,   hackers ,   information security ,   convention ,   computer security ,   DC 19 ,   Defcon 19 ,   dc-19 ,  \\r\\n\\t\\t\\t\\t\\n\\n\\n\\nif (!window.AdButler){(function(){var s = document.createElement(\"script\"); s.async = true; s.type = \"text/javascript\";s.src = \\'http://ab166287.adbutler-tachyon.com/app.js\\';var n = document.getElementsByTagName(\"script\")[0]; n.parentNode.insertBefore(s, n);}());}\\n\\r\\nvar AdButler = AdButler || {}; AdButler.ads = AdButler.ads || [];\\r\\nvar abkw = window.abkw || \\'\\';\\r\\nvar plc178448 = window.plc178448 || 0;\\r\\ndocument.write(\\'<div id=\"placement_178448_\\'+plc178448+\\'\"></div>\\');\\r\\nAdButler.ads.push({handler: function(opt){ AdButler.register(166287, 178448, [640,250], \\'placement_178448_\\'+opt.place, opt); }, opt: { place: plc178448++, keywords: abkw, domain: \\'ab166287.adbutler-tachyon.com\\' }});\\r\\n\\n\\n\\n\\nDisclaimer: We are a infosec video aggregator and this video is linked from an external website. The original author may be different from the user re-posting/linking it here. Please do not assume the authors to be same without verifying.\\n\\nComments:\\n\\n\\n\\n Login to post a comment\\n\\n\\n\\n\\n\\n\\r\\n\\t\\t\\t\\tVideo Posted By\\t\\r\\n\\t\\t\\t\\n\\n\\n\\n\\r\\n\\t\\t\\t\\t\\t\\r\\n\\t\\t\\t\\t\\tBy Securitytube_Poster\\n\\r\\n\\t\\t\\t\\t\\t15252 Views, Posted Thu 15 Mar 2012 ago\\r\\n\\t\\t\\t\\t\\t\\nView All His Videos\\n\\n\\n\\n\\n\\r\\n\\t\\t\\t\\tST Course Videos\\t\\r\\n\\t\\t\\t\\n\\n\\n\\n\\nDefeating Getimagesize() Checks In File Uploads\\n\\n\\n\\nChallenge 6: Digest Authentication Reloaded\\n\\n\\n\\nChallenge 5: Digest Authentication Attack\\n\\n\\n\\nBasic Authentication And Form Bruteforcing\\n\\n\\n\\nHttp Basic Authentication Attack (Easy)\\n\\n\\n\\nChallenge 2: Http Form Attacks Reloaded\\n\\n\\n\\nHttp Verb Tampering Demo\\n\\n\\n\\nWeb Application Pentesting Course Introduction\\n\\n\\n\\nIntroducing Pentester Academy\\n\\n\\n\\nHack Of The Day 13: Remote Shellcode Launcher: Testing Shellcode Over A Network\\n\\n\\n\\nHack Of The Day 12: Pivots And Port Forwards In Scenario Based Pentesting\\n\\n\\n\\nHack Of The Day: Customizing Shellcode For Fun And Profit\\n\\n\\n\\nHack Of The Day: How Do I Run Untrusted Shellcode?\\n\\n\\n\\nSecuritytube Linux Assembly Expert Exam Format\\n\\n\\n\\n[Slae] Writing An Custom Insertion Encoder\\n\\n\\n\\n[Slae] Execve Shellcode Stack Method\\n\\n\\n\\n[Slae] Shellcoding Basics\\n\\n\\n\\n[Slae] Using Libc And Nasm\\n\\n\\n\\n[Slae] Hello World In Assembly Language\\n\\n\\n\\n[Slae] What Is Assembly Language?\\n\\n\\n\\n\\n\\n\\n\\n\\n\\n   (function(i,s,o,g,r,a,m){i[\\'GoogleAnalyticsObject\\']=r;i[r]=i[r]||function(){   (i[r].q=i[r].q||[]).push(arguments)},i[r].l=1*new Date();a=s.createElement(o),   m=s.getElementsByTagName(o)[0];a.async=1;a.src=g;m.parentNode.insertBefore(a,m)   })(window,document,\\'script\\',\\'//www.google-analytics.com/analytics.js\\',\\'ga\\');\\r\\n  ga(\\'create\\', \\'UA-4126932-1\\', \\'auto\\');   ga(\\'send\\', \\'pageview\\');\\r\\n\\n\\n\\r\\n\\t\\tsc_project=3617709; \\r\\n\\t\\tsc_invisible=1; \\r\\n\\t\\tsc_partition=42; \\r\\n\\t\\tsc_security=\"ace69247\"; \\r\\n\\t\\t\\n\\n\\r\\n.votecard {\\r\\n\\tbackground: url(/images/sprite.png) no-repeat 0 0;\\r\\n\\tpadding: 4px;\\r\\n\\twidth: 63px;\\r\\n\\theight: 43px;\\r\\n\\ttext-align: center;\\r\\n}\\r\\n\\r\\n.votecard div {\\r\\n\\tposition: relative;\\r\\n\\toverflow: hidden;\\r\\n\\twidth: 63px;\\r\\n\\theight: 43px;\\r\\n}\\r\\n\\r\\n.votecard em {\\r\\n\\tdisplay: block;\\r\\n\\tposition: relative;\\r\\n\\twidth: 63px;\\r\\n\\theight: 33px;\\r\\n\\tpadding: 6px 0 6px 0;\\r\\n\\tfont: normal 24px/24px \"Helvetica Neue\",\"Helvetica\",\"Arial\",Sans-serif;\\r\\n\\tcolor: #45453f;\\r\\n}\\r\\n.votecard strong {\\r\\n\\tfont-weight: bold;\\r\\n}\\r\\n.votecard span {\\r\\n\\tfont-size: 10px;\\r\\n\\tline-height: 10px;\\r\\n\\tdisplay: block;\\r\\n\\tcolor: #9a9a94;\\r\\n}\\r\\n\\r\\na.voteactionq {\\r\\n\\tmargin: 0 0 0 3px;\\r\\n\\tdisplay: block;\\r\\n\\ttext-indent: -9999px;\\r\\n\\twidth: 71px;\\r\\n\\theight: 21px;\\r\\n\\tbackground: url(/images/sprite.png) no-repeat -3px -75px;\\r\\n}\\r\\na.voteactionq:hover {\\r\\n\\toutline: none;\\r\\n\\tbackground-position: -3px -54px;\\r\\n}\\r\\n\\r\\na.voteaction {\\r\\n\\tmargin: 0 0 0 3px;\\r\\n\\tdisplay: block;\\r\\n\\ttext-indent: -9999px;\\r\\n\\twidth: 71px;\\r\\n\\theight: 21px;\\r\\n\\tbackground: url(/images/sprite.png) no-repeat -3px -75px;\\r\\n}\\r\\na.voteaction:hover {\\r\\n\\toutline: none;\\r\\n\\tbackground-position: -3px -54px;\\r\\n}\\r\\na.voted,\\r\\na.voted:hover {\\r\\n\\toutline: none;\\r\\n\\tbackground-position: -3px -96px;\\r\\n\\tcursor: default;\\r\\n}\\r\\n\\r\\n\\n\\ntry{ clicky.init(100698525); }catch(e){}\\n\\n\\n\\n'"
      ]
     },
     "execution_count": 29,
     "metadata": {},
     "output_type": "execute_result"
    }
   ],
   "source": [
    "bt.get_text()  # can be used for data mining, raw text "
   ]
  },
  {
   "cell_type": "markdown",
   "metadata": {},
   "source": [
    "#### Screen Scaper "
   ]
  },
  {
   "cell_type": "code",
   "execution_count": null,
   "metadata": {
    "collapsed": true
   },
   "outputs": [],
   "source": [
    "bs = BeautifulSoup(html, \"lxml\")\n",
    "# description tag\n",
    "descr = bs.find('div', id='description')\n",
    "allLinks = descr.find_all('a')\n",
    "text = descr.get_text()\n",
    "\n",
    "videoLink = bs.find('iframe', { 'title' : 'YouTube video player'})"
   ]
  },
  {
   "cell_type": "markdown",
   "metadata": {
    "collapsed": true
   },
   "source": [
    "#### Form Parsing \n",
    "Mechanize: a python module that allows for stateful programming and browser simulation. "
   ]
  },
  {
   "cell_type": "code",
   "execution_count": 1,
   "metadata": {
    "collapsed": true
   },
   "outputs": [],
   "source": [
    "import mechanize"
   ]
  },
  {
   "cell_type": "code",
   "execution_count": 3,
   "metadata": {
    "collapsed": true
   },
   "outputs": [],
   "source": [
    "from bs4 import BeautifulSoup"
   ]
  },
  {
   "cell_type": "code",
   "execution_count": 4,
   "metadata": {
    "collapsed": true
   },
   "outputs": [],
   "source": [
    "br = mechanize.Browser()"
   ]
  },
  {
   "cell_type": "code",
   "execution_count": 5,
   "metadata": {},
   "outputs": [
    {
     "data": {
      "text/plain": [
       "<response_seek_wrapper at 0x7fbc9dbb7440 whose wrapped object = <closeable_response at 0x7fbc9dbb71b8 whose fp = <socket._fileobject object at 0x7fbc9edd6550>>>"
      ]
     },
     "execution_count": 5,
     "metadata": {},
     "output_type": "execute_result"
    }
   ],
   "source": [
    "br.open('http://www.securitytube.net/video/3000')"
   ]
  },
  {
   "cell_type": "code",
   "execution_count": 6,
   "metadata": {},
   "outputs": [
    {
     "name": "stdout",
     "output_type": "stream",
     "text": [
      "<GET http://www.securitytube.net/video/3000 application/x-www-form-urlencoded\n",
      "  <TextControl(q=)>\n",
      "  <SubmitButtonControl(<None>=) (readonly)>>\n"
     ]
    }
   ],
   "source": [
    "for form in br.forms():\n",
    "    print form"
   ]
  },
  {
   "cell_type": "code",
   "execution_count": 7,
   "metadata": {
    "collapsed": true
   },
   "outputs": [],
   "source": [
    "br.select_form(nr=0)"
   ]
  },
  {
   "cell_type": "code",
   "execution_count": 8,
   "metadata": {
    "collapsed": true
   },
   "outputs": [],
   "source": [
    "br.form['q'] = 'defcon'"
   ]
  },
  {
   "cell_type": "code",
   "execution_count": 9,
   "metadata": {},
   "outputs": [
    {
     "data": {
      "text/plain": [
       "<response_seek_wrapper at 0x7fbc9dbce3b0 whose wrapped object = <closeable_response at 0x7fbc9dba8c20 whose fp = <socket._fileobject object at 0x7fbc9d2d96d0>>>"
      ]
     },
     "execution_count": 9,
     "metadata": {},
     "output_type": "execute_result"
    }
   ],
   "source": [
    "br.submit()"
   ]
  },
  {
   "cell_type": "code",
   "execution_count": null,
   "metadata": {
    "collapsed": true
   },
   "outputs": [],
   "source": []
  }
 ],
 "metadata": {
  "kernelspec": {
   "display_name": "Python [default]",
   "language": "python",
   "name": "python2"
  },
  "language_info": {
   "codemirror_mode": {
    "name": "ipython",
    "version": 2
   },
   "file_extension": ".py",
   "mimetype": "text/x-python",
   "name": "python",
   "nbconvert_exporter": "python",
   "pygments_lexer": "ipython2",
   "version": "2.7.13"
  }
 },
 "nbformat": 4,
 "nbformat_minor": 2
}
