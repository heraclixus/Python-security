{
 "cells": [
  {
   "cell_type": "markdown",
   "metadata": {},
   "source": [
    "# Attack on TCP\n",
    "\n",
    "### Sample TCP program (client and server) \n",
    "```c\n",
    "#include <stdio.h>\n",
    "#include <string.h>\n",
    "#include <unistd.h> \n",
    "#include <sys/socket.h>\n",
    "#include <netinet/ip.h>\n",
    "\n",
    "int main() \n",
    "{\n",
    "    // step 1: create a socket\n",
    "    int sockfd = socket(AF_INET, SOCK_STREAM, 0); \n",
    "    \n",
    "    // step 2: set the destination information \n",
    "    struct sockaddr_in dest;\n",
    "    memset(&dest, 0, sizeof(struct sockaddr_in));\n",
    "    dest.sin_family = AF_INET;\n",
    "    dest.sin_addr.s_addr = inet_addr(\"10.11.0.45\");\n",
    "    dest.sin_port = htons(9090); \n",
    "    \n",
    "    // step3: connect to the server\n",
    "    connect(sockfd, (struct sockaddr *) &dest, sizeof(struct sockaddr_in)); \n",
    "    \n",
    "    // step4: send data to the server\n",
    "    char *buffer1 = \"hello server!\\n\");\n",
    "    char *buffer2 = \"hello again!\\n\");\n",
    "    write(sockfd, buffer1, strlen(buffer1)); \n",
    "    \n",
    "    write(sockfd, buffer2, strlen(buffer2)); \n",
    "    \n",
    "    // step5: close the connection \n",
    "    close(sockfd);\n",
    "    return 0; \n",
    "}\n",
    "```\n",
    "\n"
   ]
  },
  {
   "cell_type": "markdown",
   "metadata": {},
   "source": [
    "Unlike UDP, TCP sets up end-to-end connections, and therefore, a TCP client has following steps:\n",
    "* __Step1: Create a socket__: in particular socket is set to be SOCK_STREAM\n",
    "* __Step2: Set the destination information__; this is the same as UDP \n",
    "* __Step3: Connect to the sever__: this shows the connection-oriented property of TCP. A connection is defined by the 4-tuple (source IP, source port, destination IP, destination port)\n",
    "* __Step4: send and receive data__; both ends can send and receive data, via methods such as `write(), send(), sendto(), sendmsg(), read(), recv(), recvfrom(), recvmsg()` system calls \n",
    "* __Step5: Close connection__: using the `close()` system call.\n"
   ]
  },
  {
   "cell_type": "markdown",
   "metadata": {},
   "source": [
    "```c \n",
    "// TCP server\n",
    "#include <stdio.h>\n",
    "#include <string.h>\n",
    "#include <sys/socket.h>\n",
    "#include <netinet/ip.h>\n",
    "#include <unistd.h>\n",
    "\n",
    "int main() \n",
    "{\n",
    "    int sockfd, newsockfd;\n",
    "    struct sockaddr_in my_addr, client_addr; \n",
    "    char buffer[100];\n",
    "    \n",
    "    // Step1: create a socket\n",
    "    sockfd = socket(AF_INET, SOCK_STREAM, 0); \n",
    "    \n",
    "    // step2: bind to a port number \n",
    "    memset(&my_addr, 0, sizeof(struct sockaddr_in)); \n",
    "    my_addr.sin_family = AF_INET;\n",
    "    my_addr.sin_port = htons(9090);\n",
    "    \n",
    "    bind(sockfd, (struct sockaddr *) &my_addr, sizeof(struct sockaddr_in_)); \n",
    "    \n",
    "    // step3: listen for connections \n",
    "    listen(sockfd, 5);\n",
    "    \n",
    "    // step4: accept a connection request \n",
    "    int client_len = sizeof(client_addr); \n",
    "    newsockfd = accept(sockfd, (struct sockaddr *) &client_addr, &client_len); \n",
    "    \n",
    "    // step5: read data from connection\n",
    "    memset(buffer, 0, sizeof(buffer));\n",
    "    int len = read(newsockfd, buffer, 100); \n",
    "    printf(\"received %b bytes: %s\\n\", len, buffer); \n",
    "    \n",
    "    // step6: close the connection\n",
    "    close(newsockfd);\n",
    "    close(sockfd); \n",
    "    \n",
    "    return 0; \n",
    "}\n",
    "```\n",
    "\n",
    "The phases for a TCP server are: \n",
    "* __Step1: create a socket__\n",
    "* __Step2: Bind to a port number__. Register a port number to receive packets, so that OS knows which application to turn to. `bind()` is used for binding a port with a  sockaddr struct. \n",
    "* __Step3: Listen for Connections__. Once socket is setup, TCP programs call `listen()` system call to wait for connections. The call __is non-block__, so it tells system that the application is ready for receiving connection requests. (it is event based). Once a connection request is received, the OS will go through TCP three-way handshake protocol with the client to establish a connection. second argument specifies maximum size of queued connection requests. If queue is full, no further connection can be made. \n",
    "* __Step4: Accept a Connection request__: `accept()` is called to extract the first connection request in the queue, create a new socket, and return a new file descriptor referring to that socket. The call __will block__ the calling application if there are no pending connections, unless the socket is marked as non-blocking.\n",
    "* __Step5: Send and receive data__: This is similar to the client program. "
   ]
  },
  {
   "cell_type": "markdown",
   "metadata": {},
   "source": [
    "### Sample multiple connections TCP program\n",
    "```c\n",
    "// only after the listen syscall needs change \n",
    "listen(sockfd, 5);\n",
    "\n",
    "int client_len = sizeof(client_addr);\n",
    "// use multiprocessing for multiple connections \n",
    "while (1) {\n",
    "    newsockfd = accept(sockfd, (struct sockaddr *) &client_addr, &client_len);\n",
    "    if (fork() == 0) {\n",
    "        close(sockfd);\n",
    "        \n",
    "        memset(buffer, 0, sizeof(buffer));\n",
    "        int len = read(newsockfd, buffer, 100);\n",
    "        printf(\"Received %d bytes. \\n %s \\n\", len, buffer);\n",
    "        \n",
    "        close(newsockfd);\n",
    "        return 0;\n",
    "    }\n",
    "    else {\n",
    "        close(newsockfd);\n",
    "    }\n",
    "}\n",
    "```"
   ]
  },
  {
   "cell_type": "markdown",
   "metadata": {},
   "source": [
    "### TCP Header Examination \n",
    "![TCP](image_files/tcp.png)"
   ]
  },
  {
   "cell_type": "markdown",
   "metadata": {},
   "source": [
    "The TCP part of the IP packet is called _TCP segment_. It starts with TCP header, followed by a payload. <br>\n",
    "* __Source and Destination port__: 16 bits, specify source and dest port number \n",
    "* __Sequence Number__: 32 bits, specifies the sequence number of the first octet in this TCP segment. If `SYN` bit is set, then sequence number is the initial sequence number.\n",
    "* __Acknowledge Number__: 32 bits, only valid when `ACK` is set. It contains the value of the next sequence number expected by the sender of this segment. \n",
    "* __Header Length__: The length of the TCP header is measured by the number of 32-bit words in the header, so we need to multiply the value in this field by 4 to get the number of octets in the TCP header. \n",
    "* __Reserved__: The field not used.\n",
    "* __Code bits__: 6 bits, `SYN, FIN, ACK, RST, PSH, URG`, all for different functionalities. \n",
    "* __Window__: 16 bits, used for flow control and congestion control \n",
    "* __Checksum__: computed from TCP pseudoheader \n",
    "* __Urgent Pointer__: 16 bits, used when priority and emergency is desired. The pointer specifies where the urgent data ends and when the TCP data starts.\n",
    "* __Options__: TCP segments can carry a variable length of options, which provide a way to deal with the limitations of the original header. "
   ]
  },
  {
   "cell_type": "markdown",
   "metadata": {},
   "source": [
    "### SYN Flood Attack\n",
    "#### Three way handshake \n",
    "![3-way](image_files/three.png)"
   ]
  },
  {
   "cell_type": "markdown",
   "metadata": {},
   "source": [
    "* First, the client sends a special packet called `SYN` packet to the server, using a randomly generated number as its sequence number. The packet is called `SYN` packet because `SYN` bit in TCP header is set to one. \n",
    "* Second, after the server receives the packet, it replies with a `SYN+ACK` packet, with both `SYN` and `ACK` bits set to one. The server also chooses its own randomly generated number as its initial sequence number.\n",
    "* Third, when the client get this packet, it sends out a `ACK` packet to conclude the handshake.\n",
    "\n",
    "One caveat is that when the server receives the initial `SYN` packet, it uses a special data structure called Transmission Control Block (__TCB__) to store the information about this connection. <br>\n",
    "At this step, the connection is not fully established yet; it is called a __half-open conneciton__. Now, only the client-to-server direction of the connection is confirmed, and the server-to-client direction has not been initialized yet. After the server gets the `ACK` packet from the client, it will take this TCB out of the queue, and store it to a different place. <br>\n",
    "If the final `ACK` packe does not come, the server will resend its `SYN + ACK` packet. If the final ACK packet never comes, the TCB stored in the half open connection queue will eventually time out and be discarded."
   ]
  },
  {
   "cell_type": "code",
   "execution_count": null,
   "metadata": {
    "collapsed": true
   },
   "outputs": [],
   "source": []
  }
 ],
 "metadata": {
  "kernelspec": {
   "display_name": "Python [default]",
   "language": "python",
   "name": "python2"
  },
  "language_info": {
   "codemirror_mode": {
    "name": "ipython",
    "version": 2
   },
   "file_extension": ".py",
   "mimetype": "text/x-python",
   "name": "python",
   "nbconvert_exporter": "python",
   "pygments_lexer": "ipython2",
   "version": "2.7.13"
  }
 },
 "nbformat": 4,
 "nbformat_minor": 2
}
