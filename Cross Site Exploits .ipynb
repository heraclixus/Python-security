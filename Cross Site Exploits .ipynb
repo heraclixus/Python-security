{
 "cells": [
  {
   "cell_type": "markdown",
   "metadata": {},
   "source": [
    "# Cross Site Exploits \n",
    "\n",
    "## Cross Site Request Forgery \n",
    "This type of exploit happens on a malicious web page: when viewed by the victim, it sends a forged request to a targeted website on behalf of the victim. Since the request normally comes from a third-party web page, it is called cross-site request. <br>\n",
    "When a page from a website sends an HTTP request back to the website, it is called __same-site request__. If the request is sent to a different website, it is called __cross site request__. <br>\n",
    "If a website embeds an image from another website, then HTTP request used to fetch the image is a cross-site request. Online advertisers use cross-site requests to help display relevant advertisements to users, such that when the user visits the advertisements, they send HTTP request to the advertisement servers. \n",
    "![CSR](./image_files/CSR.png)"
   ]
  },
  {
   "cell_type": "markdown",
   "metadata": {},
   "source": [
    "The server does not know whether the HTTP request is same-site or cross-site, this is because the browser sends all the cookies belonging to the server's domain name every time it sends HTTP request. <br>\n",
    "This introduces vulnerabilities, because whereas requests from the web's same pages are trusted, those coming from other sites cannot be trusted. Therefore, it is important for a website to know whether a request is cross-site or same-site. __Cross-Site Request Forgery (CSRF)__ is the scenario where a third-party website forges requests that are exactly the same as those in same-site requests. "
   ]
  },
  {
   "cell_type": "markdown",
   "metadata": {},
   "source": [
    "### The CSRF Exploit Mechanism\n",
    "The attack scenario involves three parties: \n",
    "* the attacker's malicious site\n",
    "* the victim's browser \n",
    "* the target website for attacker to send HTTP request \n",
    "\n",
    "\n",
    "The conditions for each are:\n",
    "\n",
    "* The victim has to visit the malicious site set by attacker\n",
    "* The victim has to have an active session to the target site at the same time. (that is, logged in) \n",
    "* The Malicious site forges a cross-site HTTP request to target website."
   ]
  },
  {
   "cell_type": "code",
   "execution_count": null,
   "metadata": {},
   "outputs": [],
   "source": []
  }
 ],
 "metadata": {
  "kernelspec": {
   "display_name": "Python 3",
   "language": "python",
   "name": "python3"
  },
  "language_info": {
   "codemirror_mode": {
    "name": "ipython",
    "version": 3
   },
   "file_extension": ".py",
   "mimetype": "text/x-python",
   "name": "python",
   "nbconvert_exporter": "python",
   "pygments_lexer": "ipython3",
   "version": "3.5.0"
  }
 },
 "nbformat": 4,
 "nbformat_minor": 2
}
